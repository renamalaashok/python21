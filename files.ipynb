{
 "cells": [
  {
   "cell_type": "code",
   "execution_count": 1,
   "metadata": {
    "collapsed": true
   },
   "outputs": [],
   "source": [
    "f=open('data.csv','r')\n",
    "data = f.read()"
   ]
  },
  {
   "cell_type": "code",
   "execution_count": 2,
   "metadata": {
    "collapsed": false
   },
   "outputs": [
    {
     "name": "stdout",
     "output_type": "stream",
     "text": [
      "id,name,salary,address\n",
      "1,name1,1234,ad1\n",
      "2,name2,4567,ad2\n",
      "3,name3,8910,ad1\n",
      "4,name4,111213,ad2\n",
      "5,name5,1235,ad2\n",
      "6,name6,4568,ad3\n",
      "7,name7,8911,ad2\n",
      "8,name8,111214,ad3\n",
      "9,name9,1236,ad3\n",
      "10,name10,4569,ad4\n",
      "11,name11,8912,ad3\n",
      "12,name12,111215,ad4\n",
      "13,name13,1237,ad4\n",
      "14,name14,4570,ad5\n",
      "15,name15,8913,ad4\n",
      "16,name16,111216,ad5\n",
      "17,name17,1238,ad5\n",
      "18,name18,4571,ad6\n",
      "19,name19,8914,ad5\n",
      "20,name20,111217,ad6\n",
      "21,name21,1239,ad6\n",
      "22,name22,4572,ad7\n",
      "23,name23,8915,ad6\n",
      "24,name24,111218,ad7\n",
      "25,name25,1240,ad7\n",
      "26,name26,4573,ad8\n",
      "27,name27,8916,ad7\n",
      "28,name28,111219,ad8\n",
      "29,name29,1241,ad8\n",
      "30,name30,4574,ad9\n",
      "31,name31,8917,ad8\n",
      "\n"
     ]
    }
   ],
   "source": [
    "print data"
   ]
  },
  {
   "cell_type": "code",
   "execution_count": 3,
   "metadata": {
    "collapsed": false
   },
   "outputs": [
    {
     "name": "stdout",
     "output_type": "stream",
     "text": [
      "<type 'str'>\n"
     ]
    }
   ],
   "source": [
    "print type(data)"
   ]
  },
  {
   "cell_type": "code",
   "execution_count": 4,
   "metadata": {
    "collapsed": false
   },
   "outputs": [
    {
     "data": {
      "text/plain": [
       "'id,name,salary,address\\n1,name1,1234,ad1\\n2,name2,4567,ad2\\n3,name3,8910,ad1\\n4,name4,111213,ad2\\n5,name5,1235,ad2\\n6,name6,4568,ad3\\n7,name7,8911,ad2\\n8,name8,111214,ad3\\n9,name9,1236,ad3\\n10,name10,4569,ad4\\n11,name11,8912,ad3\\n12,name12,111215,ad4\\n13,name13,1237,ad4\\n14,name14,4570,ad5\\n15,name15,8913,ad4\\n16,name16,111216,ad5\\n17,name17,1238,ad5\\n18,name18,4571,ad6\\n19,name19,8914,ad5\\n20,name20,111217,ad6\\n21,name21,1239,ad6\\n22,name22,4572,ad7\\n23,name23,8915,ad6\\n24,name24,111218,ad7\\n25,name25,1240,ad7\\n26,name26,4573,ad8\\n27,name27,8916,ad7\\n28,name28,111219,ad8\\n29,name29,1241,ad8\\n30,name30,4574,ad9\\n31,name31,8917,ad8\\n'"
      ]
     },
     "execution_count": 4,
     "metadata": {},
     "output_type": "execute_result"
    }
   ],
   "source": [
    "data"
   ]
  },
  {
   "cell_type": "code",
   "execution_count": 6,
   "metadata": {
    "collapsed": false
   },
   "outputs": [
    {
     "name": "stdout",
     "output_type": "stream",
     "text": [
      "i\n"
     ]
    }
   ],
   "source": [
    "for k in data:\n",
    "    print k\n",
    "    break"
   ]
  },
  {
   "cell_type": "code",
   "execution_count": 7,
   "metadata": {
    "collapsed": true
   },
   "outputs": [],
   "source": [
    "lines  =data.split('\\n')"
   ]
  },
  {
   "cell_type": "code",
   "execution_count": 8,
   "metadata": {
    "collapsed": false
   },
   "outputs": [
    {
     "data": {
      "text/plain": [
       "['id,name,salary,address',\n",
       " '1,name1,1234,ad1',\n",
       " '2,name2,4567,ad2',\n",
       " '3,name3,8910,ad1',\n",
       " '4,name4,111213,ad2',\n",
       " '5,name5,1235,ad2',\n",
       " '6,name6,4568,ad3',\n",
       " '7,name7,8911,ad2',\n",
       " '8,name8,111214,ad3',\n",
       " '9,name9,1236,ad3',\n",
       " '10,name10,4569,ad4',\n",
       " '11,name11,8912,ad3',\n",
       " '12,name12,111215,ad4',\n",
       " '13,name13,1237,ad4',\n",
       " '14,name14,4570,ad5',\n",
       " '15,name15,8913,ad4',\n",
       " '16,name16,111216,ad5',\n",
       " '17,name17,1238,ad5',\n",
       " '18,name18,4571,ad6',\n",
       " '19,name19,8914,ad5',\n",
       " '20,name20,111217,ad6',\n",
       " '21,name21,1239,ad6',\n",
       " '22,name22,4572,ad7',\n",
       " '23,name23,8915,ad6',\n",
       " '24,name24,111218,ad7',\n",
       " '25,name25,1240,ad7',\n",
       " '26,name26,4573,ad8',\n",
       " '27,name27,8916,ad7',\n",
       " '28,name28,111219,ad8',\n",
       " '29,name29,1241,ad8',\n",
       " '30,name30,4574,ad9',\n",
       " '31,name31,8917,ad8',\n",
       " '']"
      ]
     },
     "execution_count": 8,
     "metadata": {},
     "output_type": "execute_result"
    }
   ],
   "source": [
    "lines"
   ]
  },
  {
   "cell_type": "code",
   "execution_count": 10,
   "metadata": {
    "collapsed": false
   },
   "outputs": [
    {
     "name": "stdout",
     "output_type": "stream",
     "text": [
      "id,name,salary,address\n"
     ]
    }
   ],
   "source": [
    "for line in lines:\n",
    "    print line\n",
    "    break"
   ]
  },
  {
   "cell_type": "code",
   "execution_count": 11,
   "metadata": {
    "collapsed": true
   },
   "outputs": [],
   "source": [
    "f=open('data.csv','r')\n",
    "data = f.readlines()\n"
   ]
  },
  {
   "cell_type": "code",
   "execution_count": 12,
   "metadata": {
    "collapsed": false
   },
   "outputs": [
    {
     "data": {
      "text/plain": [
       "list"
      ]
     },
     "execution_count": 12,
     "metadata": {},
     "output_type": "execute_result"
    }
   ],
   "source": [
    "type(data)"
   ]
  },
  {
   "cell_type": "code",
   "execution_count": 13,
   "metadata": {
    "collapsed": false
   },
   "outputs": [
    {
     "data": {
      "text/plain": [
       "'id,name,salary,address\\n'"
      ]
     },
     "execution_count": 13,
     "metadata": {},
     "output_type": "execute_result"
    }
   ],
   "source": [
    "data[0]"
   ]
  },
  {
   "cell_type": "code",
   "execution_count": 14,
   "metadata": {
    "collapsed": false
   },
   "outputs": [
    {
     "data": {
      "text/plain": [
       "'1,name1,1234,ad1\\n'"
      ]
     },
     "execution_count": 14,
     "metadata": {},
     "output_type": "execute_result"
    }
   ],
   "source": [
    "data[1]"
   ]
  },
  {
   "cell_type": "code",
   "execution_count": 15,
   "metadata": {
    "collapsed": false
   },
   "outputs": [
    {
     "name": "stdout",
     "output_type": "stream",
     "text": [
      "id,name,salary,address\n",
      "\n"
     ]
    }
   ],
   "source": [
    "for i in data:\n",
    "    print i\n",
    "    break"
   ]
  },
  {
   "cell_type": "code",
   "execution_count": 17,
   "metadata": {
    "collapsed": false
   },
   "outputs": [
    {
     "name": "stdout",
     "output_type": "stream",
     "text": [
      ",name\n",
      "name1\n",
      "name2\n",
      "name3\n",
      "name4\n",
      "name5\n",
      "name6\n",
      "name7\n",
      "name8\n",
      "name9\n",
      ",name\n",
      ",name\n",
      ",name\n",
      ",name\n",
      ",name\n",
      ",name\n",
      ",name\n",
      ",name\n",
      ",name\n",
      ",name\n",
      ",name\n",
      ",name\n",
      ",name\n",
      ",name\n",
      ",name\n",
      ",name\n",
      ",name\n",
      ",name\n",
      ",name\n",
      ",name\n",
      ",name\n",
      ",name\n"
     ]
    }
   ],
   "source": [
    "for i in data:\n",
    "    print i[2:7]"
   ]
  },
  {
   "cell_type": "code",
   "execution_count": 19,
   "metadata": {
    "collapsed": false
   },
   "outputs": [
    {
     "name": "stdout",
     "output_type": "stream",
     "text": [
      "['id', 'name', 'salary', 'address\\n']\n",
      "['1', 'name1', '1234', 'ad1\\n']\n",
      "['2', 'name2', '4567', 'ad2\\n']\n",
      "['3', 'name3', '8910', 'ad1\\n']\n",
      "['4', 'name4', '111213', 'ad2\\n']\n",
      "['5', 'name5', '1235', 'ad2\\n']\n",
      "['6', 'name6', '4568', 'ad3\\n']\n",
      "['7', 'name7', '8911', 'ad2\\n']\n",
      "['8', 'name8', '111214', 'ad3\\n']\n",
      "['9', 'name9', '1236', 'ad3\\n']\n",
      "['10', 'name10', '4569', 'ad4\\n']\n",
      "['11', 'name11', '8912', 'ad3\\n']\n",
      "['12', 'name12', '111215', 'ad4\\n']\n",
      "['13', 'name13', '1237', 'ad4\\n']\n",
      "['14', 'name14', '4570', 'ad5\\n']\n",
      "['15', 'name15', '8913', 'ad4\\n']\n",
      "['16', 'name16', '111216', 'ad5\\n']\n",
      "['17', 'name17', '1238', 'ad5\\n']\n",
      "['18', 'name18', '4571', 'ad6\\n']\n",
      "['19', 'name19', '8914', 'ad5\\n']\n",
      "['20', 'name20', '111217', 'ad6\\n']\n",
      "['21', 'name21', '1239', 'ad6\\n']\n",
      "['22', 'name22', '4572', 'ad7\\n']\n",
      "['23', 'name23', '8915', 'ad6\\n']\n",
      "['24', 'name24', '111218', 'ad7\\n']\n",
      "['25', 'name25', '1240', 'ad7\\n']\n",
      "['26', 'name26', '4573', 'ad8\\n']\n",
      "['27', 'name27', '8916', 'ad7\\n']\n",
      "['28', 'name28', '111219', 'ad8\\n']\n",
      "['29', 'name29', '1241', 'ad8\\n']\n",
      "['30', 'name30', '4574', 'ad9\\n']\n",
      "['31', 'name31', '8917', 'ad8\\n']\n"
     ]
    }
   ],
   "source": [
    "for i in data:\n",
    "    print i.split(',')"
   ]
  },
  {
   "cell_type": "code",
   "execution_count": 21,
   "metadata": {
    "collapsed": false
   },
   "outputs": [],
   "source": [
    "names=[]\n",
    "for i in data:\n",
    "    names.append(i.split(',')[1])"
   ]
  },
  {
   "cell_type": "code",
   "execution_count": 22,
   "metadata": {
    "collapsed": false
   },
   "outputs": [
    {
     "data": {
      "text/plain": [
       "['name',\n",
       " 'name1',\n",
       " 'name2',\n",
       " 'name3',\n",
       " 'name4',\n",
       " 'name5',\n",
       " 'name6',\n",
       " 'name7',\n",
       " 'name8',\n",
       " 'name9',\n",
       " 'name10',\n",
       " 'name11',\n",
       " 'name12',\n",
       " 'name13',\n",
       " 'name14',\n",
       " 'name15',\n",
       " 'name16',\n",
       " 'name17',\n",
       " 'name18',\n",
       " 'name19',\n",
       " 'name20',\n",
       " 'name21',\n",
       " 'name22',\n",
       " 'name23',\n",
       " 'name24',\n",
       " 'name25',\n",
       " 'name26',\n",
       " 'name27',\n",
       " 'name28',\n",
       " 'name29',\n",
       " 'name30',\n",
       " 'name31']"
      ]
     },
     "execution_count": 22,
     "metadata": {},
     "output_type": "execute_result"
    }
   ],
   "source": [
    "names"
   ]
  },
  {
   "cell_type": "code",
   "execution_count": 23,
   "metadata": {
    "collapsed": false
   },
   "outputs": [
    {
     "data": {
      "text/plain": [
       "['name',\n",
       " 'name1',\n",
       " 'name2',\n",
       " 'name3',\n",
       " 'name4',\n",
       " 'name5',\n",
       " 'name6',\n",
       " 'name7',\n",
       " 'name8',\n",
       " 'name9',\n",
       " 'name10',\n",
       " 'name11',\n",
       " 'name12',\n",
       " 'name13',\n",
       " 'name14',\n",
       " 'name15',\n",
       " 'name16',\n",
       " 'name17',\n",
       " 'name18',\n",
       " 'name19',\n",
       " 'name20',\n",
       " 'name21',\n",
       " 'name22',\n",
       " 'name23',\n",
       " 'name24',\n",
       " 'name25',\n",
       " 'name26',\n",
       " 'name27',\n",
       " 'name28',\n",
       " 'name29',\n",
       " 'name30',\n",
       " 'name31']"
      ]
     },
     "execution_count": 23,
     "metadata": {},
     "output_type": "execute_result"
    }
   ],
   "source": [
    "[i.split(',')[1] for i in data]"
   ]
  },
  {
   "cell_type": "code",
   "execution_count": 24,
   "metadata": {
    "collapsed": false
   },
   "outputs": [
    {
     "data": {
      "text/plain": [
       "['name',\n",
       " 'name1',\n",
       " 'name2',\n",
       " 'name3',\n",
       " 'name4',\n",
       " 'name5',\n",
       " 'name6',\n",
       " 'name7',\n",
       " 'name8',\n",
       " 'name9',\n",
       " 'name10',\n",
       " 'name11',\n",
       " 'name12',\n",
       " 'name13',\n",
       " 'name14',\n",
       " 'name15',\n",
       " 'name16',\n",
       " 'name17',\n",
       " 'name18',\n",
       " 'name19',\n",
       " 'name20',\n",
       " 'name21',\n",
       " 'name22',\n",
       " 'name23',\n",
       " 'name24',\n",
       " 'name25',\n",
       " 'name26',\n",
       " 'name27',\n",
       " 'name28',\n",
       " 'name29',\n",
       " 'name30',\n",
       " 'name31']"
      ]
     },
     "execution_count": 24,
     "metadata": {},
     "output_type": "execute_result"
    }
   ],
   "source": [
    "map(lambda i:i.split(',')[1],data)"
   ]
  },
  {
   "cell_type": "code",
   "execution_count": 26,
   "metadata": {
    "collapsed": false
   },
   "outputs": [
    {
     "name": "stdout",
     "output_type": "stream",
     "text": [
      "id,name,salary,address\n",
      "1,name1,1234,ad1\n",
      "2,name2,4567,ad2\n",
      "3,name3,8910,ad1\n",
      "\n",
      "reading second time$$$$$$$$$$$$$$\n",
      "\n"
     ]
    }
   ],
   "source": [
    "f=open('data.csv')\n",
    "data = f.re()\n",
    "print data\n",
    "print \"reading second time$$$$$$$$$$$$$$\"\n",
    "data1=f.read()\n",
    "print data1"
   ]
  },
  {
   "cell_type": "code",
   "execution_count": 28,
   "metadata": {
    "collapsed": false
   },
   "outputs": [
    {
     "name": "stdout",
     "output_type": "stream",
     "text": [
      "0\n",
      "id,name,salary,address\n",
      "1,name1,1234,ad1\n",
      "2,name2,4567,ad2\n",
      "3,name3,8910,ad1\n",
      "\n",
      "74\n",
      "74\n"
     ]
    }
   ],
   "source": [
    "f=open('data.csv')\n",
    "print f.tell()\n",
    "data = f.read()\n",
    "print data\n",
    "print f.tell()\n",
    "data1 = f.read()\n",
    "print f.tell()"
   ]
  },
  {
   "cell_type": "code",
   "execution_count": 30,
   "metadata": {
    "collapsed": false
   },
   "outputs": [
    {
     "name": "stdout",
     "output_type": "stream",
     "text": [
      "0\n",
      "id,name,salary,address\n",
      "1,name1,1234,ad1\n",
      "2,name2,4567,ad2\n",
      "3,name3,8910,ad1\n",
      "\n",
      "74\n",
      "0\n",
      "id,name,salary,address\n",
      "1,name1,1234,ad1\n",
      "2,name2,4567,ad2\n",
      "3,name3,8910,ad1\n",
      "\n",
      "74\n"
     ]
    }
   ],
   "source": [
    "f=open('data.csv')\n",
    "print f.tell()\n",
    "data = f.read()\n",
    "print data\n",
    "print f.tell()\n",
    "f.seek(0)\n",
    "print f.tell()\n",
    "data1 = f.read()\n",
    "print data1\n",
    "print f.tell()"
   ]
  },
  {
   "cell_type": "code",
   "execution_count": 33,
   "metadata": {
    "collapsed": false
   },
   "outputs": [
    {
     "name": "stdout",
     "output_type": "stream",
     "text": [
      "id,name,salary,address\n",
      "\n",
      "23\n",
      "1,name1,1234,ad1\n",
      "\n",
      "40\n",
      "['2,name2,4567,ad2\\n', '3,name3,8910,ad1\\n']\n"
     ]
    }
   ],
   "source": [
    "f=open('data.csv')\n",
    "l1 = f.readline()\n",
    "print l1\n",
    "print f.tell()\n",
    "l2= f.readline()\n",
    "print l2\n",
    "print f.tell()\n",
    "print f.readlines()"
   ]
  },
  {
   "cell_type": "code",
   "execution_count": 35,
   "metadata": {
    "collapsed": true
   },
   "outputs": [],
   "source": [
    "f=open('f1.txt','w')\n",
    "f.write('Some data')\n"
   ]
  },
  {
   "cell_type": "code",
   "execution_count": 36,
   "metadata": {
    "collapsed": true
   },
   "outputs": [],
   "source": [
    "f=open('f1.txt','w')\n",
    "f.write('Some data')\n",
    "f.close()"
   ]
  },
  {
   "cell_type": "code",
   "execution_count": 37,
   "metadata": {
    "collapsed": true
   },
   "outputs": [],
   "source": [
    "f=open('f1.txt','w')"
   ]
  },
  {
   "cell_type": "code",
   "execution_count": 38,
   "metadata": {
    "collapsed": false
   },
   "outputs": [
    {
     "ename": "ValueError",
     "evalue": "I/O operation on closed file",
     "output_type": "error",
     "traceback": [
      "\u001b[1;31m---------------------------------------------------------------------------\u001b[0m",
      "\u001b[1;31mValueError\u001b[0m                                Traceback (most recent call last)",
      "\u001b[1;32m<ipython-input-38-29b100962f31>\u001b[0m in \u001b[0;36m<module>\u001b[1;34m()\u001b[0m\n\u001b[0;32m      2\u001b[0m \u001b[0mf\u001b[0m\u001b[1;33m.\u001b[0m\u001b[0mwrite\u001b[0m\u001b[1;33m(\u001b[0m\u001b[1;34m\"somedata\"\u001b[0m\u001b[1;33m)\u001b[0m\u001b[1;33m\u001b[0m\u001b[0m\n\u001b[0;32m      3\u001b[0m \u001b[0mf\u001b[0m\u001b[1;33m.\u001b[0m\u001b[0mclose\u001b[0m\u001b[1;33m(\u001b[0m\u001b[1;33m)\u001b[0m\u001b[1;33m\u001b[0m\u001b[0m\n\u001b[1;32m----> 4\u001b[1;33m \u001b[0mf\u001b[0m\u001b[1;33m.\u001b[0m\u001b[0mwrite\u001b[0m\u001b[1;33m(\u001b[0m\u001b[1;34m\"some more data\"\u001b[0m\u001b[1;33m)\u001b[0m\u001b[1;33m\u001b[0m\u001b[0m\n\u001b[0m",
      "\u001b[1;31mValueError\u001b[0m: I/O operation on closed file"
     ]
    }
   ],
   "source": [
    "f=open('f1.txt','w')\n",
    "f.write(\"somedata\")\n",
    "f.close()\n",
    "f.write(\"some more data\")"
   ]
  },
  {
   "cell_type": "code",
   "execution_count": 39,
   "metadata": {
    "collapsed": true
   },
   "outputs": [],
   "source": [
    "f=open('f1.txt','w')\n",
    "f.write(\"somedata\")\n",
    "f.flush()\n",
    "f.write(\"some more data\")\n",
    "f.flush()"
   ]
  },
  {
   "cell_type": "code",
   "execution_count": 40,
   "metadata": {
    "collapsed": true
   },
   "outputs": [],
   "source": [
    "data  = ['data1','data2','data3']\n",
    "f=open('f1.txt','w')\n",
    "for i in data:\n",
    "    f.write(i)\n",
    "f.close()"
   ]
  },
  {
   "cell_type": "code",
   "execution_count": 41,
   "metadata": {
    "collapsed": true
   },
   "outputs": [],
   "source": [
    "data  = ['data1','data2','data3']\n",
    "f=open('f1.txt','w')\n",
    "f.writelines(data)\n",
    "f.close()"
   ]
  },
  {
   "cell_type": "code",
   "execution_count": 42,
   "metadata": {
    "collapsed": true
   },
   "outputs": [],
   "source": [
    "data  = ['data1','data2','data3']\n",
    "f=open('f1.txt','a')\n",
    "f.writelines(data)\n",
    "f.close()"
   ]
  },
  {
   "cell_type": "code",
   "execution_count": 43,
   "metadata": {
    "collapsed": false
   },
   "outputs": [
    {
     "ename": "TypeError",
     "evalue": "expected a string or other character buffer object",
     "output_type": "error",
     "traceback": [
      "\u001b[1;31m---------------------------------------------------------------------------\u001b[0m",
      "\u001b[1;31mTypeError\u001b[0m                                 Traceback (most recent call last)",
      "\u001b[1;32m<ipython-input-43-986dcae86eb2>\u001b[0m in \u001b[0;36m<module>\u001b[1;34m()\u001b[0m\n\u001b[0;32m      1\u001b[0m \u001b[0mf\u001b[0m\u001b[1;33m=\u001b[0m\u001b[0mopen\u001b[0m\u001b[1;33m(\u001b[0m\u001b[1;34m'f1.txt'\u001b[0m\u001b[1;33m,\u001b[0m\u001b[1;34m'w'\u001b[0m\u001b[1;33m)\u001b[0m\u001b[1;33m\u001b[0m\u001b[0m\n\u001b[1;32m----> 2\u001b[1;33m \u001b[0mf\u001b[0m\u001b[1;33m.\u001b[0m\u001b[0mwrite\u001b[0m\u001b[1;33m(\u001b[0m\u001b[1;36m1234\u001b[0m\u001b[1;33m)\u001b[0m\u001b[1;33m\u001b[0m\u001b[0m\n\u001b[0m\u001b[0;32m      3\u001b[0m \u001b[0mf\u001b[0m\u001b[1;33m.\u001b[0m\u001b[0mclose\u001b[0m\u001b[1;33m(\u001b[0m\u001b[1;33m)\u001b[0m\u001b[1;33m\u001b[0m\u001b[0m\n",
      "\u001b[1;31mTypeError\u001b[0m: expected a string or other character buffer object"
     ]
    }
   ],
   "source": [
    "f=open('f1.txt','w')\n",
    "f.write(1234)\n",
    "f.close()"
   ]
  },
  {
   "cell_type": "code",
   "execution_count": 44,
   "metadata": {
    "collapsed": true
   },
   "outputs": [],
   "source": [
    "f=open('f1.txt','w')\n",
    "f.write(str(1234))\n",
    "f.close()"
   ]
  },
  {
   "cell_type": "code",
   "execution_count": 45,
   "metadata": {
    "collapsed": false
   },
   "outputs": [
    {
     "ename": "TypeError",
     "evalue": "expected a string or other character buffer object",
     "output_type": "error",
     "traceback": [
      "\u001b[1;31m---------------------------------------------------------------------------\u001b[0m",
      "\u001b[1;31mTypeError\u001b[0m                                 Traceback (most recent call last)",
      "\u001b[1;32m<ipython-input-45-5252d5fc583b>\u001b[0m in \u001b[0;36m<module>\u001b[1;34m()\u001b[0m\n\u001b[0;32m      1\u001b[0m \u001b[0md\u001b[0m\u001b[1;33m=\u001b[0m\u001b[1;33m{\u001b[0m\u001b[1;34m'name'\u001b[0m\u001b[1;33m:\u001b[0m\u001b[1;34m'na1'\u001b[0m\u001b[1;33m,\u001b[0m\u001b[1;34m'id'\u001b[0m\u001b[1;33m:\u001b[0m\u001b[1;36m23\u001b[0m\u001b[1;33m}\u001b[0m\u001b[1;33m\u001b[0m\u001b[0m\n\u001b[0;32m      2\u001b[0m \u001b[0mf\u001b[0m\u001b[1;33m=\u001b[0m\u001b[0mopen\u001b[0m\u001b[1;33m(\u001b[0m\u001b[1;34m'f1.txt'\u001b[0m\u001b[1;33m,\u001b[0m\u001b[1;34m'w'\u001b[0m\u001b[1;33m)\u001b[0m\u001b[1;33m\u001b[0m\u001b[0m\n\u001b[1;32m----> 3\u001b[1;33m \u001b[0mf\u001b[0m\u001b[1;33m.\u001b[0m\u001b[0mwrite\u001b[0m\u001b[1;33m(\u001b[0m\u001b[0md\u001b[0m\u001b[1;33m)\u001b[0m\u001b[1;33m\u001b[0m\u001b[0m\n\u001b[0m\u001b[0;32m      4\u001b[0m \u001b[0mf\u001b[0m\u001b[1;33m.\u001b[0m\u001b[0mclose\u001b[0m\u001b[1;33m(\u001b[0m\u001b[1;33m)\u001b[0m\u001b[1;33m\u001b[0m\u001b[0m\n",
      "\u001b[1;31mTypeError\u001b[0m: expected a string or other character buffer object"
     ]
    }
   ],
   "source": [
    "d={'name':'na1','id':23}\n",
    "f=open('f1.txt','w')\n",
    "f.write(d)\n",
    "f.close()"
   ]
  },
  {
   "cell_type": "code",
   "execution_count": 46,
   "metadata": {
    "collapsed": true
   },
   "outputs": [],
   "source": [
    "d={'name':'na1','id':23}\n",
    "f=open('f1.txt','w')\n",
    "f.write(str(d))\n",
    "f.close()"
   ]
  },
  {
   "cell_type": "code",
   "execution_count": 47,
   "metadata": {
    "collapsed": true
   },
   "outputs": [],
   "source": [
    "d=['name1','name2','name3','name4']\n",
    "f=open('f1.txt','w')\n",
    "f.write(str(d))\n",
    "f.close()"
   ]
  },
  {
   "cell_type": "code",
   "execution_count": 48,
   "metadata": {
    "collapsed": false
   },
   "outputs": [
    {
     "name": "stdout",
     "output_type": "stream",
     "text": [
      "<type 'str'>\n"
     ]
    }
   ],
   "source": [
    "f = open('f1.txt')\n",
    "data = f.read()\n",
    "print type(data)"
   ]
  },
  {
   "cell_type": "code",
   "execution_count": 49,
   "metadata": {
    "collapsed": false
   },
   "outputs": [
    {
     "data": {
      "text/plain": [
       "\"['name1', 'name2', 'name3', 'name4']\""
      ]
     },
     "execution_count": 49,
     "metadata": {},
     "output_type": "execute_result"
    }
   ],
   "source": [
    "data"
   ]
  },
  {
   "cell_type": "code",
   "execution_count": 50,
   "metadata": {
    "collapsed": false
   },
   "outputs": [
    {
     "ename": "ValueError",
     "evalue": "No JSON object could be decoded",
     "output_type": "error",
     "traceback": [
      "\u001b[1;31m---------------------------------------------------------------------------\u001b[0m",
      "\u001b[1;31mValueError\u001b[0m                                Traceback (most recent call last)",
      "\u001b[1;32m<ipython-input-50-7d07fcf97f68>\u001b[0m in \u001b[0;36m<module>\u001b[1;34m()\u001b[0m\n\u001b[0;32m      1\u001b[0m \u001b[1;32mimport\u001b[0m \u001b[0mjson\u001b[0m\u001b[1;33m\u001b[0m\u001b[0m\n\u001b[1;32m----> 2\u001b[1;33m \u001b[0mdata_list\u001b[0m \u001b[1;33m=\u001b[0m \u001b[0mjson\u001b[0m\u001b[1;33m.\u001b[0m\u001b[0mloads\u001b[0m\u001b[1;33m(\u001b[0m\u001b[0mdata\u001b[0m\u001b[1;33m)\u001b[0m\u001b[1;33m\u001b[0m\u001b[0m\n\u001b[0m",
      "\u001b[1;32m/home/tcloudost/anaconda2/lib/python2.7/json/__init__.pyc\u001b[0m in \u001b[0;36mloads\u001b[1;34m(s, encoding, cls, object_hook, parse_float, parse_int, parse_constant, object_pairs_hook, **kw)\u001b[0m\n\u001b[0;32m    337\u001b[0m             \u001b[0mparse_int\u001b[0m \u001b[1;32mis\u001b[0m \u001b[0mNone\u001b[0m \u001b[1;32mand\u001b[0m \u001b[0mparse_float\u001b[0m \u001b[1;32mis\u001b[0m \u001b[0mNone\u001b[0m \u001b[1;32mand\u001b[0m\u001b[1;33m\u001b[0m\u001b[0m\n\u001b[0;32m    338\u001b[0m             parse_constant is None and object_pairs_hook is None and not kw):\n\u001b[1;32m--> 339\u001b[1;33m         \u001b[1;32mreturn\u001b[0m \u001b[0m_default_decoder\u001b[0m\u001b[1;33m.\u001b[0m\u001b[0mdecode\u001b[0m\u001b[1;33m(\u001b[0m\u001b[0ms\u001b[0m\u001b[1;33m)\u001b[0m\u001b[1;33m\u001b[0m\u001b[0m\n\u001b[0m\u001b[0;32m    340\u001b[0m     \u001b[1;32mif\u001b[0m \u001b[0mcls\u001b[0m \u001b[1;32mis\u001b[0m \u001b[0mNone\u001b[0m\u001b[1;33m:\u001b[0m\u001b[1;33m\u001b[0m\u001b[0m\n\u001b[0;32m    341\u001b[0m         \u001b[0mcls\u001b[0m \u001b[1;33m=\u001b[0m \u001b[0mJSONDecoder\u001b[0m\u001b[1;33m\u001b[0m\u001b[0m\n",
      "\u001b[1;32m/home/tcloudost/anaconda2/lib/python2.7/json/decoder.pyc\u001b[0m in \u001b[0;36mdecode\u001b[1;34m(self, s, _w)\u001b[0m\n\u001b[0;32m    362\u001b[0m \u001b[1;33m\u001b[0m\u001b[0m\n\u001b[0;32m    363\u001b[0m         \"\"\"\n\u001b[1;32m--> 364\u001b[1;33m         \u001b[0mobj\u001b[0m\u001b[1;33m,\u001b[0m \u001b[0mend\u001b[0m \u001b[1;33m=\u001b[0m \u001b[0mself\u001b[0m\u001b[1;33m.\u001b[0m\u001b[0mraw_decode\u001b[0m\u001b[1;33m(\u001b[0m\u001b[0ms\u001b[0m\u001b[1;33m,\u001b[0m \u001b[0midx\u001b[0m\u001b[1;33m=\u001b[0m\u001b[0m_w\u001b[0m\u001b[1;33m(\u001b[0m\u001b[0ms\u001b[0m\u001b[1;33m,\u001b[0m \u001b[1;36m0\u001b[0m\u001b[1;33m)\u001b[0m\u001b[1;33m.\u001b[0m\u001b[0mend\u001b[0m\u001b[1;33m(\u001b[0m\u001b[1;33m)\u001b[0m\u001b[1;33m)\u001b[0m\u001b[1;33m\u001b[0m\u001b[0m\n\u001b[0m\u001b[0;32m    365\u001b[0m         \u001b[0mend\u001b[0m \u001b[1;33m=\u001b[0m \u001b[0m_w\u001b[0m\u001b[1;33m(\u001b[0m\u001b[0ms\u001b[0m\u001b[1;33m,\u001b[0m \u001b[0mend\u001b[0m\u001b[1;33m)\u001b[0m\u001b[1;33m.\u001b[0m\u001b[0mend\u001b[0m\u001b[1;33m(\u001b[0m\u001b[1;33m)\u001b[0m\u001b[1;33m\u001b[0m\u001b[0m\n\u001b[0;32m    366\u001b[0m         \u001b[1;32mif\u001b[0m \u001b[0mend\u001b[0m \u001b[1;33m!=\u001b[0m \u001b[0mlen\u001b[0m\u001b[1;33m(\u001b[0m\u001b[0ms\u001b[0m\u001b[1;33m)\u001b[0m\u001b[1;33m:\u001b[0m\u001b[1;33m\u001b[0m\u001b[0m\n",
      "\u001b[1;32m/home/tcloudost/anaconda2/lib/python2.7/json/decoder.pyc\u001b[0m in \u001b[0;36mraw_decode\u001b[1;34m(self, s, idx)\u001b[0m\n\u001b[0;32m    380\u001b[0m             \u001b[0mobj\u001b[0m\u001b[1;33m,\u001b[0m \u001b[0mend\u001b[0m \u001b[1;33m=\u001b[0m \u001b[0mself\u001b[0m\u001b[1;33m.\u001b[0m\u001b[0mscan_once\u001b[0m\u001b[1;33m(\u001b[0m\u001b[0ms\u001b[0m\u001b[1;33m,\u001b[0m \u001b[0midx\u001b[0m\u001b[1;33m)\u001b[0m\u001b[1;33m\u001b[0m\u001b[0m\n\u001b[0;32m    381\u001b[0m         \u001b[1;32mexcept\u001b[0m \u001b[0mStopIteration\u001b[0m\u001b[1;33m:\u001b[0m\u001b[1;33m\u001b[0m\u001b[0m\n\u001b[1;32m--> 382\u001b[1;33m             \u001b[1;32mraise\u001b[0m \u001b[0mValueError\u001b[0m\u001b[1;33m(\u001b[0m\u001b[1;34m\"No JSON object could be decoded\"\u001b[0m\u001b[1;33m)\u001b[0m\u001b[1;33m\u001b[0m\u001b[0m\n\u001b[0m\u001b[0;32m    383\u001b[0m         \u001b[1;32mreturn\u001b[0m \u001b[0mobj\u001b[0m\u001b[1;33m,\u001b[0m \u001b[0mend\u001b[0m\u001b[1;33m\u001b[0m\u001b[0m\n",
      "\u001b[1;31mValueError\u001b[0m: No JSON object could be decoded"
     ]
    }
   ],
   "source": [
    "import json\n",
    "data_list = json.loads(data)"
   ]
  },
  {
   "cell_type": "code",
   "execution_count": 51,
   "metadata": {
    "collapsed": true
   },
   "outputs": [],
   "source": [
    "import pickle"
   ]
  },
  {
   "cell_type": "code",
   "execution_count": 52,
   "metadata": {
    "collapsed": true
   },
   "outputs": [],
   "source": [
    "l=['name1','name2','name3']\n",
    "d={'id':1,'names':'name1'}\n",
    "f=open('f1.txt','w')\n",
    "pickle.dump(l,f)\n",
    "pickle.dump(d,f)\n",
    "f.close()\n"
   ]
  },
  {
   "cell_type": "code",
   "execution_count": 53,
   "metadata": {
    "collapsed": false
   },
   "outputs": [
    {
     "name": "stdout",
     "output_type": "stream",
     "text": [
      "['name1', 'name2', 'name3'] <type 'list'>\n",
      "{'id': 1, 'names': 'name1'} <type 'dict'>\n"
     ]
    }
   ],
   "source": [
    "f=open('f1.txt')\n",
    "l1=pickle.load(f)\n",
    "d1=pickle.load(f)\n",
    "f.close()\n",
    "print l1,type(l1)\n",
    "print d1,type(d1)"
   ]
  },
  {
   "cell_type": "code",
   "execution_count": null,
   "metadata": {
    "collapsed": true
   },
   "outputs": [],
   "source": []
  }
 ],
 "metadata": {
  "kernelspec": {
   "display_name": "Python 2",
   "language": "python",
   "name": "python2"
  },
  "language_info": {
   "codemirror_mode": {
    "name": "ipython",
    "version": 2
   },
   "file_extension": ".py",
   "mimetype": "text/x-python",
   "name": "python",
   "nbconvert_exporter": "python",
   "pygments_lexer": "ipython2",
   "version": "2.7.11"
  }
 },
 "nbformat": 4,
 "nbformat_minor": 0
}
