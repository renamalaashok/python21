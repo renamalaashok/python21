{
 "cells": [
  {
   "cell_type": "code",
   "execution_count": 1,
   "metadata": {
    "collapsed": false
   },
   "outputs": [
    {
     "data": {
      "text/plain": [
       "False"
      ]
     },
     "execution_count": 1,
     "metadata": {},
     "output_type": "execute_result"
    }
   ],
   "source": [
    "10>20"
   ]
  },
  {
   "cell_type": "code",
   "execution_count": 2,
   "metadata": {
    "collapsed": false
   },
   "outputs": [
    {
     "data": {
      "text/plain": [
       "True"
      ]
     },
     "execution_count": 2,
     "metadata": {},
     "output_type": "execute_result"
    }
   ],
   "source": [
    "\"10\"<\"20\""
   ]
  },
  {
   "cell_type": "code",
   "execution_count": 3,
   "metadata": {
    "collapsed": false
   },
   "outputs": [
    {
     "data": {
      "text/plain": [
       "True"
      ]
     },
     "execution_count": 3,
     "metadata": {},
     "output_type": "execute_result"
    }
   ],
   "source": [
    "\"10\"<\"2\""
   ]
  },
  {
   "cell_type": "code",
   "execution_count": 4,
   "metadata": {
    "collapsed": false
   },
   "outputs": [
    {
     "data": {
      "text/plain": [
       "True"
      ]
     },
     "execution_count": 4,
     "metadata": {},
     "output_type": "execute_result"
    }
   ],
   "source": [
    "\"sub\" in \"substring\""
   ]
  },
  {
   "cell_type": "code",
   "execution_count": 5,
   "metadata": {
    "collapsed": true
   },
   "outputs": [],
   "source": [
    "a=10\n",
    "b=10.0"
   ]
  },
  {
   "cell_type": "code",
   "execution_count": 6,
   "metadata": {
    "collapsed": false
   },
   "outputs": [
    {
     "data": {
      "text/plain": [
       "10825888"
      ]
     },
     "execution_count": 6,
     "metadata": {},
     "output_type": "execute_result"
    }
   ],
   "source": [
    "id(a)"
   ]
  },
  {
   "cell_type": "code",
   "execution_count": 7,
   "metadata": {
    "collapsed": false
   },
   "outputs": [
    {
     "data": {
      "text/plain": [
       "18797056"
      ]
     },
     "execution_count": 7,
     "metadata": {},
     "output_type": "execute_result"
    }
   ],
   "source": [
    "id(b)"
   ]
  },
  {
   "cell_type": "code",
   "execution_count": 8,
   "metadata": {
    "collapsed": false
   },
   "outputs": [
    {
     "data": {
      "text/plain": [
       "False"
      ]
     },
     "execution_count": 8,
     "metadata": {},
     "output_type": "execute_result"
    }
   ],
   "source": [
    "a is b"
   ]
  },
  {
   "cell_type": "code",
   "execution_count": 9,
   "metadata": {
    "collapsed": false
   },
   "outputs": [
    {
     "data": {
      "text/plain": [
       "True"
      ]
     },
     "execution_count": 9,
     "metadata": {},
     "output_type": "execute_result"
    }
   ],
   "source": [
    "a==b"
   ]
  },
  {
   "cell_type": "code",
   "execution_count": 10,
   "metadata": {
    "collapsed": false
   },
   "outputs": [
    {
     "data": {
      "text/plain": [
       "True"
      ]
     },
     "execution_count": 10,
     "metadata": {},
     "output_type": "execute_result"
    }
   ],
   "source": [
    "bool(a==b)"
   ]
  },
  {
   "cell_type": "code",
   "execution_count": 11,
   "metadata": {
    "collapsed": false
   },
   "outputs": [
    {
     "data": {
      "text/plain": [
       "False"
      ]
     },
     "execution_count": 11,
     "metadata": {},
     "output_type": "execute_result"
    }
   ],
   "source": [
    "bool(a is b)"
   ]
  },
  {
   "cell_type": "code",
   "execution_count": 12,
   "metadata": {
    "collapsed": false
   },
   "outputs": [
    {
     "data": {
      "text/plain": [
       "False"
      ]
     },
     "execution_count": 12,
     "metadata": {},
     "output_type": "execute_result"
    }
   ],
   "source": [
    "bool(0)"
   ]
  },
  {
   "cell_type": "code",
   "execution_count": 13,
   "metadata": {
    "collapsed": false
   },
   "outputs": [
    {
     "data": {
      "text/plain": [
       "True"
      ]
     },
     "execution_count": 13,
     "metadata": {},
     "output_type": "execute_result"
    }
   ],
   "source": [
    "bool(-10)"
   ]
  },
  {
   "cell_type": "code",
   "execution_count": 14,
   "metadata": {
    "collapsed": false
   },
   "outputs": [
    {
     "data": {
      "text/plain": [
       "True"
      ]
     },
     "execution_count": 14,
     "metadata": {},
     "output_type": "execute_result"
    }
   ],
   "source": [
    "bool(10)"
   ]
  },
  {
   "cell_type": "code",
   "execution_count": 15,
   "metadata": {
    "collapsed": false
   },
   "outputs": [
    {
     "data": {
      "text/plain": [
       "True"
      ]
     },
     "execution_count": 15,
     "metadata": {},
     "output_type": "execute_result"
    }
   ],
   "source": [
    "bool(1)"
   ]
  },
  {
   "cell_type": "code",
   "execution_count": 16,
   "metadata": {
    "collapsed": false
   },
   "outputs": [
    {
     "data": {
      "text/plain": [
       "False"
      ]
     },
     "execution_count": 16,
     "metadata": {},
     "output_type": "execute_result"
    }
   ],
   "source": [
    "bool(\"\")"
   ]
  },
  {
   "cell_type": "code",
   "execution_count": 17,
   "metadata": {
    "collapsed": false
   },
   "outputs": [
    {
     "data": {
      "text/plain": [
       "True"
      ]
     },
     "execution_count": 17,
     "metadata": {},
     "output_type": "execute_result"
    }
   ],
   "source": [
    "bool(\"'sdfsdf\")"
   ]
  },
  {
   "cell_type": "code",
   "execution_count": 18,
   "metadata": {
    "collapsed": false
   },
   "outputs": [
    {
     "data": {
      "text/plain": [
       "True"
      ]
     },
     "execution_count": 18,
     "metadata": {},
     "output_type": "execute_result"
    }
   ],
   "source": [
    "bool(\"0\")"
   ]
  },
  {
   "cell_type": "code",
   "execution_count": 19,
   "metadata": {
    "collapsed": false
   },
   "outputs": [
    {
     "data": {
      "text/plain": [
       "False"
      ]
     },
     "execution_count": 19,
     "metadata": {},
     "output_type": "execute_result"
    }
   ],
   "source": [
    "bool([])"
   ]
  },
  {
   "cell_type": "code",
   "execution_count": 20,
   "metadata": {
    "collapsed": false
   },
   "outputs": [
    {
     "data": {
      "text/plain": [
       "True"
      ]
     },
     "execution_count": 20,
     "metadata": {},
     "output_type": "execute_result"
    }
   ],
   "source": [
    "bool([\"\"])"
   ]
  },
  {
   "cell_type": "code",
   "execution_count": 21,
   "metadata": {
    "collapsed": true
   },
   "outputs": [],
   "source": [
    "a=10\n",
    "b=20\n",
    "c=30"
   ]
  },
  {
   "cell_type": "code",
   "execution_count": 22,
   "metadata": {
    "collapsed": false
   },
   "outputs": [
    {
     "data": {
      "text/plain": [
       "True"
      ]
     },
     "execution_count": 22,
     "metadata": {},
     "output_type": "execute_result"
    }
   ],
   "source": [
    "a<b and b<c"
   ]
  },
  {
   "cell_type": "code",
   "execution_count": 23,
   "metadata": {
    "collapsed": false
   },
   "outputs": [
    {
     "data": {
      "text/plain": [
       "True"
      ]
     },
     "execution_count": 23,
     "metadata": {},
     "output_type": "execute_result"
    }
   ],
   "source": [
    "a<b or b>c"
   ]
  },
  {
   "cell_type": "code",
   "execution_count": 24,
   "metadata": {
    "collapsed": false
   },
   "outputs": [
    {
     "name": "stdout",
     "output_type": "stream",
     "text": [
      "Anil 23 5.6\n"
     ]
    }
   ],
   "source": [
    "name=\"Anil\"\n",
    "age=23\n",
    "height = 5.6\n",
    "print name,age,height"
   ]
  },
  {
   "cell_type": "code",
   "execution_count": 25,
   "metadata": {
    "collapsed": false
   },
   "outputs": [
    {
     "name": "stdout",
     "output_type": "stream",
     "text": [
      "name:\n"
     ]
    }
   ],
   "source": [
    "# name: Anil, age: 23, height: 5.6\n",
    "print \"name:\""
   ]
  },
  {
   "cell_type": "code",
   "execution_count": 28,
   "metadata": {
    "collapsed": false
   },
   "outputs": [
    {
     "name": "stdout",
     "output_type": "stream",
     "text": [
      "name:Anil\n"
     ]
    }
   ],
   "source": [
    "print \"name:\"+name"
   ]
  },
  {
   "cell_type": "code",
   "execution_count": 29,
   "metadata": {
    "collapsed": false
   },
   "outputs": [
    {
     "name": "stdout",
     "output_type": "stream",
     "text": [
      "name: Anil\n"
     ]
    }
   ],
   "source": [
    "print \"name: \"+name"
   ]
  },
  {
   "cell_type": "code",
   "execution_count": 30,
   "metadata": {
    "collapsed": false
   },
   "outputs": [
    {
     "name": "stdout",
     "output_type": "stream",
     "text": [
      "'name: Anil"
     ]
    },
    {
     "ename": "TypeError",
     "evalue": "cannot concatenate 'str' and 'int' objects",
     "output_type": "error",
     "traceback": [
      "\u001b[1;31m---------------------------------------------------------------------------\u001b[0m",
      "\u001b[1;31mTypeError\u001b[0m                                 Traceback (most recent call last)",
      "\u001b[1;32m<ipython-input-30-8e1a032924b0>\u001b[0m in \u001b[0;36m<module>\u001b[1;34m()\u001b[0m\n\u001b[0;32m      1\u001b[0m \u001b[1;31m# name: Anil, age: 23, height: 5.6\u001b[0m\u001b[1;33m\u001b[0m\u001b[1;33m\u001b[0m\u001b[0m\n\u001b[1;32m----> 2\u001b[1;33m \u001b[1;32mprint\u001b[0m \u001b[1;34m\"'name: \"\u001b[0m\u001b[1;33m+\u001b[0m\u001b[0mname\u001b[0m\u001b[1;33m,\u001b[0m\u001b[1;34m\"age:\"\u001b[0m\u001b[1;33m+\u001b[0m\u001b[0mage\u001b[0m\u001b[1;33m,\u001b[0m\u001b[1;34m\"hheight:\"\u001b[0m\u001b[1;33m+\u001b[0m\u001b[0mheight\u001b[0m\u001b[1;33m\u001b[0m\u001b[0m\n\u001b[0m",
      "\u001b[1;31mTypeError\u001b[0m: cannot concatenate 'str' and 'int' objects"
     ]
    }
   ],
   "source": [
    "# name: Anil, age: 23, height: 5.6\n",
    "print \"'name: \"+name,\"age:\"+age,\"hheight:\"+height"
   ]
  },
  {
   "cell_type": "code",
   "execution_count": 32,
   "metadata": {
    "collapsed": false
   },
   "outputs": [
    {
     "name": "stdout",
     "output_type": "stream",
     "text": [
      "name: Anil age:23 hheight:5.6\n"
     ]
    }
   ],
   "source": [
    "# name: Anil, age: 23, height: 5.6\n",
    "print \"name: \"+name,\"age:\"+str(age),\"hheight:\"+str(height)"
   ]
  },
  {
   "cell_type": "code",
   "execution_count": 33,
   "metadata": {
    "collapsed": false
   },
   "outputs": [
    {
     "name": "stdout",
     "output_type": "stream",
     "text": [
      "name: Anil , age:23 , height:5.6\n"
     ]
    }
   ],
   "source": [
    "# name: Anil, age: 23, height: 5.6\n",
    "print \"name: \"+name,\", age:\"+str(age),\", height:\"+str(height)"
   ]
  },
  {
   "cell_type": "code",
   "execution_count": 34,
   "metadata": {
    "collapsed": false
   },
   "outputs": [
    {
     "name": "stdout",
     "output_type": "stream",
     "text": [
      "name: Anil, age:23, height:5.6\n"
     ]
    }
   ],
   "source": [
    "# name: Anil, age: 23, height: 5.6\n",
    "print \"name: \"+name+\", age:\"+str(age)+\", height:\"+str(height)"
   ]
  },
  {
   "cell_type": "code",
   "execution_count": 35,
   "metadata": {
    "collapsed": false
   },
   "outputs": [
    {
     "name": "stdout",
     "output_type": "stream",
     "text": [
      "%s%d%f\n"
     ]
    }
   ],
   "source": [
    "# format specifiers\n",
    "# %s %d %f %r\n",
    "print \"%s%d%f\""
   ]
  },
  {
   "cell_type": "code",
   "execution_count": 36,
   "metadata": {
    "collapsed": false
   },
   "outputs": [
    {
     "name": "stdout",
     "output_type": "stream",
     "text": [
      "line1, line2\n"
     ]
    }
   ],
   "source": [
    "print \"line1, line2\""
   ]
  },
  {
   "cell_type": "code",
   "execution_count": 37,
   "metadata": {
    "collapsed": false
   },
   "outputs": [
    {
     "name": "stdout",
     "output_type": "stream",
     "text": [
      "line1\n",
      "line2\n"
     ]
    }
   ],
   "source": [
    "print \"line1\"\n",
    "print \"line2\""
   ]
  },
  {
   "cell_type": "code",
   "execution_count": 38,
   "metadata": {
    "collapsed": false
   },
   "outputs": [
    {
     "name": "stdout",
     "output_type": "stream",
     "text": [
      "line1\n",
      "line2\n"
     ]
    }
   ],
   "source": [
    "print \"line1\\nline2\""
   ]
  },
  {
   "cell_type": "code",
   "execution_count": 39,
   "metadata": {
    "collapsed": false
   },
   "outputs": [
    {
     "name": "stdout",
     "output_type": "stream",
     "text": [
      "%s%d%f ('Anil', 23, 5.6)\n"
     ]
    }
   ],
   "source": [
    "print \"%s%d%f\",(name,age,height)"
   ]
  },
  {
   "cell_type": "code",
   "execution_count": 40,
   "metadata": {
    "collapsed": false
   },
   "outputs": [
    {
     "name": "stdout",
     "output_type": "stream",
     "text": [
      "Anil235.600000\n"
     ]
    }
   ],
   "source": [
    "print \"%s%d%f\"%(name,age,height)"
   ]
  },
  {
   "cell_type": "code",
   "execution_count": 41,
   "metadata": {
    "collapsed": false
   },
   "outputs": [
    {
     "ename": "TypeError",
     "evalue": "%d format: a number is required, not str",
     "output_type": "error",
     "traceback": [
      "\u001b[1;31m---------------------------------------------------------------------------\u001b[0m",
      "\u001b[1;31mTypeError\u001b[0m                                 Traceback (most recent call last)",
      "\u001b[1;32m<ipython-input-41-3501c4c13f4a>\u001b[0m in \u001b[0;36m<module>\u001b[1;34m()\u001b[0m\n\u001b[1;32m----> 1\u001b[1;33m \u001b[1;32mprint\u001b[0m \u001b[1;34m\"%d%s%f\"\u001b[0m\u001b[1;33m%\u001b[0m\u001b[1;33m(\u001b[0m\u001b[0mname\u001b[0m\u001b[1;33m,\u001b[0m\u001b[0mage\u001b[0m\u001b[1;33m,\u001b[0m\u001b[0mheight\u001b[0m\u001b[1;33m)\u001b[0m\u001b[1;33m\u001b[0m\u001b[0m\n\u001b[0m",
      "\u001b[1;31mTypeError\u001b[0m: %d format: a number is required, not str"
     ]
    }
   ],
   "source": [
    "print \"%d%s%f\"%(name,age,height)"
   ]
  },
  {
   "cell_type": "code",
   "execution_count": 45,
   "metadata": {
    "collapsed": false
   },
   "outputs": [
    {
     "name": "stdout",
     "output_type": "stream",
     "text": [
      "name: Anil, age: 23, height: 5.6\n",
      "name: Anil, age: 23, height: 5.600000\n"
     ]
    }
   ],
   "source": [
    "# name: Anil, age: 23, height: 5.6\n",
    "print \"name: \"+name+\", age: \"+str(age)+\", height: \"+str(height)\n",
    "print \"name: %s, age: %d, height: %f\"%(name,age,height)"
   ]
  },
  {
   "cell_type": "code",
   "execution_count": 46,
   "metadata": {
    "collapsed": false
   },
   "outputs": [
    {
     "name": "stdout",
     "output_type": "stream",
     "text": [
      "name: 'Anil', age: 23, height: 5.6\n"
     ]
    }
   ],
   "source": [
    "print \"name: %r, age: %r, height: %r\"%(name,age,height)"
   ]
  },
  {
   "cell_type": "code",
   "execution_count": 47,
   "metadata": {
    "collapsed": false
   },
   "outputs": [
    {
     "ename": "SyntaxError",
     "evalue": "invalid syntax (<ipython-input-47-d872ae8b6806>, line 2)",
     "output_type": "error",
     "traceback": [
      "\u001b[1;36m  File \u001b[1;32m\"<ipython-input-47-d872ae8b6806>\"\u001b[1;36m, line \u001b[1;32m2\u001b[0m\n\u001b[1;33m    print 'let's go for ride today'\u001b[0m\n\u001b[1;37m               ^\u001b[0m\n\u001b[1;31mSyntaxError\u001b[0m\u001b[1;31m:\u001b[0m invalid syntax\n"
     ]
    }
   ],
   "source": [
    "# let's go for ride today\n",
    "print 'let's go for ride today'"
   ]
  },
  {
   "cell_type": "code",
   "execution_count": 48,
   "metadata": {
    "collapsed": false
   },
   "outputs": [
    {
     "name": "stdout",
     "output_type": "stream",
     "text": [
      "let's go for ride today\n"
     ]
    }
   ],
   "source": [
    "# let's go for ride today\n",
    "print 'let\\'s go for ride today'"
   ]
  },
  {
   "cell_type": "code",
   "execution_count": 49,
   "metadata": {
    "collapsed": false
   },
   "outputs": [
    {
     "name": "stdout",
     "output_type": "stream",
     "text": [
      "let's go for ride today\n"
     ]
    }
   ],
   "source": [
    "print \"let's go for ride today\""
   ]
  },
  {
   "cell_type": "code",
   "execution_count": 50,
   "metadata": {
    "collapsed": false
   },
   "outputs": [
    {
     "name": "stdout",
     "output_type": "stream",
     "text": [
      "let\"s go for ride today\n"
     ]
    }
   ],
   "source": [
    "print 'let\"s go for ride today'"
   ]
  },
  {
   "cell_type": "code",
   "execution_count": 51,
   "metadata": {
    "collapsed": false
   },
   "outputs": [
    {
     "name": "stdout",
     "output_type": "stream",
     "text": [
      "let\"s go for' ride\" today\n"
     ]
    }
   ],
   "source": [
    "print 'let\"s go for\\' ride\" today'"
   ]
  },
  {
   "cell_type": "code",
   "execution_count": 52,
   "metadata": {
    "collapsed": false
   },
   "outputs": [
    {
     "name": "stdout",
     "output_type": "stream",
     "text": [
      "line1\n",
      "line2\n"
     ]
    }
   ],
   "source": [
    "print \"line1\\nline2\""
   ]
  },
  {
   "cell_type": "code",
   "execution_count": 53,
   "metadata": {
    "collapsed": false
   },
   "outputs": [
    {
     "name": "stdout",
     "output_type": "stream",
     "text": [
      "line1\\nline2\n"
     ]
    }
   ],
   "source": [
    "print \"line1\\\\nline2\""
   ]
  },
  {
   "cell_type": "code",
   "execution_count": 54,
   "metadata": {
    "collapsed": false
   },
   "outputs": [
    {
     "name": "stdout",
     "output_type": "stream",
     "text": [
      "line1\n",
      "line2\ttab\n",
      "dsfsdfs\tsdfsdf\n",
      "dsfsdf\t\n"
     ]
    }
   ],
   "source": [
    "s=\"line1\\nline2\\ttab\\ndsfsdfs\\tsdfsdf\\ndsfsdf\\t\"\n",
    "print s"
   ]
  },
  {
   "cell_type": "code",
   "execution_count": 55,
   "metadata": {
    "collapsed": false
   },
   "outputs": [
    {
     "name": "stdout",
     "output_type": "stream",
     "text": [
      "line1\\nline2\\ttab\\ndsfsdfs\\tsdfsdf\\ndsfsdf\\t\n"
     ]
    }
   ],
   "source": [
    "s=\"line1\\\\nline2\\\\ttab\\\\ndsfsdfs\\\\tsdfsdf\\\\ndsfsdf\\\\t\"\n",
    "print s"
   ]
  },
  {
   "cell_type": "code",
   "execution_count": 56,
   "metadata": {
    "collapsed": false
   },
   "outputs": [
    {
     "name": "stdout",
     "output_type": "stream",
     "text": [
      "line1\\nline2\\ttab\\ndsfsdfs\\tsdfsdf\\ndsfsdf\\t\n"
     ]
    }
   ],
   "source": [
    "s=r\"line1\\nline2\\ttab\\ndsfsdfs\\tsdfsdf\\ndsfsdf\\t\"\n",
    "print s"
   ]
  },
  {
   "cell_type": "code",
   "execution_count": 57,
   "metadata": {
    "collapsed": false
   },
   "outputs": [
    {
     "name": "stdout",
     "output_type": "stream",
     "text": [
      "Enter a value:10\n",
      "Enter b value:20\n",
      "1020\n"
     ]
    }
   ],
   "source": [
    "a=raw_input(\"Enter a value:\")\n",
    "b=raw_input(\"Enter b value:\")\n",
    "print a+b"
   ]
  },
  {
   "cell_type": "code",
   "execution_count": 59,
   "metadata": {
    "collapsed": false
   },
   "outputs": [
    {
     "name": "stdout",
     "output_type": "stream",
     "text": [
      "Enter a value:11\n",
      "a>10: True\n",
      "value is greaterthan 10\n"
     ]
    }
   ],
   "source": [
    "a=raw_input(\"Enter a value:\")\n",
    "print \"a>10:\",a>10\n",
    "if a>10:\n",
    "    print \"value is greaterthan 10\"\n",
    "else:\n",
    "    print \"value is lessthan 10\"\n",
    "    "
   ]
  },
  {
   "cell_type": "code",
   "execution_count": 60,
   "metadata": {
    "collapsed": false
   },
   "outputs": [
    {
     "name": "stdout",
     "output_type": "stream",
     "text": [
      "Enter a value:5\n",
      "a>10: True\n",
      "value is greaterthan 10\n"
     ]
    }
   ],
   "source": [
    "a=raw_input(\"Enter a value:\")\n",
    "print \"a>10:\",a>10\n",
    "if a>10:\n",
    "    print \"value is greaterthan 10\"\n",
    "else:\n",
    "    print \"value is lessthan 10\"\n",
    "    "
   ]
  },
  {
   "cell_type": "code",
   "execution_count": 62,
   "metadata": {
    "collapsed": false
   },
   "outputs": [
    {
     "name": "stdout",
     "output_type": "stream",
     "text": [
      "Enter a value:12\n",
      "12<10: False\n",
      "value is greaterthan 10\n"
     ]
    }
   ],
   "source": [
    "a=raw_input(\"Enter a value:\")\n",
    "print \"%s<10:\"%(a),a<10\n",
    "if a<10:\n",
    "    print \"value is lessthan 10\"\n",
    "else:\n",
    "    print \"value is greaterthan 10\""
   ]
  },
  {
   "cell_type": "code",
   "execution_count": 63,
   "metadata": {
    "collapsed": false
   },
   "outputs": [
    {
     "name": "stdout",
     "output_type": "stream",
     "text": [
      "Enter a value:5\n",
      "5<10: False\n",
      "value is greaterthan 10\n"
     ]
    }
   ],
   "source": [
    "a=raw_input(\"Enter a value:\")\n",
    "print \"%s<10:\"%(a),a<10\n",
    "if a<10:\n",
    "    print \"value is lessthan 10\"\n",
    "else:\n",
    "    print \"value is greaterthan 10\""
   ]
  },
  {
   "cell_type": "code",
   "execution_count": 64,
   "metadata": {
    "collapsed": false
   },
   "outputs": [
    {
     "data": {
      "text/plain": [
       "False"
      ]
     },
     "execution_count": 64,
     "metadata": {},
     "output_type": "execute_result"
    }
   ],
   "source": [
    "\"5\"<10"
   ]
  },
  {
   "cell_type": "code",
   "execution_count": 67,
   "metadata": {
    "collapsed": false
   },
   "outputs": [
    {
     "name": "stdout",
     "output_type": "stream",
     "text": [
      "Enter a value:5\n",
      "5<10: True\n",
      "value is lessthan 10\n"
     ]
    }
   ],
   "source": [
    "a=raw_input(\"Enter a value:\")\n",
    "a=int(a)\n",
    "print \"%d<10:\"%(a),a<10\n",
    "if a<10:\n",
    "    print \"value is lessthan 10\"\n",
    "else:\n",
    "    print \"value is greaterthan 10\""
   ]
  },
  {
   "cell_type": "code",
   "execution_count": 68,
   "metadata": {
    "collapsed": false
   },
   "outputs": [
    {
     "name": "stdout",
     "output_type": "stream",
     "text": [
      "program started\n",
      "Enter a value:5\n",
      "5<10: True\n",
      "if block started\n",
      "value is lessthan 10\n",
      "if block ended\n",
      "other stsements in program\n",
      "program ended\n"
     ]
    }
   ],
   "source": [
    "print \"program started\"\n",
    "a=raw_input(\"Enter a value:\")\n",
    "a=int(a)\n",
    "print \"%d<10:\"%(a),a<10\n",
    "if a<10:\n",
    "    print \"if block started\"\n",
    "    print \"value is lessthan 10\"\n",
    "    print \"if block ended\"\n",
    "else:\n",
    "    print \"else block started\"\n",
    "    print \"value is greaterthan 10\"\n",
    "    print \"else block ended\"\n",
    "print \"other stsements in program\"\n",
    "print \"program ended\""
   ]
  },
  {
   "cell_type": "code",
   "execution_count": 69,
   "metadata": {
    "collapsed": false
   },
   "outputs": [
    {
     "name": "stdout",
     "output_type": "stream",
     "text": [
      "program started\n",
      "Enter a value:5\n",
      "5<10: True\n",
      "if block started\n",
      "value is lessthan 10\n",
      "if block ended\n",
      "else block ended\n",
      "other stsements in program\n",
      "program ended\n"
     ]
    }
   ],
   "source": [
    "print \"program started\"\n",
    "a=raw_input(\"Enter a value:\")\n",
    "a=int(a)\n",
    "print \"%d<10:\"%(a),a<10\n",
    "if a<10:\n",
    " print \"if block started\"\n",
    " print \"value is lessthan 10\"\n",
    " print \"if block ended\"\n",
    "else:\n",
    "  print \"else block started\"\n",
    "  print \"value is greaterthan 10\"\n",
    "print \"else block ended\"\n",
    "print \"other stsements in program\"\n",
    "print \"program ended\""
   ]
  },
  {
   "cell_type": "code",
   "execution_count": 70,
   "metadata": {
    "collapsed": false
   },
   "outputs": [
    {
     "ename": "IndentationError",
     "evalue": "unexpected indent (<ipython-input-70-5860ed444428>, line 7)",
     "output_type": "error",
     "traceback": [
      "\u001b[1;36m  File \u001b[1;32m\"<ipython-input-70-5860ed444428>\"\u001b[1;36m, line \u001b[1;32m7\u001b[0m\n\u001b[1;33m    print \"value is lessthan 10\"\u001b[0m\n\u001b[1;37m    ^\u001b[0m\n\u001b[1;31mIndentationError\u001b[0m\u001b[1;31m:\u001b[0m unexpected indent\n"
     ]
    }
   ],
   "source": [
    "print \"program started\"\n",
    "a=raw_input(\"Enter a value:\")\n",
    "a=int(a)\n",
    "print \"%d<10:\"%(a),a<10\n",
    "if a<10:\n",
    " print \"if block started\"\n",
    "  print \"value is lessthan 10\"\n",
    " print \"if block ended\"\n",
    "else:\n",
    "  print \"else block started\"\n",
    "  print \"value is greaterthan 10\"\n",
    "print \"else block ended\"\n",
    "print \"other stsements in program\"\n",
    "print \"program ended\""
   ]
  },
  {
   "cell_type": "code",
   "execution_count": 71,
   "metadata": {
    "collapsed": false
   },
   "outputs": [
    {
     "name": "stdout",
     "output_type": "stream",
     "text": [
      "program started\n",
      "Enter a value:5\n",
      "5<10: True\n",
      "if block started\n",
      "value is lessthan 10\n",
      "if block ended\n",
      "else block ended\n",
      "other stsements in program\n",
      "program ended\n"
     ]
    }
   ],
   "source": [
    "print \"program started\"\n",
    "a=raw_input(\"Enter a value:\")\n",
    "a=int(a)\n",
    "print \"%d<10:\"%(a),a<10\n",
    "if a<10:\n",
    "    print \"if block started\"\n",
    "    print \"value is lessthan 10\"\n",
    "    print \"if block ended\"\n",
    "else:\n",
    "    print \"else block started\"\n",
    "    print \"value is greaterthan 10\"\n",
    "print \"else block ended\"\n",
    "print \"other stsements in program\"\n",
    "print \"program ended\""
   ]
  },
  {
   "cell_type": "code",
   "execution_count": 72,
   "metadata": {
    "collapsed": false
   },
   "outputs": [
    {
     "name": "stdout",
     "output_type": "stream",
     "text": [
      "1.windows\n",
      "2.linux\n",
      "3.mac\n"
     ]
    }
   ],
   "source": [
    "\"\"\"\n",
    "1.windwos\n",
    "2.linux\n",
    "3.mac\n",
    "\"\"\"\n",
    "print \"1.windows\\n2.linux\\n3.mac\"\n"
   ]
  },
  {
   "cell_type": "code",
   "execution_count": 73,
   "metadata": {
    "collapsed": false
   },
   "outputs": [
    {
     "name": "stdout",
     "output_type": "stream",
     "text": [
      "1.windows\n",
      "2.linux\n",
      "3.mac\n",
      "Enter an option:3\n",
      "selected mac\n"
     ]
    }
   ],
   "source": [
    "\"\"\"\n",
    "1.windwos\n",
    "2.linux\n",
    "3.mac\n",
    "\"\"\"\n",
    "print \"1.windows\\n2.linux\\n3.mac\"\n",
    "opt = raw_input(\"Enter an option:\")\n",
    "if opt == '1':\n",
    "    print \"selected windows\"\n",
    "if opt ==\"2\":\n",
    "    print \"selected linux\"\n",
    "if opt == \"3\":\n",
    "    print \"selected mac\""
   ]
  },
  {
   "cell_type": "code",
   "execution_count": 74,
   "metadata": {
    "collapsed": false
   },
   "outputs": [
    {
     "name": "stdout",
     "output_type": "stream",
     "text": [
      "1.windows\n",
      "2.linux\n",
      "3.mac\n",
      "Enter an option:1\n",
      "selected windows\n"
     ]
    }
   ],
   "source": [
    "\"\"\"\n",
    "1.windwos\n",
    "2.linux\n",
    "3.mac\n",
    "\"\"\"\n",
    "print \"1.windows\\n2.linux\\n3.mac\"\n",
    "opt = raw_input(\"Enter an option:\")\n",
    "if opt == '1':\n",
    "    print \"selected windows\"\n",
    "if opt ==\"2\":\n",
    "    print \"selected linux\"\n",
    "if opt == \"3\":\n",
    "    print \"selected mac\""
   ]
  },
  {
   "cell_type": "code",
   "execution_count": 75,
   "metadata": {
    "collapsed": false
   },
   "outputs": [
    {
     "name": "stdout",
     "output_type": "stream",
     "text": [
      "1.windows\n",
      "2.linux\n",
      "3.mac\n",
      "Enter an option:4\n"
     ]
    }
   ],
   "source": [
    "\"\"\"\n",
    "1.windwos\n",
    "2.linux\n",
    "3.mac\n",
    "\"\"\"\n",
    "print \"1.windows\\n2.linux\\n3.mac\"\n",
    "opt = raw_input(\"Enter an option:\")\n",
    "if opt == '1':\n",
    "    print \"selected windows\"\n",
    "if opt ==\"2\":\n",
    "    print \"selected linux\"\n",
    "if opt == \"3\":\n",
    "    print \"selected mac\""
   ]
  },
  {
   "cell_type": "code",
   "execution_count": 76,
   "metadata": {
    "collapsed": false
   },
   "outputs": [
    {
     "name": "stdout",
     "output_type": "stream",
     "text": [
      "1.windows\n",
      "2.linux\n",
      "3.mac\n",
      "Enter an option:2\n",
      "selected linux\n",
      "wrong option\n"
     ]
    }
   ],
   "source": [
    "\"\"\"\n",
    "1.windwos\n",
    "2.linux\n",
    "3.mac\n",
    "\"\"\"\n",
    "print \"1.windows\\n2.linux\\n3.mac\"\n",
    "opt = raw_input(\"Enter an option:\")\n",
    "if opt == '1':\n",
    "    print \"selected windows\"\n",
    "if opt ==\"2\":\n",
    "    print \"selected linux\"\n",
    "if opt == \"3\":\n",
    "    print \"selected mac\"\n",
    "else:\n",
    "    print \"wrong option\""
   ]
  },
  {
   "cell_type": "code",
   "execution_count": 80,
   "metadata": {
    "collapsed": false
   },
   "outputs": [
    {
     "name": "stdout",
     "output_type": "stream",
     "text": [
      "program started\n",
      "1.windows\n",
      "2.linux\n",
      "3.mac\n",
      "Enter an option:2\n",
      "selected linux\n",
      "wrong option\n",
      "other statements in python program\n",
      "program ended\n"
     ]
    }
   ],
   "source": [
    "\"\"\"\n",
    "1.windwos\n",
    "2.linux\n",
    "3.mac\n",
    "\"\"\"\n",
    "print \"program started\"\n",
    "print \"1.windows\\n2.linux\\n3.mac\"\n",
    "opt = raw_input(\"Enter an option:\")\n",
    "if opt == '1':\n",
    "    print \"selected windows\"\n",
    "if opt ==\"2\":\n",
    "    print \"selected linux\"\n",
    "if opt == \"3\":\n",
    "    print \"selected mac\"\n",
    "else:\n",
    "    print \"wrong option\"\n",
    "print \"other statements in python program\"\n",
    "print \"program ended\""
   ]
  },
  {
   "cell_type": "code",
   "execution_count": 81,
   "metadata": {
    "collapsed": false
   },
   "outputs": [
    {
     "name": "stdout",
     "output_type": "stream",
     "text": [
      "program started\n",
      "1.windows\n",
      "2.linux\n",
      "3.mac\n",
      "Enter an option:2\n",
      "selected linux\n",
      "other statements in python program\n",
      "program ended\n"
     ]
    }
   ],
   "source": [
    "\"\"\"\n",
    "1.windwos\n",
    "2.linux\n",
    "3.mac\n",
    "\"\"\"\n",
    "print \"program started\"\n",
    "print \"1.windows\\n2.linux\\n3.mac\"\n",
    "opt = raw_input(\"Enter an option:\")\n",
    "if opt == '1':\n",
    "    print \"selected windows\"\n",
    "elif opt ==\"2\":\n",
    "    print \"selected linux\"\n",
    "elif opt == \"3\":\n",
    "    print \"selected mac\"\n",
    "else:\n",
    "    print \"wrong option\"\n",
    "print \"other statements in python program\"\n",
    "print \"program ended\""
   ]
  },
  {
   "cell_type": "code",
   "execution_count": 82,
   "metadata": {
    "collapsed": false
   },
   "outputs": [
    {
     "name": "stdout",
     "output_type": "stream",
     "text": [
      "program started\n",
      "1.windows\n",
      "2.linux\n",
      "3.mac\n",
      "Enter an option:4\n",
      "wrong option\n",
      "other statements in python program\n",
      "program ended\n"
     ]
    }
   ],
   "source": [
    "\"\"\"\n",
    "1.windwos\n",
    "2.linux\n",
    "3.mac\n",
    "\"\"\"\n",
    "print \"program started\"\n",
    "print \"1.windows\\n2.linux\\n3.mac\"\n",
    "opt = raw_input(\"Enter an option:\")\n",
    "if opt == '1':\n",
    "    print \"selected windows\"\n",
    "elif opt ==\"2\":\n",
    "    print \"selected linux\"\n",
    "elif opt == \"3\":\n",
    "    print \"selected mac\"\n",
    "else:\n",
    "    print \"wrong option\"\n",
    "print \"other statements in python program\"\n",
    "print \"program ended\""
   ]
  },
  {
   "cell_type": "code",
   "execution_count": 83,
   "metadata": {
    "collapsed": false
   },
   "outputs": [
    {
     "name": "stdout",
     "output_type": "stream",
     "text": [
      "Enter:\n"
     ]
    }
   ],
   "source": [
    "# check whether user given data or not\n",
    "a=raw_input(\"Enter:\")"
   ]
  },
  {
   "cell_type": "code",
   "execution_count": null,
   "metadata": {
    "collapsed": true
   },
   "outputs": [],
   "source": [
    "print \"program started\"\n",
    "c=0\n",
    "while c<10:\n",
    "    print c\n",
    "print \"other statement in program\"\n",
    "print \"program ended\""
   ]
  },
  {
   "cell_type": "code",
   "execution_count": 84,
   "metadata": {
    "collapsed": false
   },
   "outputs": [
    {
     "name": "stdout",
     "output_type": "stream",
     "text": [
      "program started\n",
      "0\n",
      "1\n",
      "2\n",
      "3\n",
      "4\n",
      "5\n",
      "6\n",
      "7\n",
      "8\n",
      "9\n",
      "other statement in program\n",
      "program ended\n"
     ]
    }
   ],
   "source": [
    "print \"program started\"\n",
    "c=0\n",
    "while c<10:\n",
    "    print c\n",
    "    c=c+1\n",
    "    \n",
    "print \"other statement in program\"\n",
    "print \"program ended\""
   ]
  },
  {
   "cell_type": "code",
   "execution_count": 85,
   "metadata": {
    "collapsed": false
   },
   "outputs": [
    {
     "name": "stdout",
     "output_type": "stream",
     "text": [
      "program started\n",
      "10\n",
      "other statement in program\n",
      "program ended\n"
     ]
    }
   ],
   "source": [
    "print \"program started\"\n",
    "c=0\n",
    "while c<10:\n",
    "    c=c+1\n",
    "print c\n",
    "print \"other statement in program\"\n",
    "print \"program ended\""
   ]
  },
  {
   "cell_type": "code",
   "execution_count": 87,
   "metadata": {
    "collapsed": false
   },
   "outputs": [
    {
     "name": "stdout",
     "output_type": "stream",
     "text": [
      "program started\n",
      "p\n",
      "y\n",
      "t\n",
      "h\n",
      "o\n",
      "n\n",
      " \n",
      "p\n",
      "r\n",
      "o\n",
      "g\n",
      "r\n",
      "a\n",
      "m\n",
      "other statement in program\n",
      "program ended\n"
     ]
    }
   ],
   "source": [
    "print \"program started\"\n",
    "c=0\n",
    "for c in \"python program\":\n",
    "    print c\n",
    "print \"other statement in program\"\n",
    "print \"program ended\""
   ]
  },
  {
   "cell_type": "code",
   "execution_count": 88,
   "metadata": {
    "collapsed": false
   },
   "outputs": [
    {
     "name": "stdout",
     "output_type": "stream",
     "text": [
      "program started\n",
      "iteration started\n",
      "p\n",
      "iteration ended\n",
      "iteration started\n",
      "y\n",
      "iteration ended\n",
      "iteration started\n",
      "t\n",
      "iteration ended\n",
      "iteration started\n",
      "h\n",
      "iteration ended\n",
      "iteration started\n",
      "o\n",
      "iteration ended\n",
      "iteration started\n",
      "n\n",
      "iteration ended\n",
      "iteration started\n",
      " \n",
      "iteration ended\n",
      "iteration started\n",
      "p\n",
      "iteration ended\n",
      "iteration started\n",
      "r\n",
      "iteration ended\n",
      "iteration started\n",
      "o\n",
      "iteration ended\n",
      "iteration started\n",
      "g\n",
      "iteration ended\n",
      "iteration started\n",
      "r\n",
      "iteration ended\n",
      "iteration started\n",
      "a\n",
      "iteration ended\n",
      "iteration started\n",
      "m\n",
      "iteration ended\n",
      "other statement in program\n",
      "program ended\n"
     ]
    }
   ],
   "source": [
    "print \"program started\"\n",
    "c=0\n",
    "for c in \"python program\":\n",
    "    print \"iteration started\"\n",
    "    print c\n",
    "    print \"iteration ended\"\n",
    "print \"other statement in program\"\n",
    "print \"program ended\""
   ]
  },
  {
   "cell_type": "code",
   "execution_count": 89,
   "metadata": {
    "collapsed": false
   },
   "outputs": [
    {
     "name": "stdout",
     "output_type": "stream",
     "text": [
      "program started\n",
      "iteration started\n",
      "p\n",
      "iteration ended\n",
      "iteration started\n",
      "y\n",
      "iteration ended\n",
      "iteration started\n",
      "t\n",
      "iteration ended\n",
      "iteration started\n",
      "h\n",
      "iteration ended\n",
      "iteration started\n",
      "o\n",
      "iteration ended\n",
      "iteration started\n",
      "n\n",
      "iteration ended\n",
      "iteration started\n",
      " \n",
      "iteration ended\n",
      "iteration started\n",
      "p\n",
      "iteration ended\n",
      "iteration started\n",
      "r\n",
      "iteration ended\n",
      "iteration started\n",
      "o\n",
      "iteration ended\n",
      "iteration started\n",
      "g\n",
      "iteration ended\n",
      "iteration started\n",
      "r\n",
      "iteration ended\n",
      "iteration started\n",
      "a\n",
      "iteration ended\n",
      "iteration started\n",
      "m\n",
      "iteration ended\n",
      "other statement in program\n",
      "program ended\n"
     ]
    }
   ],
   "source": [
    "print \"program started\"\n",
    "for c in \"python program\":\n",
    "    print \"iteration started\"\n",
    "    print c\n",
    "    print \"iteration ended\"\n",
    "print \"other statement in program\"\n",
    "print \"program ended\""
   ]
  },
  {
   "cell_type": "code",
   "execution_count": 90,
   "metadata": {
    "collapsed": false
   },
   "outputs": [
    {
     "name": "stdout",
     "output_type": "stream",
     "text": [
      "program started\n",
      "\n",
      "\n",
      "\n",
      "\n",
      "\n",
      "\n",
      "\n",
      "\n",
      "\n",
      "\n",
      "\n",
      "\n",
      "\n",
      "\n",
      "m\n",
      "other statement in program\n",
      "program ended\n"
     ]
    }
   ],
   "source": [
    "print \"program started\"\n",
    "for c in \"python program\":\n",
    "   print \"\"\n",
    "print c\n",
    "print \"other statement in program\"\n",
    "print \"program ended\""
   ]
  },
  {
   "cell_type": "code",
   "execution_count": 91,
   "metadata": {
    "collapsed": false
   },
   "outputs": [
    {
     "name": "stdout",
     "output_type": "stream",
     "text": [
      "program started\n",
      "iter started\n",
      "0\n",
      "iter ended\n",
      "iter started\n",
      "1\n",
      "iter ended\n",
      "iter started\n",
      "2\n",
      "iter ended\n",
      "iter started\n",
      "3\n",
      "iter ended\n",
      "iter started\n",
      "4\n",
      "iter ended\n",
      "iter started\n",
      "5\n",
      "iter ended\n",
      "iter started\n",
      "other statement in program\n",
      "program ended\n"
     ]
    }
   ],
   "source": [
    "print \"program started\"\n",
    "c=0\n",
    "while c<10:\n",
    "    print \"iter started\"\n",
    "    if c>5:\n",
    "        break\n",
    "    print c\n",
    "    c=c+1\n",
    "    print \"iter ended\"\n",
    "print \"other statement in program\"\n",
    "print \"program ended\""
   ]
  },
  {
   "cell_type": "code",
   "execution_count": 92,
   "metadata": {
    "collapsed": false
   },
   "outputs": [
    {
     "name": "stdout",
     "output_type": "stream",
     "text": [
      "program started\n",
      "0\n",
      "other statement in program\n",
      "program ended\n"
     ]
    }
   ],
   "source": [
    "print \"program started\"\n",
    "c=0\n",
    "while c<10:\n",
    "    break\n",
    "    print \"iter ended\"\n",
    "print c\n",
    "print \"other statement in program\"\n",
    "print \"program ended\""
   ]
  },
  {
   "cell_type": "code",
   "execution_count": 93,
   "metadata": {
    "collapsed": false
   },
   "outputs": [
    {
     "name": "stdout",
     "output_type": "stream",
     "text": [
      "program started\n",
      "0\n",
      "1\n",
      "2\n",
      "3\n",
      "4\n",
      "5\n",
      "6\n",
      "7\n",
      "8\n",
      "9\n",
      "other statement in program\n",
      "program ended\n"
     ]
    }
   ],
   "source": [
    "print \"program started\"\n",
    "c=0\n",
    "while c<10:\n",
    "    print c\n",
    "    c=c+1\n",
    "    continue\n",
    "print \"other statement in program\"\n",
    "print \"program ended\""
   ]
  },
  {
   "cell_type": "code",
   "execution_count": 94,
   "metadata": {
    "collapsed": false
   },
   "outputs": [
    {
     "name": "stdout",
     "output_type": "stream",
     "text": [
      "program started\n",
      "iteration started\n",
      "1\n",
      "iteration ended\n",
      "iteration started\n",
      "2\n",
      "iteration ended\n",
      "iteration started\n",
      "3\n",
      "iteration ended\n",
      "iteration started\n",
      "4\n",
      "iteration ended\n",
      "iteration started\n",
      "iteration started\n",
      "6\n",
      "iteration ended\n",
      "iteration started\n",
      "7\n",
      "iteration ended\n",
      "iteration started\n",
      "8\n",
      "iteration ended\n",
      "iteration started\n",
      "9\n",
      "iteration ended\n",
      "iteration started\n",
      "10\n",
      "iteration ended\n",
      "other statement in program\n",
      "program ended\n"
     ]
    }
   ],
   "source": [
    "print \"program started\"\n",
    "c=0\n",
    "while c<10:\n",
    "    print \"iteration started\"\n",
    "    c=c+1\n",
    "    if c==5:\n",
    "        continue\n",
    "    print c\n",
    "    print \"iteration ended\"\n",
    "\n",
    "print \"other statement in program\"\n",
    "print \"program ended\""
   ]
  },
  {
   "cell_type": "code",
   "execution_count": 95,
   "metadata": {
    "collapsed": false
   },
   "outputs": [
    {
     "name": "stdout",
     "output_type": "stream",
     "text": [
      "program started\n",
      "other statement in program\n",
      "program ended\n"
     ]
    }
   ],
   "source": [
    "print \"program started\"\n",
    "for i in \"python program\":\n",
    "    continue\n",
    "    print i\n",
    "print \"other statement in program\"\n",
    "print \"program ended\""
   ]
  },
  {
   "cell_type": "code",
   "execution_count": 96,
   "metadata": {
    "collapsed": false
   },
   "outputs": [
    {
     "name": "stdout",
     "output_type": "stream",
     "text": [
      "program started\n",
      "m\n",
      "other statement in program\n",
      "program ended\n"
     ]
    }
   ],
   "source": [
    "print \"program started\"\n",
    "for i in \"python program\":\n",
    "    continue\n",
    "print i\n",
    "print \"other statement in program\"\n",
    "print \"program ended\""
   ]
  },
  {
   "cell_type": "code",
   "execution_count": 97,
   "metadata": {
    "collapsed": false
   },
   "outputs": [
    {
     "name": "stdout",
     "output_type": "stream",
     "text": [
      "program started\n",
      "p\n",
      "other statement in program\n",
      "program ended\n"
     ]
    }
   ],
   "source": [
    "print \"program started\"\n",
    "for i in \"python program\":\n",
    "    break\n",
    "print i\n",
    "print \"other statement in program\"\n",
    "print \"program ended\""
   ]
  },
  {
   "cell_type": "code",
   "execution_count": 98,
   "metadata": {
    "collapsed": true
   },
   "outputs": [],
   "source": [
    "def fun():\n",
    "    print \"this is function\""
   ]
  },
  {
   "cell_type": "code",
   "execution_count": 99,
   "metadata": {
    "collapsed": false
   },
   "outputs": [
    {
     "name": "stdout",
     "output_type": "stream",
     "text": [
      "this is function\n"
     ]
    }
   ],
   "source": [
    "fun()"
   ]
  },
  {
   "cell_type": "code",
   "execution_count": 102,
   "metadata": {
    "collapsed": false
   },
   "outputs": [
    {
     "name": "stdout",
     "output_type": "stream",
     "text": [
      "program started\n",
      "function calling\n",
      "a=100,b=200\n",
      "300\n",
      "function call completed\n",
      "other statements in program\n",
      "program ended\n"
     ]
    }
   ],
   "source": [
    "print \"program started\"\n",
    "def fun1(a,b):\n",
    "    print \"a=%d,b=%d\"%(a,b)\n",
    "    print a+b\n",
    "print \"function calling\"\n",
    "fun1(100,200)\n",
    "print \"function call completed\"\n",
    "print \"other statements in program\"\n",
    "print \"program ended\""
   ]
  },
  {
   "cell_type": "code",
   "execution_count": 103,
   "metadata": {
    "collapsed": false
   },
   "outputs": [
    {
     "name": "stdout",
     "output_type": "stream",
     "text": [
      "100 200 300\n"
     ]
    }
   ],
   "source": [
    "def fun(a,b,c):\n",
    "    print a,b,c\n",
    "fun(100,200,300)"
   ]
  },
  {
   "cell_type": "code",
   "execution_count": 104,
   "metadata": {
    "collapsed": false
   },
   "outputs": [
    {
     "name": "stdout",
     "output_type": "stream",
     "text": [
      "100 200 300\n",
      "None\n"
     ]
    }
   ],
   "source": [
    "def fun(a,b,c):\n",
    "    print a,b,c\n",
    "d=fun(100,200,300)\n",
    "print d"
   ]
  },
  {
   "cell_type": "code",
   "execution_count": 105,
   "metadata": {
    "collapsed": false
   },
   "outputs": [
    {
     "name": "stdout",
     "output_type": "stream",
     "text": [
      "100 200 300\n",
      "200 300 400\n"
     ]
    }
   ],
   "source": [
    "def fun(a,b,c):\n",
    "    print a,b,c\n",
    "    a=a+100\n",
    "    b=b+100\n",
    "    c=c+100\n",
    "    print a,b,c\n",
    "    return 1000\n",
    "d=fun(100,200,300)"
   ]
  },
  {
   "cell_type": "code",
   "execution_count": 106,
   "metadata": {
    "collapsed": false
   },
   "outputs": [
    {
     "name": "stdout",
     "output_type": "stream",
     "text": [
      "10000\n",
      "20000\n",
      "300\n"
     ]
    }
   ],
   "source": [
    "def fun(a,b):\n",
    "    print 10000\n",
    "    print 20000\n",
    "    return a+b\n",
    "c=fun(100,200)\n",
    "print c"
   ]
  },
  {
   "cell_type": "code",
   "execution_count": 107,
   "metadata": {
    "collapsed": false
   },
   "outputs": [
    {
     "name": "stdout",
     "output_type": "stream",
     "text": [
      "10000\n",
      "20000\n",
      "None\n"
     ]
    }
   ],
   "source": [
    "def fun(a,b):\n",
    "    print 10000\n",
    "    print 20000\n",
    "c=fun(100,200)\n",
    "print c"
   ]
  },
  {
   "cell_type": "code",
   "execution_count": null,
   "metadata": {
    "collapsed": true
   },
   "outputs": [],
   "source": []
  }
 ],
 "metadata": {
  "kernelspec": {
   "display_name": "Python 2",
   "language": "python",
   "name": "python2"
  },
  "language_info": {
   "codemirror_mode": {
    "name": "ipython",
    "version": 2
   },
   "file_extension": ".py",
   "mimetype": "text/x-python",
   "name": "python",
   "nbconvert_exporter": "python",
   "pygments_lexer": "ipython2",
   "version": "2.7.11"
  }
 },
 "nbformat": 4,
 "nbformat_minor": 0
}
