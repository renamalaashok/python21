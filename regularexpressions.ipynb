{
 "cells": [
  {
   "cell_type": "code",
   "execution_count": 1,
   "metadata": {
    "collapsed": true
   },
   "outputs": [],
   "source": [
    "f=open('data1.csv')\n",
    "data = f.read()"
   ]
  },
  {
   "cell_type": "code",
   "execution_count": 2,
   "metadata": {
    "collapsed": false
   },
   "outputs": [
    {
     "data": {
      "text/plain": [
       "'name,age,sal,cell,email\\nname1,23,12334,7869086543,email1@gmail.com\\nname2,23,12334,8869086543,email2@yahoo.com\\nname3,23,12334,9869086543,email1@outlook.com\\nname4,23,12334,8969086543,email1@redif.com\\n'"
      ]
     },
     "execution_count": 2,
     "metadata": {},
     "output_type": "execute_result"
    }
   ],
   "source": [
    "data"
   ]
  },
  {
   "cell_type": "code",
   "execution_count": 3,
   "metadata": {
    "collapsed": false
   },
   "outputs": [
    {
     "name": "stdout",
     "output_type": "stream",
     "text": [
      "n\n"
     ]
    }
   ],
   "source": [
    "for i in data:\n",
    "    print i\n",
    "    break"
   ]
  },
  {
   "cell_type": "code",
   "execution_count": 4,
   "metadata": {
    "collapsed": false
   },
   "outputs": [
    {
     "data": {
      "text/plain": [
       "['name',\n",
       " 'age',\n",
       " 'sal',\n",
       " 'cell',\n",
       " 'email\\nname1',\n",
       " '23',\n",
       " '12334',\n",
       " '7869086543',\n",
       " 'email1@gmail.com\\nname2',\n",
       " '23',\n",
       " '12334',\n",
       " '8869086543',\n",
       " 'email2@yahoo.com\\nname3',\n",
       " '23',\n",
       " '12334',\n",
       " '9869086543',\n",
       " 'email1@outlook.com\\nname4',\n",
       " '23',\n",
       " '12334',\n",
       " '8969086543',\n",
       " 'email1@redif.com\\n']"
      ]
     },
     "execution_count": 4,
     "metadata": {},
     "output_type": "execute_result"
    }
   ],
   "source": [
    "data.split(',')"
   ]
  },
  {
   "cell_type": "code",
   "execution_count": 6,
   "metadata": {
    "collapsed": false
   },
   "outputs": [],
   "source": [
    "lines = data.split(\"\\n\")"
   ]
  },
  {
   "cell_type": "code",
   "execution_count": 8,
   "metadata": {
    "collapsed": false
   },
   "outputs": [
    {
     "name": "stdout",
     "output_type": "stream",
     "text": [
      "name,age,sal,cell,email\n",
      "name1,23,12334,7869086543,email1@gmail.com\n",
      "name2,23,12334,8869086543,email2@yahoo.com\n",
      "name3,23,12334,9869086543,email1@outlook.com\n",
      "name4,23,12334,8969086543,email1@redif.com\n",
      "\n"
     ]
    }
   ],
   "source": [
    "for line in lines:\n",
    "    print line"
   ]
  },
  {
   "cell_type": "code",
   "execution_count": 9,
   "metadata": {
    "collapsed": false
   },
   "outputs": [
    {
     "name": "stdout",
     "output_type": "stream",
     "text": [
      "['name', 'age', 'sal', 'cell', 'email']\n",
      "['name1', '23', '12334', '7869086543', 'email1@gmail.com']\n",
      "['name2', '23', '12334', '8869086543', 'email2@yahoo.com']\n",
      "['name3', '23', '12334', '9869086543', 'email1@outlook.com']\n",
      "['name4', '23', '12334', '8969086543', 'email1@redif.com']\n",
      "['']\n"
     ]
    }
   ],
   "source": [
    "for line in lines:\n",
    "    print line.split(',')"
   ]
  },
  {
   "cell_type": "code",
   "execution_count": 10,
   "metadata": {
    "collapsed": false
   },
   "outputs": [
    {
     "name": "stdout",
     "output_type": "stream",
     "text": [
      "email\n",
      "email1@gmail.com\n",
      "email2@yahoo.com\n",
      "email1@outlook.com\n",
      "email1@redif.com\n",
      "\n"
     ]
    }
   ],
   "source": [
    "for line in lines:\n",
    "    print line.split(',')[-1]"
   ]
  },
  {
   "cell_type": "code",
   "execution_count": 11,
   "metadata": {
    "collapsed": false
   },
   "outputs": [
    {
     "name": "stdout",
     "output_type": "stream",
     "text": [
      "email1@gmail.com\n",
      "email2@yahoo.com\n",
      "email1@outlook.com\n",
      "email1@redif.com\n",
      "\n"
     ]
    }
   ],
   "source": [
    "for line in lines[1:]:\n",
    "    print line.split(',')[-1]"
   ]
  },
  {
   "cell_type": "code",
   "execution_count": 12,
   "metadata": {
    "collapsed": false
   },
   "outputs": [
    {
     "data": {
      "text/plain": [
       "['7869086543', '8869086543', '9869086543', '8969086543']"
      ]
     },
     "execution_count": 12,
     "metadata": {},
     "output_type": "execute_result"
    }
   ],
   "source": [
    "import re\n",
    "re.findall('[0-9]{10}',data)"
   ]
  },
  {
   "cell_type": "code",
   "execution_count": 13,
   "metadata": {
    "collapsed": true
   },
   "outputs": [],
   "source": [
    "f=open('data1.csv')\n",
    "data=f.read()"
   ]
  },
  {
   "cell_type": "code",
   "execution_count": 14,
   "metadata": {
    "collapsed": false
   },
   "outputs": [
    {
     "data": {
      "text/plain": [
       "'email1@gmail.com,name1,23,12334,7869086543\\nname2,23,email2@yahoo.com,12334,8869086543\\nname3,23,12334,9869086543,email1@outlook.com\\nname4,email1@redif.com,23,8969086543,12334\\n'"
      ]
     },
     "execution_count": 14,
     "metadata": {},
     "output_type": "execute_result"
    }
   ],
   "source": [
    "data"
   ]
  },
  {
   "cell_type": "code",
   "execution_count": 15,
   "metadata": {
    "collapsed": false
   },
   "outputs": [
    {
     "name": "stdout",
     "output_type": "stream",
     "text": [
      "['email1@gmail.com,name1,23,12334,7869086543', 'name2,23,email2@yahoo.com,12334,8869086543', 'name3,23,12334,9869086543,email1@outlook.com', 'name4,email1@redif.com,23,8969086543,12334', '']\n"
     ]
    }
   ],
   "source": [
    "print data.split('\\n')"
   ]
  },
  {
   "cell_type": "code",
   "execution_count": 16,
   "metadata": {
    "collapsed": false
   },
   "outputs": [
    {
     "data": {
      "text/plain": [
       "['7869086543', '8869086543', '9869086543', '8969086543']"
      ]
     },
     "execution_count": 16,
     "metadata": {},
     "output_type": "execute_result"
    }
   ],
   "source": [
    "import re\n",
    "re.findall('[0-9]{10}',data)"
   ]
  },
  {
   "cell_type": "code",
   "execution_count": 17,
   "metadata": {
    "collapsed": true
   },
   "outputs": [],
   "source": [
    "# []{}?+*.$^"
   ]
  },
  {
   "cell_type": "code",
   "execution_count": 18,
   "metadata": {
    "collapsed": false
   },
   "outputs": [
    {
     "data": {
      "text/plain": [
       "['p', 'p']"
      ]
     },
     "execution_count": 18,
     "metadata": {},
     "output_type": "execute_result"
    }
   ],
   "source": [
    "s=\"python program\"\n",
    "re.findall('p',s)"
   ]
  },
  {
   "cell_type": "code",
   "execution_count": 19,
   "metadata": {
    "collapsed": false
   },
   "outputs": [
    {
     "data": {
      "text/plain": [
       "'email1@gmail.com,name1,23,12334,7869086543\\nname2,23,email2@yahoo.com,12334,8869086543\\nname3,23,12334,9869086543,email1@outlook.com\\nname4,email1@redif.com,23,8969086543,12334\\n'"
      ]
     },
     "execution_count": 19,
     "metadata": {},
     "output_type": "execute_result"
    }
   ],
   "source": [
    "data"
   ]
  },
  {
   "cell_type": "code",
   "execution_count": 20,
   "metadata": {
    "collapsed": false
   },
   "outputs": [
    {
     "data": {
      "text/plain": [
       "['a', 'a', 'c', 'a', 'a', 'a', 'a', 'c', 'a', 'a', 'c', 'a', 'a', 'c']"
      ]
     },
     "execution_count": 20,
     "metadata": {},
     "output_type": "execute_result"
    }
   ],
   "source": [
    "re.findall('[abc]',data)"
   ]
  },
  {
   "cell_type": "code",
   "execution_count": 21,
   "metadata": {
    "collapsed": false
   },
   "outputs": [
    {
     "data": {
      "text/plain": [
       "['e',\n",
       " 'm',\n",
       " 'a',\n",
       " 'i',\n",
       " 'l',\n",
       " 'g',\n",
       " 'm',\n",
       " 'a',\n",
       " 'i',\n",
       " 'l',\n",
       " 'c',\n",
       " 'o',\n",
       " 'm',\n",
       " 'n',\n",
       " 'a',\n",
       " 'm',\n",
       " 'e',\n",
       " 'n',\n",
       " 'a',\n",
       " 'm',\n",
       " 'e',\n",
       " 'e',\n",
       " 'm',\n",
       " 'a',\n",
       " 'i',\n",
       " 'l',\n",
       " 'y',\n",
       " 'a',\n",
       " 'h',\n",
       " 'o',\n",
       " 'o',\n",
       " 'c',\n",
       " 'o',\n",
       " 'm',\n",
       " 'n',\n",
       " 'a',\n",
       " 'm',\n",
       " 'e',\n",
       " 'e',\n",
       " 'm',\n",
       " 'a',\n",
       " 'i',\n",
       " 'l',\n",
       " 'o',\n",
       " 'u',\n",
       " 't',\n",
       " 'l',\n",
       " 'o',\n",
       " 'o',\n",
       " 'k',\n",
       " 'c',\n",
       " 'o',\n",
       " 'm',\n",
       " 'n',\n",
       " 'a',\n",
       " 'm',\n",
       " 'e',\n",
       " 'e',\n",
       " 'm',\n",
       " 'a',\n",
       " 'i',\n",
       " 'l',\n",
       " 'r',\n",
       " 'e',\n",
       " 'd',\n",
       " 'i',\n",
       " 'f',\n",
       " 'c',\n",
       " 'o',\n",
       " 'm']"
      ]
     },
     "execution_count": 21,
     "metadata": {},
     "output_type": "execute_result"
    }
   ],
   "source": [
    "re.findall('[a-z]',data)"
   ]
  },
  {
   "cell_type": "code",
   "execution_count": 22,
   "metadata": {
    "collapsed": false
   },
   "outputs": [
    {
     "data": {
      "text/plain": [
       "['1',\n",
       " '1',\n",
       " '2',\n",
       " '3',\n",
       " '1',\n",
       " '2',\n",
       " '3',\n",
       " '3',\n",
       " '4',\n",
       " '7',\n",
       " '8',\n",
       " '6',\n",
       " '9',\n",
       " '0',\n",
       " '8',\n",
       " '6',\n",
       " '5',\n",
       " '4',\n",
       " '3',\n",
       " '2',\n",
       " '2',\n",
       " '3',\n",
       " '2',\n",
       " '1',\n",
       " '2',\n",
       " '3',\n",
       " '3',\n",
       " '4',\n",
       " '8',\n",
       " '8',\n",
       " '6',\n",
       " '9',\n",
       " '0',\n",
       " '8',\n",
       " '6',\n",
       " '5',\n",
       " '4',\n",
       " '3',\n",
       " '3',\n",
       " '2',\n",
       " '3',\n",
       " '1',\n",
       " '2',\n",
       " '3',\n",
       " '3',\n",
       " '4',\n",
       " '9',\n",
       " '8',\n",
       " '6',\n",
       " '9',\n",
       " '0',\n",
       " '8',\n",
       " '6',\n",
       " '5',\n",
       " '4',\n",
       " '3',\n",
       " '1',\n",
       " '4',\n",
       " '1',\n",
       " '2',\n",
       " '3',\n",
       " '8',\n",
       " '9',\n",
       " '6',\n",
       " '9',\n",
       " '0',\n",
       " '8',\n",
       " '6',\n",
       " '5',\n",
       " '4',\n",
       " '3',\n",
       " '1',\n",
       " '2',\n",
       " '3',\n",
       " '3',\n",
       " '4']"
      ]
     },
     "execution_count": 22,
     "metadata": {},
     "output_type": "execute_result"
    }
   ],
   "source": [
    "re.findall('[0-9]',data)"
   ]
  },
  {
   "cell_type": "code",
   "execution_count": 23,
   "metadata": {
    "collapsed": false
   },
   "outputs": [
    {
     "data": {
      "text/plain": [
       "['l1', 'e1', 'e2', 'l2', 'e3', 'l1', 'e4', 'l1']"
      ]
     },
     "execution_count": 23,
     "metadata": {},
     "output_type": "execute_result"
    }
   ],
   "source": [
    "re.findall('[a-z][0-9]',data)"
   ]
  },
  {
   "cell_type": "code",
   "execution_count": 24,
   "metadata": {
    "collapsed": false
   },
   "outputs": [
    {
     "data": {
      "text/plain": [
       "'email1@gmail.com,name1,23,12334,7869086543\\nname2,23,email2@yahoo.com,12334,8869086543\\nname3,23,12334,9869086543,email1@outlook.com\\nname4,email1@redif.com,23,8969086543,12334\\n'"
      ]
     },
     "execution_count": 24,
     "metadata": {},
     "output_type": "execute_result"
    }
   ],
   "source": [
    "data"
   ]
  },
  {
   "cell_type": "code",
   "execution_count": 25,
   "metadata": {
    "collapsed": false
   },
   "outputs": [
    {
     "data": {
      "text/plain": [
       "['ail1', 'ame1', 'ame2', 'ail2', 'ame3', 'ail1', 'ame4', 'ail1']"
      ]
     },
     "execution_count": 25,
     "metadata": {},
     "output_type": "execute_result"
    }
   ],
   "source": [
    "re.findall('[a-z]{3}[0-9]',data)"
   ]
  },
  {
   "cell_type": "code",
   "execution_count": 27,
   "metadata": {
    "collapsed": false
   },
   "outputs": [
    {
     "data": {
      "text/plain": [
       "['email1', 'name1', 'name2', 'email2', 'name3', 'email1', 'name4', 'email1']"
      ]
     },
     "execution_count": 27,
     "metadata": {},
     "output_type": "execute_result"
    }
   ],
   "source": [
    "re.findall('[a-z]{1,5}[0-9]',data)"
   ]
  },
  {
   "cell_type": "code",
   "execution_count": 28,
   "metadata": {
    "collapsed": false
   },
   "outputs": [
    {
     "data": {
      "text/plain": [
       "['email1', 'name1', 'name2', 'email2', 'name3', 'email1', 'name4', 'email1']"
      ]
     },
     "execution_count": 28,
     "metadata": {},
     "output_type": "execute_result"
    }
   ],
   "source": [
    "re.findall('[a-z]+[0-9]',data)"
   ]
  },
  {
   "cell_type": "code",
   "execution_count": 29,
   "metadata": {
    "collapsed": false
   },
   "outputs": [
    {
     "data": {
      "text/plain": [
       "['email1',\n",
       " 'name1',\n",
       " '2',\n",
       " '3',\n",
       " '1',\n",
       " '2',\n",
       " '3',\n",
       " '3',\n",
       " '4',\n",
       " '7',\n",
       " '8',\n",
       " '6',\n",
       " '9',\n",
       " '0',\n",
       " '8',\n",
       " '6',\n",
       " '5',\n",
       " '4',\n",
       " '3',\n",
       " 'name2',\n",
       " '2',\n",
       " '3',\n",
       " 'email2',\n",
       " '1',\n",
       " '2',\n",
       " '3',\n",
       " '3',\n",
       " '4',\n",
       " '8',\n",
       " '8',\n",
       " '6',\n",
       " '9',\n",
       " '0',\n",
       " '8',\n",
       " '6',\n",
       " '5',\n",
       " '4',\n",
       " '3',\n",
       " 'name3',\n",
       " '2',\n",
       " '3',\n",
       " '1',\n",
       " '2',\n",
       " '3',\n",
       " '3',\n",
       " '4',\n",
       " '9',\n",
       " '8',\n",
       " '6',\n",
       " '9',\n",
       " '0',\n",
       " '8',\n",
       " '6',\n",
       " '5',\n",
       " '4',\n",
       " '3',\n",
       " 'email1',\n",
       " 'name4',\n",
       " 'email1',\n",
       " '2',\n",
       " '3',\n",
       " '8',\n",
       " '9',\n",
       " '6',\n",
       " '9',\n",
       " '0',\n",
       " '8',\n",
       " '6',\n",
       " '5',\n",
       " '4',\n",
       " '3',\n",
       " '1',\n",
       " '2',\n",
       " '3',\n",
       " '3',\n",
       " '4']"
      ]
     },
     "execution_count": 29,
     "metadata": {},
     "output_type": "execute_result"
    }
   ],
   "source": [
    "re.findall('[a-z]*[0-9]',data)"
   ]
  },
  {
   "cell_type": "code",
   "execution_count": 30,
   "metadata": {
    "collapsed": false
   },
   "outputs": [
    {
     "data": {
      "text/plain": [
       "['l1',\n",
       " 'e1',\n",
       " '2',\n",
       " '3',\n",
       " '1',\n",
       " '2',\n",
       " '3',\n",
       " '3',\n",
       " '4',\n",
       " '7',\n",
       " '8',\n",
       " '6',\n",
       " '9',\n",
       " '0',\n",
       " '8',\n",
       " '6',\n",
       " '5',\n",
       " '4',\n",
       " '3',\n",
       " 'e2',\n",
       " '2',\n",
       " '3',\n",
       " 'l2',\n",
       " '1',\n",
       " '2',\n",
       " '3',\n",
       " '3',\n",
       " '4',\n",
       " '8',\n",
       " '8',\n",
       " '6',\n",
       " '9',\n",
       " '0',\n",
       " '8',\n",
       " '6',\n",
       " '5',\n",
       " '4',\n",
       " '3',\n",
       " 'e3',\n",
       " '2',\n",
       " '3',\n",
       " '1',\n",
       " '2',\n",
       " '3',\n",
       " '3',\n",
       " '4',\n",
       " '9',\n",
       " '8',\n",
       " '6',\n",
       " '9',\n",
       " '0',\n",
       " '8',\n",
       " '6',\n",
       " '5',\n",
       " '4',\n",
       " '3',\n",
       " 'l1',\n",
       " 'e4',\n",
       " 'l1',\n",
       " '2',\n",
       " '3',\n",
       " '8',\n",
       " '9',\n",
       " '6',\n",
       " '9',\n",
       " '0',\n",
       " '8',\n",
       " '6',\n",
       " '5',\n",
       " '4',\n",
       " '3',\n",
       " '1',\n",
       " '2',\n",
       " '3',\n",
       " '3',\n",
       " '4']"
      ]
     },
     "execution_count": 30,
     "metadata": {},
     "output_type": "execute_result"
    }
   ],
   "source": [
    "re.findall('[a-z]{0,1}[0-9]',data)"
   ]
  },
  {
   "cell_type": "code",
   "execution_count": 31,
   "metadata": {
    "collapsed": false
   },
   "outputs": [
    {
     "data": {
      "text/plain": [
       "['l1',\n",
       " 'e1',\n",
       " '2',\n",
       " '3',\n",
       " '1',\n",
       " '2',\n",
       " '3',\n",
       " '3',\n",
       " '4',\n",
       " '7',\n",
       " '8',\n",
       " '6',\n",
       " '9',\n",
       " '0',\n",
       " '8',\n",
       " '6',\n",
       " '5',\n",
       " '4',\n",
       " '3',\n",
       " 'e2',\n",
       " '2',\n",
       " '3',\n",
       " 'l2',\n",
       " '1',\n",
       " '2',\n",
       " '3',\n",
       " '3',\n",
       " '4',\n",
       " '8',\n",
       " '8',\n",
       " '6',\n",
       " '9',\n",
       " '0',\n",
       " '8',\n",
       " '6',\n",
       " '5',\n",
       " '4',\n",
       " '3',\n",
       " 'e3',\n",
       " '2',\n",
       " '3',\n",
       " '1',\n",
       " '2',\n",
       " '3',\n",
       " '3',\n",
       " '4',\n",
       " '9',\n",
       " '8',\n",
       " '6',\n",
       " '9',\n",
       " '0',\n",
       " '8',\n",
       " '6',\n",
       " '5',\n",
       " '4',\n",
       " '3',\n",
       " 'l1',\n",
       " 'e4',\n",
       " 'l1',\n",
       " '2',\n",
       " '3',\n",
       " '8',\n",
       " '9',\n",
       " '6',\n",
       " '9',\n",
       " '0',\n",
       " '8',\n",
       " '6',\n",
       " '5',\n",
       " '4',\n",
       " '3',\n",
       " '1',\n",
       " '2',\n",
       " '3',\n",
       " '3',\n",
       " '4']"
      ]
     },
     "execution_count": 31,
     "metadata": {},
     "output_type": "execute_result"
    }
   ],
   "source": [
    "re.findall('[a-z]?[0-9]',data)"
   ]
  },
  {
   "cell_type": "code",
   "execution_count": 32,
   "metadata": {
    "collapsed": false
   },
   "outputs": [
    {
     "data": {
      "text/plain": [
       "['e',\n",
       " 'm',\n",
       " 'a',\n",
       " 'i',\n",
       " 'l',\n",
       " '1',\n",
       " '@',\n",
       " 'g',\n",
       " 'm',\n",
       " 'a',\n",
       " 'i',\n",
       " 'l',\n",
       " '.',\n",
       " 'c',\n",
       " 'o',\n",
       " 'm',\n",
       " ',',\n",
       " 'n',\n",
       " 'a',\n",
       " 'm',\n",
       " 'e',\n",
       " '1',\n",
       " ',',\n",
       " '2',\n",
       " '3',\n",
       " ',',\n",
       " '1',\n",
       " '2',\n",
       " '3',\n",
       " '3',\n",
       " '4',\n",
       " ',',\n",
       " '7',\n",
       " '8',\n",
       " '6',\n",
       " '9',\n",
       " '0',\n",
       " '8',\n",
       " '6',\n",
       " '5',\n",
       " '4',\n",
       " '3',\n",
       " 'n',\n",
       " 'a',\n",
       " 'm',\n",
       " 'e',\n",
       " '2',\n",
       " ',',\n",
       " '2',\n",
       " '3',\n",
       " ',',\n",
       " 'e',\n",
       " 'm',\n",
       " 'a',\n",
       " 'i',\n",
       " 'l',\n",
       " '2',\n",
       " '@',\n",
       " 'y',\n",
       " 'a',\n",
       " 'h',\n",
       " 'o',\n",
       " 'o',\n",
       " '.',\n",
       " 'c',\n",
       " 'o',\n",
       " 'm',\n",
       " ',',\n",
       " '1',\n",
       " '2',\n",
       " '3',\n",
       " '3',\n",
       " '4',\n",
       " ',',\n",
       " '8',\n",
       " '8',\n",
       " '6',\n",
       " '9',\n",
       " '0',\n",
       " '8',\n",
       " '6',\n",
       " '5',\n",
       " '4',\n",
       " '3',\n",
       " 'n',\n",
       " 'a',\n",
       " 'm',\n",
       " 'e',\n",
       " '3',\n",
       " ',',\n",
       " '2',\n",
       " '3',\n",
       " ',',\n",
       " '1',\n",
       " '2',\n",
       " '3',\n",
       " '3',\n",
       " '4',\n",
       " ',',\n",
       " '9',\n",
       " '8',\n",
       " '6',\n",
       " '9',\n",
       " '0',\n",
       " '8',\n",
       " '6',\n",
       " '5',\n",
       " '4',\n",
       " '3',\n",
       " ',',\n",
       " 'e',\n",
       " 'm',\n",
       " 'a',\n",
       " 'i',\n",
       " 'l',\n",
       " '1',\n",
       " '@',\n",
       " 'o',\n",
       " 'u',\n",
       " 't',\n",
       " 'l',\n",
       " 'o',\n",
       " 'o',\n",
       " 'k',\n",
       " '.',\n",
       " 'c',\n",
       " 'o',\n",
       " 'm',\n",
       " 'n',\n",
       " 'a',\n",
       " 'm',\n",
       " 'e',\n",
       " '4',\n",
       " ',',\n",
       " 'e',\n",
       " 'm',\n",
       " 'a',\n",
       " 'i',\n",
       " 'l',\n",
       " '1',\n",
       " '@',\n",
       " 'r',\n",
       " 'e',\n",
       " 'd',\n",
       " 'i',\n",
       " 'f',\n",
       " '.',\n",
       " 'c',\n",
       " 'o',\n",
       " 'm',\n",
       " ',',\n",
       " '2',\n",
       " '3',\n",
       " ',',\n",
       " '8',\n",
       " '9',\n",
       " '6',\n",
       " '9',\n",
       " '0',\n",
       " '8',\n",
       " '6',\n",
       " '5',\n",
       " '4',\n",
       " '3',\n",
       " ',',\n",
       " '1',\n",
       " '2',\n",
       " '3',\n",
       " '3',\n",
       " '4']"
      ]
     },
     "execution_count": 32,
     "metadata": {},
     "output_type": "execute_result"
    }
   ],
   "source": [
    "re.findall('.',data)"
   ]
  },
  {
   "cell_type": "code",
   "execution_count": 33,
   "metadata": {
    "collapsed": false
   },
   "outputs": [
    {
     "data": {
      "text/plain": [
       "['e',\n",
       " 'm',\n",
       " 'a',\n",
       " 'i',\n",
       " 'l',\n",
       " '1',\n",
       " '@',\n",
       " 'g',\n",
       " 'm',\n",
       " 'a',\n",
       " 'i',\n",
       " 'l',\n",
       " '.',\n",
       " 'c',\n",
       " 'o',\n",
       " 'm',\n",
       " ',',\n",
       " 'n',\n",
       " 'a',\n",
       " 'm',\n",
       " 'e',\n",
       " '1',\n",
       " ',',\n",
       " '2',\n",
       " '3',\n",
       " ',',\n",
       " '1',\n",
       " '2',\n",
       " '3',\n",
       " '3',\n",
       " '4',\n",
       " ',',\n",
       " '7',\n",
       " '8',\n",
       " '6',\n",
       " '9',\n",
       " '0',\n",
       " '8',\n",
       " '6',\n",
       " '5',\n",
       " '4',\n",
       " '3',\n",
       " '\\n',\n",
       " 'n',\n",
       " 'a',\n",
       " 'm',\n",
       " 'e',\n",
       " '2',\n",
       " ',',\n",
       " '2',\n",
       " '3',\n",
       " ',',\n",
       " 'e',\n",
       " 'm',\n",
       " 'a',\n",
       " 'i',\n",
       " 'l',\n",
       " '2',\n",
       " '@',\n",
       " 'y',\n",
       " 'a',\n",
       " 'h',\n",
       " 'o',\n",
       " 'o',\n",
       " '.',\n",
       " 'c',\n",
       " 'o',\n",
       " 'm',\n",
       " ',',\n",
       " '1',\n",
       " '2',\n",
       " '3',\n",
       " '3',\n",
       " '4',\n",
       " ',',\n",
       " '8',\n",
       " '8',\n",
       " '6',\n",
       " '9',\n",
       " '0',\n",
       " '8',\n",
       " '6',\n",
       " '5',\n",
       " '4',\n",
       " '3',\n",
       " '\\n',\n",
       " 'n',\n",
       " 'a',\n",
       " 'm',\n",
       " 'e',\n",
       " '3',\n",
       " ',',\n",
       " '2',\n",
       " '3',\n",
       " ',',\n",
       " '1',\n",
       " '2',\n",
       " '3',\n",
       " '3',\n",
       " '4',\n",
       " ',',\n",
       " '9',\n",
       " '8',\n",
       " '6',\n",
       " '9',\n",
       " '0',\n",
       " '8',\n",
       " '6',\n",
       " '5',\n",
       " '4',\n",
       " '3',\n",
       " ',',\n",
       " 'e',\n",
       " 'm',\n",
       " 'a',\n",
       " 'i',\n",
       " 'l',\n",
       " '1',\n",
       " '@',\n",
       " 'o',\n",
       " 'u',\n",
       " 't',\n",
       " 'l',\n",
       " 'o',\n",
       " 'o',\n",
       " 'k',\n",
       " '.',\n",
       " 'c',\n",
       " 'o',\n",
       " 'm',\n",
       " '\\n',\n",
       " 'n',\n",
       " 'a',\n",
       " 'm',\n",
       " 'e',\n",
       " '4',\n",
       " ',',\n",
       " 'e',\n",
       " 'm',\n",
       " 'a',\n",
       " 'i',\n",
       " 'l',\n",
       " '1',\n",
       " '@',\n",
       " 'r',\n",
       " 'e',\n",
       " 'd',\n",
       " 'i',\n",
       " 'f',\n",
       " '.',\n",
       " 'c',\n",
       " 'o',\n",
       " 'm',\n",
       " ',',\n",
       " '2',\n",
       " '3',\n",
       " ',',\n",
       " '8',\n",
       " '9',\n",
       " '6',\n",
       " '9',\n",
       " '0',\n",
       " '8',\n",
       " '6',\n",
       " '5',\n",
       " '4',\n",
       " '3',\n",
       " ',',\n",
       " '1',\n",
       " '2',\n",
       " '3',\n",
       " '3',\n",
       " '4',\n",
       " '\\n']"
      ]
     },
     "execution_count": 33,
     "metadata": {},
     "output_type": "execute_result"
    }
   ],
   "source": [
    "re.findall('.',data,re.DOTALL)"
   ]
  },
  {
   "cell_type": "code",
   "execution_count": 34,
   "metadata": {
    "collapsed": false
   },
   "outputs": [
    {
     "data": {
      "text/plain": [
       "'email1@gmail.com,name1,23,12334,7869086543\\nname2,23,email2@yahoo.com,12334,8869086543\\nname3,23,12334,9869086543,email1@outlook.com\\nname4,email1@redif.com,23,8969086543,12334\\n'"
      ]
     },
     "execution_count": 34,
     "metadata": {},
     "output_type": "execute_result"
    }
   ],
   "source": [
    "data"
   ]
  },
  {
   "cell_type": "code",
   "execution_count": 36,
   "metadata": {
    "collapsed": false
   },
   "outputs": [
    {
     "data": {
      "text/plain": [
       "['1',\n",
       " '1',\n",
       " '2',\n",
       " '3',\n",
       " '1',\n",
       " '2',\n",
       " '3',\n",
       " '3',\n",
       " '4',\n",
       " '7',\n",
       " '8',\n",
       " '6',\n",
       " '9',\n",
       " '0',\n",
       " '8',\n",
       " '6',\n",
       " '5',\n",
       " '4',\n",
       " '3',\n",
       " '2',\n",
       " '2',\n",
       " '3',\n",
       " '2',\n",
       " '1',\n",
       " '2',\n",
       " '3',\n",
       " '3',\n",
       " '4',\n",
       " '8',\n",
       " '8',\n",
       " '6',\n",
       " '9',\n",
       " '0',\n",
       " '8',\n",
       " '6',\n",
       " '5',\n",
       " '4',\n",
       " '3',\n",
       " '3',\n",
       " '2',\n",
       " '3',\n",
       " '1',\n",
       " '2',\n",
       " '3',\n",
       " '3',\n",
       " '4',\n",
       " '9',\n",
       " '8',\n",
       " '6',\n",
       " '9',\n",
       " '0',\n",
       " '8',\n",
       " '6',\n",
       " '5',\n",
       " '4',\n",
       " '3',\n",
       " '1',\n",
       " '4',\n",
       " '1',\n",
       " '2',\n",
       " '3',\n",
       " '8',\n",
       " '9',\n",
       " '6',\n",
       " '9',\n",
       " '0',\n",
       " '8',\n",
       " '6',\n",
       " '5',\n",
       " '4',\n",
       " '3',\n",
       " '1',\n",
       " '2',\n",
       " '3',\n",
       " '3',\n",
       " '4']"
      ]
     },
     "execution_count": 36,
     "metadata": {},
     "output_type": "execute_result"
    }
   ],
   "source": [
    "re.findall('[0-9]',data)"
   ]
  },
  {
   "cell_type": "code",
   "execution_count": 37,
   "metadata": {
    "collapsed": false
   },
   "outputs": [
    {
     "data": {
      "text/plain": [
       "'email1@gmail.com,name1,23,12334,7869086543\\nname2,23,email2@yahoo.com,12334,8869086543\\nname3,23,12334,9869086543,email1@outlook.com\\nname4,email1@redif.com,23,8969086543,12334\\n'"
      ]
     },
     "execution_count": 37,
     "metadata": {},
     "output_type": "execute_result"
    }
   ],
   "source": [
    "data"
   ]
  },
  {
   "cell_type": "code",
   "execution_count": 38,
   "metadata": {
    "collapsed": false
   },
   "outputs": [
    {
     "data": {
      "text/plain": [
       "['e',\n",
       " 'm',\n",
       " 'a',\n",
       " 'i',\n",
       " 'l',\n",
       " '@',\n",
       " 'g',\n",
       " 'm',\n",
       " 'a',\n",
       " 'i',\n",
       " 'l',\n",
       " '.',\n",
       " 'c',\n",
       " 'o',\n",
       " 'm',\n",
       " ',',\n",
       " 'n',\n",
       " 'a',\n",
       " 'm',\n",
       " 'e',\n",
       " ',',\n",
       " ',',\n",
       " ',',\n",
       " '\\n',\n",
       " 'n',\n",
       " 'a',\n",
       " 'm',\n",
       " 'e',\n",
       " ',',\n",
       " ',',\n",
       " 'e',\n",
       " 'm',\n",
       " 'a',\n",
       " 'i',\n",
       " 'l',\n",
       " '@',\n",
       " 'y',\n",
       " 'a',\n",
       " 'h',\n",
       " 'o',\n",
       " 'o',\n",
       " '.',\n",
       " 'c',\n",
       " 'o',\n",
       " 'm',\n",
       " ',',\n",
       " ',',\n",
       " '\\n',\n",
       " 'n',\n",
       " 'a',\n",
       " 'm',\n",
       " 'e',\n",
       " ',',\n",
       " ',',\n",
       " ',',\n",
       " ',',\n",
       " 'e',\n",
       " 'm',\n",
       " 'a',\n",
       " 'i',\n",
       " 'l',\n",
       " '@',\n",
       " 'o',\n",
       " 'u',\n",
       " 't',\n",
       " 'l',\n",
       " 'o',\n",
       " 'o',\n",
       " 'k',\n",
       " '.',\n",
       " 'c',\n",
       " 'o',\n",
       " 'm',\n",
       " '\\n',\n",
       " 'n',\n",
       " 'a',\n",
       " 'm',\n",
       " 'e',\n",
       " ',',\n",
       " 'e',\n",
       " 'm',\n",
       " 'a',\n",
       " 'i',\n",
       " 'l',\n",
       " '@',\n",
       " 'r',\n",
       " 'e',\n",
       " 'd',\n",
       " 'i',\n",
       " 'f',\n",
       " '.',\n",
       " 'c',\n",
       " 'o',\n",
       " 'm',\n",
       " ',',\n",
       " ',',\n",
       " ',',\n",
       " '\\n']"
      ]
     },
     "execution_count": 38,
     "metadata": {},
     "output_type": "execute_result"
    }
   ],
   "source": [
    "re.findall('[^0-9]',data)"
   ]
  },
  {
   "cell_type": "code",
   "execution_count": 39,
   "metadata": {
    "collapsed": false
   },
   "outputs": [
    {
     "data": {
      "text/plain": [
       "[]"
      ]
     },
     "execution_count": 39,
     "metadata": {},
     "output_type": "execute_result"
    }
   ],
   "source": [
    "re.findall('^[0-9]',data)"
   ]
  },
  {
   "cell_type": "code",
   "execution_count": 40,
   "metadata": {
    "collapsed": false
   },
   "outputs": [
    {
     "data": {
      "text/plain": [
       "'email1@gmail.com,name1,23,12334,7869086543\\nname2,23,email2@yahoo.com,12334,8869086543\\nname3,23,12334,9869086543,email1@outlook.com\\nname4,email1@redif.com,23,8969086543,12334\\n'"
      ]
     },
     "execution_count": 40,
     "metadata": {},
     "output_type": "execute_result"
    }
   ],
   "source": [
    "data"
   ]
  },
  {
   "cell_type": "code",
   "execution_count": 41,
   "metadata": {
    "collapsed": false
   },
   "outputs": [
    {
     "data": {
      "text/plain": [
       "['4']"
      ]
     },
     "execution_count": 41,
     "metadata": {},
     "output_type": "execute_result"
    }
   ],
   "source": [
    "re.findall('[0-9]$',data)"
   ]
  },
  {
   "cell_type": "code",
   "execution_count": 43,
   "metadata": {
    "collapsed": false
   },
   "outputs": [
    {
     "data": {
      "text/plain": [
       "'email1@gmail.com,name1,23,12334,7869086543\\nname2,23,email2@yahoo.com,12334,8869086543\\nname3,23,12334,9869086543,email1@outlook.com\\nname4,email1@redif.com,23,8969086543,12334\\n'"
      ]
     },
     "execution_count": 43,
     "metadata": {},
     "output_type": "execute_result"
    }
   ],
   "source": [
    "data"
   ]
  },
  {
   "cell_type": "code",
   "execution_count": 45,
   "metadata": {
    "collapsed": false
   },
   "outputs": [
    {
     "data": {
      "text/plain": [
       "['email1@gmail.com,name1,23,12334,7869086543',\n",
       " 'name2,23,email2@yahoo.com,12334,8869086543',\n",
       " 'name3,23,12334,9869086543,email1@outlook.com',\n",
       " 'name4,email1@redif.com,23,8969086543,12334',\n",
       " '']"
      ]
     },
     "execution_count": 45,
     "metadata": {},
     "output_type": "execute_result"
    }
   ],
   "source": [
    "data.split('\\n')"
   ]
  },
  {
   "cell_type": "code",
   "execution_count": 46,
   "metadata": {
    "collapsed": true
   },
   "outputs": [],
   "source": [
    "data = open('data1.csv').read()"
   ]
  },
  {
   "cell_type": "code",
   "execution_count": 47,
   "metadata": {
    "collapsed": false
   },
   "outputs": [
    {
     "data": {
      "text/plain": [
       "'email1@gmail.com,name1,23,12334,7869086543\\nname2,23,email2@yahoo.com,12334,8869086543\\nname3,23,12334,9869086543,email1@outlook.com\\n8969086543,name4,email1@redif.com,23,12334\\n'"
      ]
     },
     "execution_count": 47,
     "metadata": {},
     "output_type": "execute_result"
    }
   ],
   "source": [
    "data"
   ]
  },
  {
   "cell_type": "code",
   "execution_count": 48,
   "metadata": {
    "collapsed": false
   },
   "outputs": [
    {
     "data": {
      "text/plain": [
       "[]"
      ]
     },
     "execution_count": 48,
     "metadata": {},
     "output_type": "execute_result"
    }
   ],
   "source": [
    "re.findall('^[0-9]',data)"
   ]
  },
  {
   "cell_type": "code",
   "execution_count": 49,
   "metadata": {
    "collapsed": false
   },
   "outputs": [
    {
     "data": {
      "text/plain": [
       "[]"
      ]
     },
     "execution_count": 49,
     "metadata": {},
     "output_type": "execute_result"
    }
   ],
   "source": [
    "re.findall('^[0-9]',data)"
   ]
  },
  {
   "cell_type": "code",
   "execution_count": 50,
   "metadata": {
    "collapsed": false
   },
   "outputs": [
    {
     "data": {
      "text/plain": [
       "['8']"
      ]
     },
     "execution_count": 50,
     "metadata": {},
     "output_type": "execute_result"
    }
   ],
   "source": [
    "re.findall('^[0-9]',data,re.M)"
   ]
  },
  {
   "cell_type": "code",
   "execution_count": 51,
   "metadata": {
    "collapsed": false
   },
   "outputs": [
    {
     "data": {
      "text/plain": [
       "'email1@gmail.com,name1,23,12334,7869086543\\nname2,23,email2@yahoo.com,12334,8869086543\\nname3,23,12334,9869086543,email1@outlook.com\\n8969086543,name4,email1@redif.com,23,12334\\n'"
      ]
     },
     "execution_count": 51,
     "metadata": {},
     "output_type": "execute_result"
    }
   ],
   "source": [
    "data"
   ]
  },
  {
   "cell_type": "code",
   "execution_count": 53,
   "metadata": {
    "collapsed": false
   },
   "outputs": [
    {
     "data": {
      "text/plain": [
       "['ema',\n",
       " 'gma',\n",
       " 'com',\n",
       " 'nam',\n",
       " 'nam',\n",
       " 'ema',\n",
       " 'yah',\n",
       " 'com',\n",
       " 'nam',\n",
       " 'ema',\n",
       " 'out',\n",
       " 'loo',\n",
       " 'com',\n",
       " 'nam',\n",
       " 'ema',\n",
       " 'red',\n",
       " 'com']"
      ]
     },
     "execution_count": 53,
     "metadata": {},
     "output_type": "execute_result"
    }
   ],
   "source": [
    "re.findall('[a-z]{3}',data)"
   ]
  },
  {
   "cell_type": "code",
   "execution_count": 56,
   "metadata": {
    "collapsed": false
   },
   "outputs": [
    {
     "data": {
      "text/plain": [
       "['ema',\n",
       " 'gma',\n",
       " 'com',\n",
       " 'nam',\n",
       " 'nam',\n",
       " 'ema',\n",
       " 'yah',\n",
       " 'com',\n",
       " 'ema',\n",
       " 'out',\n",
       " 'loo',\n",
       " 'com',\n",
       " 'nam',\n",
       " 'ema',\n",
       " 'red',\n",
       " 'com']"
      ]
     },
     "execution_count": 56,
     "metadata": {},
     "output_type": "execute_result"
    }
   ],
   "source": [
    "data = open('data1.csv').read()\n",
    "re.findall('[a-z]{3}',data)"
   ]
  },
  {
   "cell_type": "code",
   "execution_count": 57,
   "metadata": {
    "collapsed": false
   },
   "outputs": [
    {
     "data": {
      "text/plain": [
       "['ema',\n",
       " 'gma',\n",
       " 'com',\n",
       " 'nam',\n",
       " 'nam',\n",
       " 'ema',\n",
       " 'yah',\n",
       " 'com',\n",
       " 'NAM',\n",
       " 'ema',\n",
       " 'out',\n",
       " 'loo',\n",
       " 'com',\n",
       " 'nam',\n",
       " 'ema',\n",
       " 'red',\n",
       " 'com']"
      ]
     },
     "execution_count": 57,
     "metadata": {},
     "output_type": "execute_result"
    }
   ],
   "source": [
    "data = open('data1.csv').read()\n",
    "re.findall('[a-zA-Z]{3}',data)"
   ]
  },
  {
   "cell_type": "code",
   "execution_count": 58,
   "metadata": {
    "collapsed": false
   },
   "outputs": [
    {
     "data": {
      "text/plain": [
       "['ema',\n",
       " 'gma',\n",
       " 'com',\n",
       " 'nam',\n",
       " 'nam',\n",
       " 'ema',\n",
       " 'yah',\n",
       " 'com',\n",
       " 'NAM',\n",
       " 'ema',\n",
       " 'out',\n",
       " 'loo',\n",
       " 'com',\n",
       " 'nam',\n",
       " 'ema',\n",
       " 'red',\n",
       " 'com']"
      ]
     },
     "execution_count": 58,
     "metadata": {},
     "output_type": "execute_result"
    }
   ],
   "source": [
    "data = open('data1.csv').read()\n",
    "re.findall('[a-z]{3}',data,re.I)"
   ]
  },
  {
   "cell_type": "code",
   "execution_count": 59,
   "metadata": {
    "collapsed": false
   },
   "outputs": [
    {
     "data": {
      "text/plain": [
       "'email1@gmail.com,name1,23,12334,7869086543\\nname2,23,email2@yahoo.com,12334,8869086543\\nNAME3,23,12334,9869086543,email1@outlook.com\\n8969086543,name4,email1@redif.com,23,12334\\n'"
      ]
     },
     "execution_count": 59,
     "metadata": {},
     "output_type": "execute_result"
    }
   ],
   "source": [
    "data"
   ]
  },
  {
   "cell_type": "code",
   "execution_count": 66,
   "metadata": {
    "collapsed": false
   },
   "outputs": [
    {
     "data": {
      "text/plain": [
       "['email1@gmail.com',\n",
       " 'email2@yahoo.com',\n",
       " 'email1@outlook.com',\n",
       " 'email1@redif.com']"
      ]
     },
     "execution_count": 66,
     "metadata": {},
     "output_type": "execute_result"
    }
   ],
   "source": [
    "re.findall('[a-z0-9]+@[a-z.]+',data,re.I)"
   ]
  },
  {
   "cell_type": "code",
   "execution_count": 69,
   "metadata": {
    "collapsed": false
   },
   "outputs": [
    {
     "data": {
      "text/plain": [
       "['+917869086543', '+88869086543', '+8929869086543']"
      ]
     },
     "execution_count": 69,
     "metadata": {},
     "output_type": "execute_result"
    }
   ],
   "source": [
    "data = open('data1.csv').read()\n",
    "re.findall('[+][0-9]{1,3}[0-9]{10}',data)"
   ]
  },
  {
   "cell_type": "code",
   "execution_count": 70,
   "metadata": {
    "collapsed": true
   },
   "outputs": [],
   "source": [
    "import subprocess as sp"
   ]
  },
  {
   "cell_type": "code",
   "execution_count": 72,
   "metadata": {
    "collapsed": false
   },
   "outputs": [
    {
     "ename": "OSError",
     "evalue": "[Errno 2] No such file or directory",
     "output_type": "error",
     "traceback": [
      "\u001b[1;31m---------------------------------------------------------------------------\u001b[0m",
      "\u001b[1;31mOSError\u001b[0m                                   Traceback (most recent call last)",
      "\u001b[1;32m<ipython-input-72-63bf0cc200af>\u001b[0m in \u001b[0;36m<module>\u001b[1;34m()\u001b[0m\n\u001b[1;32m----> 1\u001b[1;33m \u001b[0msp\u001b[0m\u001b[1;33m.\u001b[0m\u001b[0mcheck_output\u001b[0m\u001b[1;33m(\u001b[0m\u001b[1;34m'ls -l'\u001b[0m\u001b[1;33m)\u001b[0m\u001b[1;33m\u001b[0m\u001b[0m\n\u001b[0m",
      "\u001b[1;32m/home/tcloudost/anaconda2/lib/python2.7/subprocess.pyc\u001b[0m in \u001b[0;36mcheck_output\u001b[1;34m(*popenargs, **kwargs)\u001b[0m\n\u001b[0;32m    564\u001b[0m     \u001b[1;32mif\u001b[0m \u001b[1;34m'stdout'\u001b[0m \u001b[1;32min\u001b[0m \u001b[0mkwargs\u001b[0m\u001b[1;33m:\u001b[0m\u001b[1;33m\u001b[0m\u001b[0m\n\u001b[0;32m    565\u001b[0m         \u001b[1;32mraise\u001b[0m \u001b[0mValueError\u001b[0m\u001b[1;33m(\u001b[0m\u001b[1;34m'stdout argument not allowed, it will be overridden.'\u001b[0m\u001b[1;33m)\u001b[0m\u001b[1;33m\u001b[0m\u001b[0m\n\u001b[1;32m--> 566\u001b[1;33m     \u001b[0mprocess\u001b[0m \u001b[1;33m=\u001b[0m \u001b[0mPopen\u001b[0m\u001b[1;33m(\u001b[0m\u001b[0mstdout\u001b[0m\u001b[1;33m=\u001b[0m\u001b[0mPIPE\u001b[0m\u001b[1;33m,\u001b[0m \u001b[1;33m*\u001b[0m\u001b[0mpopenargs\u001b[0m\u001b[1;33m,\u001b[0m \u001b[1;33m**\u001b[0m\u001b[0mkwargs\u001b[0m\u001b[1;33m)\u001b[0m\u001b[1;33m\u001b[0m\u001b[0m\n\u001b[0m\u001b[0;32m    567\u001b[0m     \u001b[0moutput\u001b[0m\u001b[1;33m,\u001b[0m \u001b[0munused_err\u001b[0m \u001b[1;33m=\u001b[0m \u001b[0mprocess\u001b[0m\u001b[1;33m.\u001b[0m\u001b[0mcommunicate\u001b[0m\u001b[1;33m(\u001b[0m\u001b[1;33m)\u001b[0m\u001b[1;33m\u001b[0m\u001b[0m\n\u001b[0;32m    568\u001b[0m     \u001b[0mretcode\u001b[0m \u001b[1;33m=\u001b[0m \u001b[0mprocess\u001b[0m\u001b[1;33m.\u001b[0m\u001b[0mpoll\u001b[0m\u001b[1;33m(\u001b[0m\u001b[1;33m)\u001b[0m\u001b[1;33m\u001b[0m\u001b[0m\n",
      "\u001b[1;32m/home/tcloudost/anaconda2/lib/python2.7/subprocess.pyc\u001b[0m in \u001b[0;36m__init__\u001b[1;34m(self, args, bufsize, executable, stdin, stdout, stderr, preexec_fn, close_fds, shell, cwd, env, universal_newlines, startupinfo, creationflags)\u001b[0m\n\u001b[0;32m    708\u001b[0m                                 \u001b[0mp2cread\u001b[0m\u001b[1;33m,\u001b[0m \u001b[0mp2cwrite\u001b[0m\u001b[1;33m,\u001b[0m\u001b[1;33m\u001b[0m\u001b[0m\n\u001b[0;32m    709\u001b[0m                                 \u001b[0mc2pread\u001b[0m\u001b[1;33m,\u001b[0m \u001b[0mc2pwrite\u001b[0m\u001b[1;33m,\u001b[0m\u001b[1;33m\u001b[0m\u001b[0m\n\u001b[1;32m--> 710\u001b[1;33m                                 errread, errwrite)\n\u001b[0m\u001b[0;32m    711\u001b[0m         \u001b[1;32mexcept\u001b[0m \u001b[0mException\u001b[0m\u001b[1;33m:\u001b[0m\u001b[1;33m\u001b[0m\u001b[0m\n\u001b[0;32m    712\u001b[0m             \u001b[1;31m# Preserve original exception in case os.close raises.\u001b[0m\u001b[1;33m\u001b[0m\u001b[1;33m\u001b[0m\u001b[0m\n",
      "\u001b[1;32m/home/tcloudost/anaconda2/lib/python2.7/subprocess.pyc\u001b[0m in \u001b[0;36m_execute_child\u001b[1;34m(self, args, executable, preexec_fn, close_fds, cwd, env, universal_newlines, startupinfo, creationflags, shell, to_close, p2cread, p2cwrite, c2pread, c2pwrite, errread, errwrite)\u001b[0m\n\u001b[0;32m   1333\u001b[0m                         \u001b[1;32mraise\u001b[0m\u001b[1;33m\u001b[0m\u001b[0m\n\u001b[0;32m   1334\u001b[0m                 \u001b[0mchild_exception\u001b[0m \u001b[1;33m=\u001b[0m \u001b[0mpickle\u001b[0m\u001b[1;33m.\u001b[0m\u001b[0mloads\u001b[0m\u001b[1;33m(\u001b[0m\u001b[0mdata\u001b[0m\u001b[1;33m)\u001b[0m\u001b[1;33m\u001b[0m\u001b[0m\n\u001b[1;32m-> 1335\u001b[1;33m                 \u001b[1;32mraise\u001b[0m \u001b[0mchild_exception\u001b[0m\u001b[1;33m\u001b[0m\u001b[0m\n\u001b[0m\u001b[0;32m   1336\u001b[0m \u001b[1;33m\u001b[0m\u001b[0m\n\u001b[0;32m   1337\u001b[0m \u001b[1;33m\u001b[0m\u001b[0m\n",
      "\u001b[1;31mOSError\u001b[0m: [Errno 2] No such file or directory"
     ]
    }
   ],
   "source": [
    "sp.check_output('ls -l')"
   ]
  },
  {
   "cell_type": "code",
   "execution_count": 75,
   "metadata": {
    "collapsed": false
   },
   "outputs": [
    {
     "data": {
      "text/plain": [
       "'total 496\\n-rw-rw-r-- 1 tcloudost tcloudost    22 Nov 12 07:48 a.py\\n-rw-rw-r-- 1 tcloudost tcloudost   140 Nov  6 12:03 a.pyc\\n-rw-rw-r-- 1 tcloudost tcloudost 47199 Nov 13 13:38 cindition-looping statements-2016-Nov-12.ipynb\\n-rw-rw-r-- 1 tcloudost tcloudost  9722 Nov 12 13:30 cindition-looping statements-2016-Nov-12.py\\n-rw-rw-r-- 1 tcloudost tcloudost   183 Nov 26 13:35 data1.csv\\n-rw-rw-r-- 1 tcloudost tcloudost   183 Nov 26 13:35 data1.csv~\\n-rw-rw-r-- 1 tcloudost tcloudost    74 Nov 20 12:52 data.csv\\n-rw-rw-r-- 1 tcloudost tcloudost 65921 Nov 19 13:15 datastructures1.ipynb\\n-rw-rw-r-- 1 tcloudost tcloudost 18231 Nov 20 13:28 datastructures2.ipynb\\n-rw-rw-r-- 1 tcloudost tcloudost 38367 Nov 19 11:22 datastructures.ipynb\\n-rw-rw-r-- 1 tcloudost tcloudost  3802 Nov 13 13:37 datastructures.py\\n-rw-rw-r-- 1 tcloudost tcloudost 32694 Nov  6 12:55 datatypes.ipynb\\n-rw-rw-r-- 1 tcloudost tcloudost  2951 Nov  6 13:14 datatypes.py\\n-rw-rw-r-- 1 tcloudost tcloudost 19764 Nov 26 12:31 exceptions.ipynb\\n-rw-rw-r-- 1 tcloudost tcloudost    89 Nov 20 13:23 f1.txt\\n-rw-rw-r-- 1 tcloudost tcloudost 28917 Nov 20 13:25 files.ipynb\\n-rw-rw-r-- 1 tcloudost tcloudost     0 Nov  6 12:55 mails.txt\\n-rw-rw-r-- 1 tcloudost tcloudost 43291 Oct 24 07:16 memory.jpg\\ndrwxrwxr-x 2 tcloudost tcloudost  4096 Nov 26 11:51 module1\\ndrwxrwxr-x 3 tcloudost tcloudost  4096 Nov 20 12:25 modules\\n-rw-rw-r-- 1 tcloudost tcloudost  4401 Nov 20 13:27 modules.zip\\n-rw-rw-r-- 1 tcloudost tcloudost  1860 Nov 23 09:01 python idels installtion.txt\\n-rw-rw-r-- 1 tcloudost tcloudost  1860 Nov 23 09:01 python idels installtion.txt~\\n-rw-rw-r-- 1 tcloudost tcloudost 43890 Nov 26 13:37 regularexpressions.ipynb\\n-rw-rw-r-- 1 tcloudost tcloudost   314 Nov 26 12:34 regx.ipynb\\n-rw-rw-r-- 1 tcloudost tcloudost 63912 Nov 13 13:32 strings_functions.ipynb\\n-rw-rw-r-- 1 tcloudost tcloudost  9326 Nov 13 13:37 strings_functions.py\\n-rw-rw-r-- 1 tcloudost tcloudost     0 Nov 26 12:36 Untitled Document\\n-rw-rw-r-- 1 tcloudost tcloudost     0 Nov 26 12:36 Untitled Document~\\n'"
      ]
     },
     "execution_count": 75,
     "metadata": {},
     "output_type": "execute_result"
    }
   ],
   "source": [
    "sp.check_output(['ls','-l'])"
   ]
  },
  {
   "cell_type": "code",
   "execution_count": 76,
   "metadata": {
    "collapsed": true
   },
   "outputs": [],
   "source": [
    "ps = sp.check_output(['ps','-aux'])"
   ]
  },
  {
   "cell_type": "code",
   "execution_count": 77,
   "metadata": {
    "collapsed": false
   },
   "outputs": [
    {
     "data": {
      "text/plain": [
       "'USER       PID %CPU %MEM    VSZ   RSS TTY      STAT START   TIME COMMAND\\nroot         1  0.0  0.1 119444  5668 ?        Ss   09:24   0:03 /sbin/init splash\\nroot         2  0.0  0.0      0     0 ?        S    09:24   0:00 [kthreadd]\\nroot         3  0.0  0.0      0     0 ?        S    09:24   0:00 [ksoftirqd/0]\\nroot         5  0.0  0.0      0     0 ?        S<   09:24   0:00 [kworker/0:0H]\\nroot         7  0.0  0.0      0     0 ?        S    09:24   0:02 [rcu_sched]\\nroot         8  0.0  0.0      0     0 ?        S    09:24   0:00 [rcu_bh]\\nroot         9  0.0  0.0      0     0 ?        S    09:24   0:02 [rcuos/0]\\nroot        10  0.0  0.0      0     0 ?        S    09:24   0:00 [rcuob/0]\\nroot        11  0.0  0.0      0     0 ?        S    09:24   0:00 [migration/0]\\nroot        12  0.0  0.0      0     0 ?        S    09:24   0:00 [watchdog/0]\\nroot        13  0.0  0.0      0     0 ?        S<   09:24   0:00 [khelper]\\nroot        14  0.0  0.0      0     0 ?        S    09:24   0:00 [kdevtmpfs]\\nroot        15  0.0  0.0      0     0 ?        S<   09:24   0:00 [netns]\\nroot        16  0.0  0.0      0     0 ?        S<   09:24   0:00 [perf]\\nroot        17  0.0  0.0      0     0 ?        S    09:24   0:00 [khungtaskd]\\nroot        18  0.0  0.0      0     0 ?        S<   09:24   0:00 [writeback]\\nroot        19  0.0  0.0      0     0 ?        SN   09:24   0:00 [ksmd]\\nroot        20  0.0  0.0      0     0 ?        SN   09:24   0:08 [khugepaged]\\nroot        21  0.0  0.0      0     0 ?        S<   09:24   0:00 [crypto]\\nroot        22  0.0  0.0      0     0 ?        S<   09:24   0:00 [kintegrityd]\\nroot        23  0.0  0.0      0     0 ?        S<   09:24   0:00 [bioset]\\nroot        24  0.0  0.0      0     0 ?        S<   09:24   0:00 [kblockd]\\nroot        25  0.0  0.0      0     0 ?        S<   09:24   0:00 [ata_sff]\\nroot        26  0.0  0.0      0     0 ?        S<   09:24   0:00 [md]\\nroot        27  0.0  0.0      0     0 ?        S<   09:24   0:00 [devfreq_wq]\\nroot        30  0.0  0.0      0     0 ?        S    09:24   0:00 [kswapd0]\\nroot        31  0.0  0.0      0     0 ?        S<   09:24   0:00 [vmstat]\\nroot        32  0.0  0.0      0     0 ?        S    09:24   0:00 [fsnotify_mark]\\nroot        33  0.0  0.0      0     0 ?        S    09:24   0:00 [ecryptfs-kthrea]\\nroot        44  0.0  0.0      0     0 ?        S<   09:24   0:00 [kthrotld]\\nroot        45  0.0  0.0      0     0 ?        S<   09:24   0:00 [acpi_thermal_pm]\\nroot        46  0.0  0.0      0     0 ?        S    09:24   0:00 [scsi_eh_0]\\nroot        47  0.0  0.0      0     0 ?        S<   09:24   0:00 [scsi_tmf_0]\\nroot        48  0.0  0.0      0     0 ?        S    09:24   0:00 [scsi_eh_1]\\nroot        49  0.0  0.0      0     0 ?        S<   09:24   0:00 [scsi_tmf_1]\\nroot        54  0.0  0.0      0     0 ?        S<   09:24   0:00 [ipv6_addrconf]\\nroot        74  0.0  0.0      0     0 ?        S<   09:24   0:00 [deferwq]\\nroot        75  0.0  0.0      0     0 ?        S<   09:24   0:00 [charger_manager]\\nroot       114  0.0  0.0      0     0 ?        S<   09:24   0:00 [kpsmoused]\\nroot       115  0.0  0.0      0     0 ?        S    09:24   0:00 [scsi_eh_2]\\nroot       117  0.0  0.0      0     0 ?        S<   09:24   0:00 [scsi_tmf_2]\\nroot       118  0.0  0.0      0     0 ?        S<   09:24   0:00 [kworker/0:1H]\\nroot       144  0.0  0.0      0     0 ?        S    09:24   0:01 [jbd2/sda1-8]\\nroot       145  0.0  0.0      0     0 ?        S<   09:24   0:00 [ext4-rsv-conver]\\nroot       182  0.0  0.0      0     0 ?        S    09:24   0:00 [kauditd]\\nroot       203  0.0  0.1  32344  4212 ?        Ss   09:24   0:01 /lib/systemd/systemd-journald\\nroot       215  0.0  0.1  45568  4960 ?        Ss   09:24   0:00 /lib/systemd/systemd-udevd\\nsystemd+   309  0.0  0.0 102356  2800 ?        Ssl  09:24   0:00 /lib/systemd/systemd-timesyncd\\nroot       358  0.0  0.0      0     0 ?        S<   09:24   0:00 [iprt-VBoxWQueue]\\navahi      510  0.0  0.0  40192  3444 ?        Ss   09:24   0:00 avahi-daemon: running [tcloudost-VirtualBox.local]\\nroot       515  0.0  0.0  25180  2612 ?        Ss   09:24   0:00 /sbin/cgmanager -m name=systemd\\nmessage+   518  0.0  0.1  44236  5312 ?        Ss   09:24   0:03 /usr/bin/dbus-daemon --system --address=systemd: --nofork --nopidfile --systemd-activation\\navahi      524  0.0  0.0  40068   320 ?        S    09:24   0:00 avahi-daemon: chroot helper\\nroot       526  0.0  0.2 272356  8912 ?        Ssl  09:24   0:00 /usr/sbin/cups-browsed\\nwhoopsie   527  0.0  0.3 521236 14440 ?        Ssl  09:24   0:00 /usr/bin/whoopsie -f\\nroot       532  0.0  0.0  33124  3080 ?        Ss   09:24   0:00 /usr/sbin/cron -f\\nroot       533  0.0  0.3 381620 14640 ?        Ssl  09:24   0:00 /usr/sbin/NetworkManager --no-daemon\\nsyslog     537  0.0  0.0 256372  3688 ?        Ssl  09:25   0:00 /usr/sbin/rsyslogd -n\\nroot       542  0.0  0.0  28600  3200 ?        Ss   09:25   0:00 /lib/systemd/systemd-logind\\nroot       543  0.0  0.2 337240  8920 ?        Ssl  09:25   0:00 /usr/sbin/ModemManager\\nroot       556  0.0  0.2 287292  9068 ?        Ssl  09:25   0:01 /usr/lib/accountsservice/accounts-daemon\\nroot       616  0.0  0.2 285720  8432 ?        Ssl  09:25   0:00 /usr/lib/policykit-1/polkitd --no-debug\\nroot       620  0.0  0.0 247744  2116 ?        Sl   09:25   0:06 /usr/sbin/VBoxService\\nroot       639  0.0  0.1  69932  5960 ?        Ss   09:25   0:00 /usr/sbin/sshd -D\\nmysql      641  0.0  0.0   4476  1760 ?        Ss   09:25   0:00 /bin/sh /usr/bin/mysqld_safe\\nroot       763  0.0  0.1  39192  5168 ?        Ss   09:25   0:00 /sbin/wpa_supplicant -u -s -O /run/wpa_supplicant\\nmysql     1009  0.0  3.0 729280 125020 ?       Sl   09:25   0:13 /usr/sbin/mysqld --basedir=/usr --datadir=/var/lib/mysql --plugin-dir=/usr/lib/mysql/plugin --log-error=/var/log/mysql/error.log --pid-file=/var/run/mysqld/mysqld.pid --socket=/var/run/mysqld/mysqld.sock --port=3306\\npostgres  1013  0.0  0.5 293636 23972 ?        S    09:25   0:00 /usr/lib/postgresql/9.4/bin/postgres -D /var/lib/postgresql/9.4/main -c config_file=/etc/postgresql/9.4/main/postgresql.conf\\nnobody    1018  0.0  0.1  52288  4060 ?        S    09:25   0:00 /usr/sbin/dnsmasq --no-resolv --keep-in-foreground --no-hosts --bind-interfaces --pid-file=/run/sendsigs.omit.d/network-manager.dnsmasq.pid --listen-address=127.0.1.1 --conf-file=/var/run/NetworkManager/dnsmasq.conf --cache-size=0 --proxy-dnssec --enable-dbus=org.freedesktop.NetworkManager.dnsmasq --conf-dir=/etc/NetworkManager/dnsmasq.d\\nkernoops  1211  0.0  0.0  45276  2632 ?        Ss   09:25   0:00 /usr/sbin/kerneloops\\nroot      1360  0.0  0.1  73660  4980 ?        Ss   09:25   0:02 /usr/sbin/apache2 -k start\\nroot      1449  0.0  0.1 352416  6228 ?        SLsl 09:25   0:00 /usr/sbin/lightdm\\nroot      1460  7.0  2.5 333312 103596 tty7    Ss+  09:25  17:56 /usr/bin/X -core :0 -seat seat0 -auth /var/run/lightdm/root/:0 -nolisten tcp vt7 -novtswitch\\npostgres  1469  0.0  0.0 293636  3692 ?        Ss   09:25   0:00 postgres: checkpointer process                                                                                              \\npostgres  1470  0.0  0.1 293636  5300 ?        Ss   09:25   0:00 postgres: writer process                                                                                                    \\npostgres  1471  0.0  0.0 293636  3692 ?        Ss   09:25   0:00 postgres: wal writer process                                                                                                \\npostgres  1472  0.0  0.1 294032  6296 ?        Ss   09:25   0:00 postgres: autovacuum launcher process                                                                                       \\npostgres  1473  0.0  0.0 148780  3884 ?        Ss   09:25   0:00 postgres: stats collector process                                                                                           \\nroot      1480  0.0  0.0  20052  2148 tty1     Ss+  09:25   0:00 /sbin/agetty --noclear tty1 linux\\nroot      1540  0.0  0.1 230224  6232 ?        Sl   09:25   0:00 lightdm --session-child 12 19\\nrtkit     1590  0.0  0.0 178820  2936 ?        SNsl 09:25   0:00 /usr/lib/rtkit/rtkit-daemon\\nroot      1621  0.0  0.2 280088 10168 ?        Ssl  09:25   0:00 /usr/lib/upower/upowerd\\ncolord    1632  0.0  0.2 305144 10888 ?        Ssl  09:25   0:00 /usr/lib/colord/colord\\ntcloudo+  1655  0.0  0.1  45164  5200 ?        Ss   09:26   0:00 /lib/systemd/systemd --user\\ntcloudo+  1656  0.0  0.0  60968  1756 ?        S    09:26   0:00 (sd-pam)         \\ntcloudo+  1664  0.0  0.2 292392  9612 ?        Sl   09:26   0:00 /usr/bin/gnome-keyring-daemon --daemonize --login\\ntcloudo+  1666  0.0  0.1  45780  4532 ?        Ss   09:26   0:01 /sbin/upstart --user\\ntcloudo+  1743  0.0  0.0  49464  1360 ?        S    09:26   0:05 /usr/bin/VBoxClient --clipboard\\ntcloudo+  1749  0.0  0.0  49464  1388 ?        S    09:26   0:05 /usr/bin/VBoxClient --checkhostversion\\ntcloudo+  1756  0.0  0.0  49464  1348 ?        S    09:26   0:05 /usr/bin/VBoxClient --display\\ntcloudo+  1768  0.0  0.0  39016  1788 ?        S    09:26   0:00 dbus-launch --autolaunch=e51c7092bfbd4fb4ac8b04918ff33401 --binary-syntax --close-stderr\\ntcloudo+  1770  0.0  0.0  42860  3184 ?        Ss   09:26   0:00 /usr/bin/dbus-daemon --fork --print-pid 5 --print-address 7 --session\\ntcloudo+  1779  0.0  0.6 439336 27600 ?        Sl   09:26   0:03 /usr/lib/x86_64-linux-gnu/notify-osd\\ntcloudo+  1783  0.0  0.0  49464  1388 ?        S    09:26   0:04 /usr/bin/VBoxClient --seamless\\ntcloudo+  1790  0.0  0.0  49464  1392 ?        S    09:26   0:04 /usr/bin/VBoxClient --draganddrop\\ntcloudo+  1804  0.0  0.1 337956  5896 ?        Sl   09:26   0:00 /usr/lib/at-spi2-core/at-spi-bus-launcher\\ntcloudo+  1812  0.0  0.0  32296   256 ?        S    09:26   0:00 upstart-udev-bridge --daemon --user\\ntcloudo+  1820  0.0  0.0  42860  4012 ?        S    09:26   0:00 /usr/bin/dbus-daemon --config-file=/etc/at-spi2/accessibility.conf --nofork --print-address 3\\ntcloudo+  1825  0.0  0.1 206936  5416 ?        Sl   09:26   0:02 /usr/lib/at-spi2-core/at-spi2-registryd --use-gnome-session\\ntcloudo+  1835  0.0  0.1 271164  5448 ?        Sl   09:26   0:00 /usr/lib/gvfs/gvfsd\\ntcloudo+  1841  0.0  0.1 409032  7444 ?        Sl   09:26   0:00 /usr/lib/gvfs/gvfsd-fuse /run/user/1000/gvfs -f -o big_writes\\ntcloudo+  1842  0.0  0.1  43860  4448 ?        Ss   09:26   0:04 dbus-daemon --fork --session --address=unix:abstract=/tmp/dbus-ECXOvLHN4l\\ntcloudo+  1862  0.0  0.2  88176  9944 ?        Ss   09:26   0:00 /usr/lib/x86_64-linux-gnu/hud/window-stack-bridge\\ntcloudo+  1875  0.0  0.5 426996 21576 ?        Sl   09:26   0:02 /usr/bin/gnome-screensaver --no-daemon\\ntcloudo+  1893  0.0  0.6 512424 24776 ?        Sl   09:26   0:07 /usr/lib/x86_64-linux-gnu/bamf/bamfdaemon\\ntcloudo+  1915  0.0  0.1 623664  5968 ?        Sl   09:26   0:00 /usr/lib/gvfs/gvfsd\\ntcloudo+  1926  0.2  0.3 355360 13516 ?        Ssl  09:26   0:40 /usr/bin/ibus-daemon --daemonize --xim\\ntcloudo+  1935  0.0  0.0  32232  1708 ?        S    09:26   0:00 upstart-dbus-bridge --daemon --system --user --bus-name system\\ntcloudo+  1936  0.0  0.0  32360  1672 ?        S    09:26   0:01 upstart-dbus-bridge --daemon --session --user --bus-name session\\ntcloudo+  1937  0.0  0.0  40840  1876 ?        S    09:26   0:00 upstart-file-bridge --daemon --user\\ntcloudo+  1943  0.0  0.1 270504  6208 ?        Sl   09:26   0:00 /usr/lib/ibus/ibus-dconf\\ntcloudo+  1946  0.1  0.7 476368 31596 ?        Sl   09:26   0:15 /usr/lib/ibus/ibus-ui-gtk3\\ntcloudo+  1952  0.0  0.3 376796 15592 ?        Sl   09:26   0:00 /usr/lib/ibus/ibus-x11 --kill-daemon\\ntcloudo+  1962  0.0  1.1 715176 47056 ?        Ssl  09:26   0:14 /usr/lib/x86_64-linux-gnu/hud/hud-service\\ntcloudo+  1967  0.0  0.9 797488 37532 ?        Ssl  09:26   0:07 /usr/lib/unity-settings-daemon/unity-settings-daemon\\ntcloudo+  1976 10.8  6.1 1243100 247252 ?      Ssl  09:26  27:20 compiz\\ntcloudo+  1979  0.0  0.3 554600 14132 ?        Ssl  09:26   0:00 gnome-session --session=ubuntu\\ntcloudo+  1987  0.0  1.2 651112 49456 ?        Ssl  09:26   0:10 /usr/lib/unity/unity-panel-service\\ntcloudo+  1992  0.0  0.1 194768  6028 ?        Sl   09:26   0:10 /usr/lib/ibus/ibus-engine-simple\\ntcloudo+  1999  0.0  0.1 178628  4812 ?        Sl   09:26   0:00 /usr/lib/dconf/dconf-service\\ntcloudo+  2019  0.0  0.2 363548  9812 ?        Ssl  09:26   0:00 /usr/lib/x86_64-linux-gnu/indicator-messages/indicator-messages-service\\ntcloudo+  2020  0.0  0.1 337608  5480 ?        Ssl  09:26   0:00 /usr/lib/x86_64-linux-gnu/indicator-bluetooth/indicator-bluetooth-service\\ntcloudo+  2025  0.0  0.1 492492  8056 ?        Ssl  09:26   0:00 /usr/lib/x86_64-linux-gnu/indicator-power/indicator-power-service\\ntcloudo+  2028  0.0  0.4 775932 17888 ?        Ssl  09:26   0:00 /usr/lib/x86_64-linux-gnu/indicator-datetime/indicator-datetime-service\\ntcloudo+  2037  0.0  0.6 576476 27852 ?        Ssl  09:26   0:02 /usr/lib/x86_64-linux-gnu/indicator-keyboard/indicator-keyboard-service --use-gtk\\ntcloudo+  2041  0.0  0.3 475176 12784 ?        Ssl  09:26   0:00 /usr/lib/x86_64-linux-gnu/indicator-sound/indicator-sound-service\\ntcloudo+  2043  0.0  0.6 541692 24544 ?        Ssl  09:26   0:02 /usr/lib/x86_64-linux-gnu/indicator-printers/indicator-printers-service\\ntcloudo+  2051  0.0  0.2 631880  9280 ?        Ssl  09:26   0:00 /usr/lib/x86_64-linux-gnu/indicator-session/indicator-session-service\\ntcloudo+  2053  0.0  0.6 780804 24848 ?        Sl   09:26   0:00 /usr/lib/evolution/evolution-source-registry\\ntcloudo+  2059  0.0  0.2 395588 11812 ?        Ssl  09:26   0:00 /usr/lib/x86_64-linux-gnu/indicator-application/indicator-application-service\\ntcloudo+  2097  0.0  0.2 434344 11080 ?        S<l  09:26   0:00 /usr/bin/pulseaudio --start --log-target=syslog\\ntcloudo+  2118  0.2  1.3 1049500 56620 ?       Sl   09:26   0:41 nautilus -n\\ntcloudo+  2119  0.0  0.4 426128 19756 ?        Sl   09:26   0:01 /usr/lib/policykit-1-gnome/polkit-gnome-authentication-agent-1\\ntcloudo+  2124  0.0  0.5 573648 22948 ?        Sl   09:26   0:02 /usr/lib/unity-settings-daemon/unity-fallback-mount-helper\\ntcloudo+  2128  0.0  0.8 661980 35668 ?        Sl   09:26   0:02 nm-applet\\ntcloudo+  2138  0.0  0.1 289520  7732 ?        Sl   09:26   0:00 /usr/lib/gvfs/gvfs-udisks2-volume-monitor\\ntcloudo+  2141  0.0  1.5 859160 61008 ?        Sl   09:26   0:00 /usr/lib/evolution/evolution-calendar-factory\\nroot      2147  0.0  0.2 367508  8492 ?        Ssl  09:26   0:00 /usr/lib/udisks2/udisksd --no-debug\\ntcloudo+  2149  0.0  0.1  66292  6412 ?        S    09:26   0:00 /usr/lib/x86_64-linux-gnu/gconf/gconfd-2\\ntcloudo+  2160  0.0  0.2 403172  8724 ?        Sl   09:26   0:00 /usr/lib/gvfs/gvfs-afc-volume-monitor\\ntcloudo+  2166  0.0  0.1 275816  5764 ?        Sl   09:26   0:00 /usr/lib/gvfs/gvfs-gphoto2-volume-monitor\\ntcloudo+  2171  0.0  0.1 263620  5204 ?        Sl   09:26   0:00 /usr/lib/gvfs/gvfs-mtp-volume-monitor\\ntcloudo+  2184  0.0  0.1 349772  6476 ?        Sl   09:26   0:00 /usr/lib/gvfs/gvfsd-trash --spawner :1.6 /org/gtk/gvfs/exec_spaw/0\\ntcloudo+  2195  0.0  0.5 783656 21676 ?        Sl   09:26   0:00 /usr/lib/evolution/evolution-calendar-factory-subprocess --factory contacts --bus-name org.gnome.evolution.dataserver.Subprocess.Backend.Calendarx2141x2 --own-path /org/gnome/evolution/dataserver/Subprocess/Backend/Calendar/2141/2\\ntcloudo+  2205  0.0  0.3 768032 15016 ?        Sl   09:26   0:00 /usr/lib/evolution/evolution-calendar-factory-subprocess --factory local --bus-name org.gnome.evolution.dataserver.Subprocess.Backend.Calendarx2141x3 --own-path /org/gnome/evolution/dataserver/Subprocess/Backend/Calendar/2141/3\\ntcloudo+  2207  0.0  0.4 692320 18288 ?        Sl   09:26   0:00 /usr/lib/evolution/evolution-addressbook-factory\\ntcloudo+  2226  0.0  0.4 776080 17812 ?        Sl   09:26   0:00 /usr/lib/evolution/evolution-addressbook-factory-subprocess --factory local --bus-name org.gnome.evolution.dataserver.Subprocess.Backend.AddressBookx2207x2 --own-path /org/gnome/evolution/dataserver/Subprocess/Backend/AddressBook/2207/2\\ntcloudo+  2233  0.0  0.1 344896  5960 ?        Sl   09:26   0:00 /usr/lib/gvfs/gvfsd-burn --spawner :1.6 /org/gtk/gvfs/exec_spaw/1\\ntcloudo+  2268  0.0  0.1 190516  5888 ?        Sl   09:26   0:00 /usr/lib/gvfs/gvfsd-metadata\\ntcloudo+  2277  0.0  0.5 549196 22960 ?        Sl   09:26   0:02 telepathy-indicator\\ntcloudo+  2285  0.0  0.3 424892 12860 ?        Sl   09:26   0:00 /usr/lib/telepathy/mission-control-5\\ntcloudo+  2309  0.0  0.3 412844 15956 ?        Sl   09:27   0:05 zeitgeist-datahub\\ntcloudo+  2317  0.0  0.2 412480  9704 ?        Sl   09:27   0:00 /usr/bin/zeitgeist-daemon\\ntcloudo+  2325  0.0  0.5 327380 23544 ?        Sl   09:27   0:01 /usr/lib/x86_64-linux-gnu/zeitgeist-fts\\ntcloudo+  2408  0.0  0.6 594568 27496 ?        Sl   09:27   0:02 update-notifier\\ntcloudo+  2517  0.0  0.2 589296  9504 ?        Sl   09:28   0:00 /usr/lib/x86_64-linux-gnu/deja-dup/deja-dup-monitor\\nwww-data  2734  0.0  0.0  73660  3316 ?        S    09:30   0:00 /usr/sbin/apache2 -k start\\nwww-data  2735  0.0  0.1 362820  6120 ?        Sl   09:30   0:08 /usr/sbin/apache2 -k start\\nwww-data  2739  0.0  0.1 362820  6120 ?        Sl   09:30   0:08 /usr/sbin/apache2 -k start\\nroot      2818  0.0  0.1  90212  6796 ?        Ss   09:30   0:00 /usr/sbin/cupsd -l\\nlp        2821  0.0  0.1  74192  5400 ?        S    09:30   0:00 /usr/lib/cups/notifier/dbus dbus:// \\nlp        2823  0.0  0.1  74192  5300 ?        S    09:30   0:00 /usr/lib/cups/notifier/dbus dbus:// \\ntcloudo+  3037  9.5 14.4 1455808 585884 ?      Rl   09:32  23:21 /usr/lib/firefox/firefox\\ntcloudo+  3705  0.0  0.7 741616 29728 ?        Sl   09:41   0:01 /usr/lib/x86_64-linux-gnu/unity-scope-home/unity-scope-home\\nuuidd     3714  0.0  0.0  27592  1204 ?        Ss   09:41   0:00 /usr/sbin/uuidd --socket-activation\\ntcloudo+  3720  0.0  0.6 583328 25604 ?        Sl   09:41   0:02 /usr/bin/unity-scope-loader applications/applications.scope applications/scopes.scope commands.scope\\ntcloudo+  3722  0.0  0.3 710248 15312 ?        Sl   09:41   0:03 /usr/lib/x86_64-linux-gnu/unity-lens-files/unity-files-daemon\\ntcloudo+  3726  0.0  0.3 339340 13616 ?        Sl   09:41   0:01 /usr/lib/x86_64-linux-gnu/unity-lens-music/unity-music-daemon\\ntcloudo+  3777  0.0  0.5 714324 22412 ?        Sl   09:41   0:00 /usr/lib/gvfs/gvfsd-http --spawner :1.6 /org/gtk/gvfs/exec_spaw/2\\ntcloudo+ 10442  0.0  0.7 486348 30816 ?        Sl   11:19   0:02 /usr/lib/x86_64-linux-gnu/notify-osd\\ntcloudo+ 10760  0.0  0.9 647932 39092 ?        Sl   11:21   0:06 /usr/lib/gnome-terminal/gnome-terminal-server\\ntcloudo+ 10772  0.0  0.0  14852  1948 ?        S    11:21   0:00 gnome-pty-helper\\ntcloudo+ 10773  0.0  0.1  27544  6304 pts/0    Ss   11:21   0:00 bash\\ntcloudo+ 10939  0.5  1.6 1376396 65096 ?       Ssl  11:23   0:47 /opt/sublime_text/sublime_text\\ntcloudo+ 10953  0.0  1.0 240084 42732 ?        Sl   11:23   0:06 /opt/sublime_text/plugin_host 10939\\ntcloudo+ 11171  0.0  0.1  27552  6356 pts/16   Ss+  11:25   0:00 bash\\nroot     11376  0.0  0.2  23456 10208 ?        S    11:28   0:00 /sbin/dhclient -d -q -sf /usr/lib/NetworkManager/nm-dhcp-helper -pf /run/sendsigs.omit.d/network-manager.dhclient-enp0s3.pid -lf /var/lib/NetworkManager/dhclient-78397316-9f90-4857-932d-09ec5f9f7b42-enp0s3.lease -cf /var/lib/NetworkManager/dhclient-enp0s3.conf enp0s3\\nroot     15237  0.0  0.0      0     0 ?        S    12:20   0:00 [kworker/u2:1]\\nroot     15917  0.0  0.0      0     0 ?        S    12:31   0:00 [kworker/u2:2]\\ntcloudo+ 16212  0.2  1.1 343368 47072 pts/0    Sl+  12:35   0:11 /home/tcloudost/anaconda2/bin/python /home/tcloudost/anaconda2/bin/ipython notebook\\ntcloudo+ 16257  0.1  0.9 635544 38236 ?        Ssl  12:35   0:04 /home/tcloudost/anaconda2/bin/python -m ipykernel -f /run/user/1000/jupyter/kernel-e5b57e29-d0a7-4953-bc26-88463456cbb2.json\\ntcloudo+ 16320  0.2  1.2 692204 49308 ?        Sl   12:36   0:07 gedit /home/tcloudost/pythonexamples/batch21/python21/Untitled Document\\nroot     16381  0.0  0.0      0     0 ?        S    12:36   0:00 [kworker/0:0]\\nroot     18673  0.0  0.0      0     0 ?        S    13:14   0:00 [kworker/0:1]\\nroot     20025  0.0  0.0      0     0 ?        S    13:36   0:00 [kworker/u2:0]\\ntcloudo+ 20159  0.0  0.0  22676  2680 ?        R    13:38   0:00 ps -aux\\n'"
      ]
     },
     "execution_count": 77,
     "metadata": {},
     "output_type": "execute_result"
    }
   ],
   "source": [
    "ps"
   ]
  },
  {
   "cell_type": "code",
   "execution_count": 78,
   "metadata": {
    "collapsed": false
   },
   "outputs": [
    {
     "data": {
      "text/plain": [
       "True"
      ]
     },
     "execution_count": 78,
     "metadata": {},
     "output_type": "execute_result"
    }
   ],
   "source": [
    "\"firefox\" in ps"
   ]
  },
  {
   "cell_type": "code",
   "execution_count": 79,
   "metadata": {
    "collapsed": false
   },
   "outputs": [
    {
     "data": {
      "text/plain": [
       "['USER       PID %CPU %MEM    VSZ   RSS TTY      STAT START   TIME COMMAND',\n",
       " 'root         1  0.0  0.1 119444  5668 ?        Ss   09:24   0:03 /sbin/init splash',\n",
       " 'root         2  0.0  0.0      0     0 ?        S    09:24   0:00 [kthreadd]',\n",
       " 'root         3  0.0  0.0      0     0 ?        S    09:24   0:00 [ksoftirqd/0]',\n",
       " 'root         5  0.0  0.0      0     0 ?        S<   09:24   0:00 [kworker/0:0H]',\n",
       " 'root         7  0.0  0.0      0     0 ?        S    09:24   0:02 [rcu_sched]',\n",
       " 'root         8  0.0  0.0      0     0 ?        S    09:24   0:00 [rcu_bh]',\n",
       " 'root         9  0.0  0.0      0     0 ?        S    09:24   0:02 [rcuos/0]',\n",
       " 'root        10  0.0  0.0      0     0 ?        S    09:24   0:00 [rcuob/0]',\n",
       " 'root        11  0.0  0.0      0     0 ?        S    09:24   0:00 [migration/0]',\n",
       " 'root        12  0.0  0.0      0     0 ?        S    09:24   0:00 [watchdog/0]',\n",
       " 'root        13  0.0  0.0      0     0 ?        S<   09:24   0:00 [khelper]',\n",
       " 'root        14  0.0  0.0      0     0 ?        S    09:24   0:00 [kdevtmpfs]',\n",
       " 'root        15  0.0  0.0      0     0 ?        S<   09:24   0:00 [netns]',\n",
       " 'root        16  0.0  0.0      0     0 ?        S<   09:24   0:00 [perf]',\n",
       " 'root        17  0.0  0.0      0     0 ?        S    09:24   0:00 [khungtaskd]',\n",
       " 'root        18  0.0  0.0      0     0 ?        S<   09:24   0:00 [writeback]',\n",
       " 'root        19  0.0  0.0      0     0 ?        SN   09:24   0:00 [ksmd]',\n",
       " 'root        20  0.0  0.0      0     0 ?        SN   09:24   0:08 [khugepaged]',\n",
       " 'root        21  0.0  0.0      0     0 ?        S<   09:24   0:00 [crypto]',\n",
       " 'root        22  0.0  0.0      0     0 ?        S<   09:24   0:00 [kintegrityd]',\n",
       " 'root        23  0.0  0.0      0     0 ?        S<   09:24   0:00 [bioset]',\n",
       " 'root        24  0.0  0.0      0     0 ?        S<   09:24   0:00 [kblockd]',\n",
       " 'root        25  0.0  0.0      0     0 ?        S<   09:24   0:00 [ata_sff]',\n",
       " 'root        26  0.0  0.0      0     0 ?        S<   09:24   0:00 [md]',\n",
       " 'root        27  0.0  0.0      0     0 ?        S<   09:24   0:00 [devfreq_wq]',\n",
       " 'root        30  0.0  0.0      0     0 ?        S    09:24   0:00 [kswapd0]',\n",
       " 'root        31  0.0  0.0      0     0 ?        S<   09:24   0:00 [vmstat]',\n",
       " 'root        32  0.0  0.0      0     0 ?        S    09:24   0:00 [fsnotify_mark]',\n",
       " 'root        33  0.0  0.0      0     0 ?        S    09:24   0:00 [ecryptfs-kthrea]',\n",
       " 'root        44  0.0  0.0      0     0 ?        S<   09:24   0:00 [kthrotld]',\n",
       " 'root        45  0.0  0.0      0     0 ?        S<   09:24   0:00 [acpi_thermal_pm]',\n",
       " 'root        46  0.0  0.0      0     0 ?        S    09:24   0:00 [scsi_eh_0]',\n",
       " 'root        47  0.0  0.0      0     0 ?        S<   09:24   0:00 [scsi_tmf_0]',\n",
       " 'root        48  0.0  0.0      0     0 ?        S    09:24   0:00 [scsi_eh_1]',\n",
       " 'root        49  0.0  0.0      0     0 ?        S<   09:24   0:00 [scsi_tmf_1]',\n",
       " 'root        54  0.0  0.0      0     0 ?        S<   09:24   0:00 [ipv6_addrconf]',\n",
       " 'root        74  0.0  0.0      0     0 ?        S<   09:24   0:00 [deferwq]',\n",
       " 'root        75  0.0  0.0      0     0 ?        S<   09:24   0:00 [charger_manager]',\n",
       " 'root       114  0.0  0.0      0     0 ?        S<   09:24   0:00 [kpsmoused]',\n",
       " 'root       115  0.0  0.0      0     0 ?        S    09:24   0:00 [scsi_eh_2]',\n",
       " 'root       117  0.0  0.0      0     0 ?        S<   09:24   0:00 [scsi_tmf_2]',\n",
       " 'root       118  0.0  0.0      0     0 ?        S<   09:24   0:00 [kworker/0:1H]',\n",
       " 'root       144  0.0  0.0      0     0 ?        S    09:24   0:01 [jbd2/sda1-8]',\n",
       " 'root       145  0.0  0.0      0     0 ?        S<   09:24   0:00 [ext4-rsv-conver]',\n",
       " 'root       182  0.0  0.0      0     0 ?        S    09:24   0:00 [kauditd]',\n",
       " 'root       203  0.0  0.1  32344  4212 ?        Ss   09:24   0:01 /lib/systemd/systemd-journald',\n",
       " 'root       215  0.0  0.1  45568  4960 ?        Ss   09:24   0:00 /lib/systemd/systemd-udevd',\n",
       " 'systemd+   309  0.0  0.0 102356  2800 ?        Ssl  09:24   0:00 /lib/systemd/systemd-timesyncd',\n",
       " 'root       358  0.0  0.0      0     0 ?        S<   09:24   0:00 [iprt-VBoxWQueue]',\n",
       " 'avahi      510  0.0  0.0  40192  3444 ?        Ss   09:24   0:00 avahi-daemon: running [tcloudost-VirtualBox.local]',\n",
       " 'root       515  0.0  0.0  25180  2612 ?        Ss   09:24   0:00 /sbin/cgmanager -m name=systemd',\n",
       " 'message+   518  0.0  0.1  44236  5312 ?        Ss   09:24   0:03 /usr/bin/dbus-daemon --system --address=systemd: --nofork --nopidfile --systemd-activation',\n",
       " 'avahi      524  0.0  0.0  40068   320 ?        S    09:24   0:00 avahi-daemon: chroot helper',\n",
       " 'root       526  0.0  0.2 272356  8912 ?        Ssl  09:24   0:00 /usr/sbin/cups-browsed',\n",
       " 'whoopsie   527  0.0  0.3 521236 14440 ?        Ssl  09:24   0:00 /usr/bin/whoopsie -f',\n",
       " 'root       532  0.0  0.0  33124  3080 ?        Ss   09:24   0:00 /usr/sbin/cron -f',\n",
       " 'root       533  0.0  0.3 381620 14640 ?        Ssl  09:24   0:00 /usr/sbin/NetworkManager --no-daemon',\n",
       " 'syslog     537  0.0  0.0 256372  3688 ?        Ssl  09:25   0:00 /usr/sbin/rsyslogd -n',\n",
       " 'root       542  0.0  0.0  28600  3200 ?        Ss   09:25   0:00 /lib/systemd/systemd-logind',\n",
       " 'root       543  0.0  0.2 337240  8920 ?        Ssl  09:25   0:00 /usr/sbin/ModemManager',\n",
       " 'root       556  0.0  0.2 287292  9068 ?        Ssl  09:25   0:01 /usr/lib/accountsservice/accounts-daemon',\n",
       " 'root       616  0.0  0.2 285720  8432 ?        Ssl  09:25   0:00 /usr/lib/policykit-1/polkitd --no-debug',\n",
       " 'root       620  0.0  0.0 247744  2116 ?        Sl   09:25   0:06 /usr/sbin/VBoxService',\n",
       " 'root       639  0.0  0.1  69932  5960 ?        Ss   09:25   0:00 /usr/sbin/sshd -D',\n",
       " 'mysql      641  0.0  0.0   4476  1760 ?        Ss   09:25   0:00 /bin/sh /usr/bin/mysqld_safe',\n",
       " 'root       763  0.0  0.1  39192  5168 ?        Ss   09:25   0:00 /sbin/wpa_supplicant -u -s -O /run/wpa_supplicant',\n",
       " 'mysql     1009  0.0  3.0 729280 125020 ?       Sl   09:25   0:13 /usr/sbin/mysqld --basedir=/usr --datadir=/var/lib/mysql --plugin-dir=/usr/lib/mysql/plugin --log-error=/var/log/mysql/error.log --pid-file=/var/run/mysqld/mysqld.pid --socket=/var/run/mysqld/mysqld.sock --port=3306',\n",
       " 'postgres  1013  0.0  0.5 293636 23972 ?        S    09:25   0:00 /usr/lib/postgresql/9.4/bin/postgres -D /var/lib/postgresql/9.4/main -c config_file=/etc/postgresql/9.4/main/postgresql.conf',\n",
       " 'nobody    1018  0.0  0.1  52288  4060 ?        S    09:25   0:00 /usr/sbin/dnsmasq --no-resolv --keep-in-foreground --no-hosts --bind-interfaces --pid-file=/run/sendsigs.omit.d/network-manager.dnsmasq.pid --listen-address=127.0.1.1 --conf-file=/var/run/NetworkManager/dnsmasq.conf --cache-size=0 --proxy-dnssec --enable-dbus=org.freedesktop.NetworkManager.dnsmasq --conf-dir=/etc/NetworkManager/dnsmasq.d',\n",
       " 'kernoops  1211  0.0  0.0  45276  2632 ?        Ss   09:25   0:00 /usr/sbin/kerneloops',\n",
       " 'root      1360  0.0  0.1  73660  4980 ?        Ss   09:25   0:02 /usr/sbin/apache2 -k start',\n",
       " 'root      1449  0.0  0.1 352416  6228 ?        SLsl 09:25   0:00 /usr/sbin/lightdm',\n",
       " 'root      1460  7.0  2.5 333312 103596 tty7    Ss+  09:25  17:56 /usr/bin/X -core :0 -seat seat0 -auth /var/run/lightdm/root/:0 -nolisten tcp vt7 -novtswitch',\n",
       " 'postgres  1469  0.0  0.0 293636  3692 ?        Ss   09:25   0:00 postgres: checkpointer process                                                                                              ',\n",
       " 'postgres  1470  0.0  0.1 293636  5300 ?        Ss   09:25   0:00 postgres: writer process                                                                                                    ',\n",
       " 'postgres  1471  0.0  0.0 293636  3692 ?        Ss   09:25   0:00 postgres: wal writer process                                                                                                ',\n",
       " 'postgres  1472  0.0  0.1 294032  6296 ?        Ss   09:25   0:00 postgres: autovacuum launcher process                                                                                       ',\n",
       " 'postgres  1473  0.0  0.0 148780  3884 ?        Ss   09:25   0:00 postgres: stats collector process                                                                                           ',\n",
       " 'root      1480  0.0  0.0  20052  2148 tty1     Ss+  09:25   0:00 /sbin/agetty --noclear tty1 linux',\n",
       " 'root      1540  0.0  0.1 230224  6232 ?        Sl   09:25   0:00 lightdm --session-child 12 19',\n",
       " 'rtkit     1590  0.0  0.0 178820  2936 ?        SNsl 09:25   0:00 /usr/lib/rtkit/rtkit-daemon',\n",
       " 'root      1621  0.0  0.2 280088 10168 ?        Ssl  09:25   0:00 /usr/lib/upower/upowerd',\n",
       " 'colord    1632  0.0  0.2 305144 10888 ?        Ssl  09:25   0:00 /usr/lib/colord/colord',\n",
       " 'tcloudo+  1655  0.0  0.1  45164  5200 ?        Ss   09:26   0:00 /lib/systemd/systemd --user',\n",
       " 'tcloudo+  1656  0.0  0.0  60968  1756 ?        S    09:26   0:00 (sd-pam)         ',\n",
       " 'tcloudo+  1664  0.0  0.2 292392  9612 ?        Sl   09:26   0:00 /usr/bin/gnome-keyring-daemon --daemonize --login',\n",
       " 'tcloudo+  1666  0.0  0.1  45780  4532 ?        Ss   09:26   0:01 /sbin/upstart --user',\n",
       " 'tcloudo+  1743  0.0  0.0  49464  1360 ?        S    09:26   0:05 /usr/bin/VBoxClient --clipboard',\n",
       " 'tcloudo+  1749  0.0  0.0  49464  1388 ?        S    09:26   0:05 /usr/bin/VBoxClient --checkhostversion',\n",
       " 'tcloudo+  1756  0.0  0.0  49464  1348 ?        S    09:26   0:05 /usr/bin/VBoxClient --display',\n",
       " 'tcloudo+  1768  0.0  0.0  39016  1788 ?        S    09:26   0:00 dbus-launch --autolaunch=e51c7092bfbd4fb4ac8b04918ff33401 --binary-syntax --close-stderr',\n",
       " 'tcloudo+  1770  0.0  0.0  42860  3184 ?        Ss   09:26   0:00 /usr/bin/dbus-daemon --fork --print-pid 5 --print-address 7 --session',\n",
       " 'tcloudo+  1779  0.0  0.6 439336 27600 ?        Sl   09:26   0:03 /usr/lib/x86_64-linux-gnu/notify-osd',\n",
       " 'tcloudo+  1783  0.0  0.0  49464  1388 ?        S    09:26   0:04 /usr/bin/VBoxClient --seamless',\n",
       " 'tcloudo+  1790  0.0  0.0  49464  1392 ?        S    09:26   0:04 /usr/bin/VBoxClient --draganddrop',\n",
       " 'tcloudo+  1804  0.0  0.1 337956  5896 ?        Sl   09:26   0:00 /usr/lib/at-spi2-core/at-spi-bus-launcher',\n",
       " 'tcloudo+  1812  0.0  0.0  32296   256 ?        S    09:26   0:00 upstart-udev-bridge --daemon --user',\n",
       " 'tcloudo+  1820  0.0  0.0  42860  4012 ?        S    09:26   0:00 /usr/bin/dbus-daemon --config-file=/etc/at-spi2/accessibility.conf --nofork --print-address 3',\n",
       " 'tcloudo+  1825  0.0  0.1 206936  5416 ?        Sl   09:26   0:02 /usr/lib/at-spi2-core/at-spi2-registryd --use-gnome-session',\n",
       " 'tcloudo+  1835  0.0  0.1 271164  5448 ?        Sl   09:26   0:00 /usr/lib/gvfs/gvfsd',\n",
       " 'tcloudo+  1841  0.0  0.1 409032  7444 ?        Sl   09:26   0:00 /usr/lib/gvfs/gvfsd-fuse /run/user/1000/gvfs -f -o big_writes',\n",
       " 'tcloudo+  1842  0.0  0.1  43860  4448 ?        Ss   09:26   0:04 dbus-daemon --fork --session --address=unix:abstract=/tmp/dbus-ECXOvLHN4l',\n",
       " 'tcloudo+  1862  0.0  0.2  88176  9944 ?        Ss   09:26   0:00 /usr/lib/x86_64-linux-gnu/hud/window-stack-bridge',\n",
       " 'tcloudo+  1875  0.0  0.5 426996 21576 ?        Sl   09:26   0:02 /usr/bin/gnome-screensaver --no-daemon',\n",
       " 'tcloudo+  1893  0.0  0.6 512424 24776 ?        Sl   09:26   0:07 /usr/lib/x86_64-linux-gnu/bamf/bamfdaemon',\n",
       " 'tcloudo+  1915  0.0  0.1 623664  5968 ?        Sl   09:26   0:00 /usr/lib/gvfs/gvfsd',\n",
       " 'tcloudo+  1926  0.2  0.3 355360 13516 ?        Ssl  09:26   0:40 /usr/bin/ibus-daemon --daemonize --xim',\n",
       " 'tcloudo+  1935  0.0  0.0  32232  1708 ?        S    09:26   0:00 upstart-dbus-bridge --daemon --system --user --bus-name system',\n",
       " 'tcloudo+  1936  0.0  0.0  32360  1672 ?        S    09:26   0:01 upstart-dbus-bridge --daemon --session --user --bus-name session',\n",
       " 'tcloudo+  1937  0.0  0.0  40840  1876 ?        S    09:26   0:00 upstart-file-bridge --daemon --user',\n",
       " 'tcloudo+  1943  0.0  0.1 270504  6208 ?        Sl   09:26   0:00 /usr/lib/ibus/ibus-dconf',\n",
       " 'tcloudo+  1946  0.1  0.7 476368 31596 ?        Sl   09:26   0:15 /usr/lib/ibus/ibus-ui-gtk3',\n",
       " 'tcloudo+  1952  0.0  0.3 376796 15592 ?        Sl   09:26   0:00 /usr/lib/ibus/ibus-x11 --kill-daemon',\n",
       " 'tcloudo+  1962  0.0  1.1 715176 47056 ?        Ssl  09:26   0:14 /usr/lib/x86_64-linux-gnu/hud/hud-service',\n",
       " 'tcloudo+  1967  0.0  0.9 797488 37532 ?        Ssl  09:26   0:07 /usr/lib/unity-settings-daemon/unity-settings-daemon',\n",
       " 'tcloudo+  1976 10.8  6.1 1243100 247252 ?      Ssl  09:26  27:20 compiz',\n",
       " 'tcloudo+  1979  0.0  0.3 554600 14132 ?        Ssl  09:26   0:00 gnome-session --session=ubuntu',\n",
       " 'tcloudo+  1987  0.0  1.2 651112 49456 ?        Ssl  09:26   0:10 /usr/lib/unity/unity-panel-service',\n",
       " 'tcloudo+  1992  0.0  0.1 194768  6028 ?        Sl   09:26   0:10 /usr/lib/ibus/ibus-engine-simple',\n",
       " 'tcloudo+  1999  0.0  0.1 178628  4812 ?        Sl   09:26   0:00 /usr/lib/dconf/dconf-service',\n",
       " 'tcloudo+  2019  0.0  0.2 363548  9812 ?        Ssl  09:26   0:00 /usr/lib/x86_64-linux-gnu/indicator-messages/indicator-messages-service',\n",
       " 'tcloudo+  2020  0.0  0.1 337608  5480 ?        Ssl  09:26   0:00 /usr/lib/x86_64-linux-gnu/indicator-bluetooth/indicator-bluetooth-service',\n",
       " 'tcloudo+  2025  0.0  0.1 492492  8056 ?        Ssl  09:26   0:00 /usr/lib/x86_64-linux-gnu/indicator-power/indicator-power-service',\n",
       " 'tcloudo+  2028  0.0  0.4 775932 17888 ?        Ssl  09:26   0:00 /usr/lib/x86_64-linux-gnu/indicator-datetime/indicator-datetime-service',\n",
       " 'tcloudo+  2037  0.0  0.6 576476 27852 ?        Ssl  09:26   0:02 /usr/lib/x86_64-linux-gnu/indicator-keyboard/indicator-keyboard-service --use-gtk',\n",
       " 'tcloudo+  2041  0.0  0.3 475176 12784 ?        Ssl  09:26   0:00 /usr/lib/x86_64-linux-gnu/indicator-sound/indicator-sound-service',\n",
       " 'tcloudo+  2043  0.0  0.6 541692 24544 ?        Ssl  09:26   0:02 /usr/lib/x86_64-linux-gnu/indicator-printers/indicator-printers-service',\n",
       " 'tcloudo+  2051  0.0  0.2 631880  9280 ?        Ssl  09:26   0:00 /usr/lib/x86_64-linux-gnu/indicator-session/indicator-session-service',\n",
       " 'tcloudo+  2053  0.0  0.6 780804 24848 ?        Sl   09:26   0:00 /usr/lib/evolution/evolution-source-registry',\n",
       " 'tcloudo+  2059  0.0  0.2 395588 11812 ?        Ssl  09:26   0:00 /usr/lib/x86_64-linux-gnu/indicator-application/indicator-application-service',\n",
       " 'tcloudo+  2097  0.0  0.2 434344 11080 ?        S<l  09:26   0:00 /usr/bin/pulseaudio --start --log-target=syslog',\n",
       " 'tcloudo+  2118  0.2  1.3 1049500 56620 ?       Sl   09:26   0:41 nautilus -n',\n",
       " 'tcloudo+  2119  0.0  0.4 426128 19756 ?        Sl   09:26   0:01 /usr/lib/policykit-1-gnome/polkit-gnome-authentication-agent-1',\n",
       " 'tcloudo+  2124  0.0  0.5 573648 22948 ?        Sl   09:26   0:02 /usr/lib/unity-settings-daemon/unity-fallback-mount-helper',\n",
       " 'tcloudo+  2128  0.0  0.8 661980 35668 ?        Sl   09:26   0:02 nm-applet',\n",
       " 'tcloudo+  2138  0.0  0.1 289520  7732 ?        Sl   09:26   0:00 /usr/lib/gvfs/gvfs-udisks2-volume-monitor',\n",
       " 'tcloudo+  2141  0.0  1.5 859160 61008 ?        Sl   09:26   0:00 /usr/lib/evolution/evolution-calendar-factory',\n",
       " 'root      2147  0.0  0.2 367508  8492 ?        Ssl  09:26   0:00 /usr/lib/udisks2/udisksd --no-debug',\n",
       " 'tcloudo+  2149  0.0  0.1  66292  6412 ?        S    09:26   0:00 /usr/lib/x86_64-linux-gnu/gconf/gconfd-2',\n",
       " 'tcloudo+  2160  0.0  0.2 403172  8724 ?        Sl   09:26   0:00 /usr/lib/gvfs/gvfs-afc-volume-monitor',\n",
       " 'tcloudo+  2166  0.0  0.1 275816  5764 ?        Sl   09:26   0:00 /usr/lib/gvfs/gvfs-gphoto2-volume-monitor',\n",
       " 'tcloudo+  2171  0.0  0.1 263620  5204 ?        Sl   09:26   0:00 /usr/lib/gvfs/gvfs-mtp-volume-monitor',\n",
       " 'tcloudo+  2184  0.0  0.1 349772  6476 ?        Sl   09:26   0:00 /usr/lib/gvfs/gvfsd-trash --spawner :1.6 /org/gtk/gvfs/exec_spaw/0',\n",
       " 'tcloudo+  2195  0.0  0.5 783656 21676 ?        Sl   09:26   0:00 /usr/lib/evolution/evolution-calendar-factory-subprocess --factory contacts --bus-name org.gnome.evolution.dataserver.Subprocess.Backend.Calendarx2141x2 --own-path /org/gnome/evolution/dataserver/Subprocess/Backend/Calendar/2141/2',\n",
       " 'tcloudo+  2205  0.0  0.3 768032 15016 ?        Sl   09:26   0:00 /usr/lib/evolution/evolution-calendar-factory-subprocess --factory local --bus-name org.gnome.evolution.dataserver.Subprocess.Backend.Calendarx2141x3 --own-path /org/gnome/evolution/dataserver/Subprocess/Backend/Calendar/2141/3',\n",
       " 'tcloudo+  2207  0.0  0.4 692320 18288 ?        Sl   09:26   0:00 /usr/lib/evolution/evolution-addressbook-factory',\n",
       " 'tcloudo+  2226  0.0  0.4 776080 17812 ?        Sl   09:26   0:00 /usr/lib/evolution/evolution-addressbook-factory-subprocess --factory local --bus-name org.gnome.evolution.dataserver.Subprocess.Backend.AddressBookx2207x2 --own-path /org/gnome/evolution/dataserver/Subprocess/Backend/AddressBook/2207/2',\n",
       " 'tcloudo+  2233  0.0  0.1 344896  5960 ?        Sl   09:26   0:00 /usr/lib/gvfs/gvfsd-burn --spawner :1.6 /org/gtk/gvfs/exec_spaw/1',\n",
       " 'tcloudo+  2268  0.0  0.1 190516  5888 ?        Sl   09:26   0:00 /usr/lib/gvfs/gvfsd-metadata',\n",
       " 'tcloudo+  2277  0.0  0.5 549196 22960 ?        Sl   09:26   0:02 telepathy-indicator',\n",
       " 'tcloudo+  2285  0.0  0.3 424892 12860 ?        Sl   09:26   0:00 /usr/lib/telepathy/mission-control-5',\n",
       " 'tcloudo+  2309  0.0  0.3 412844 15956 ?        Sl   09:27   0:05 zeitgeist-datahub',\n",
       " 'tcloudo+  2317  0.0  0.2 412480  9704 ?        Sl   09:27   0:00 /usr/bin/zeitgeist-daemon',\n",
       " 'tcloudo+  2325  0.0  0.5 327380 23544 ?        Sl   09:27   0:01 /usr/lib/x86_64-linux-gnu/zeitgeist-fts',\n",
       " 'tcloudo+  2408  0.0  0.6 594568 27496 ?        Sl   09:27   0:02 update-notifier',\n",
       " 'tcloudo+  2517  0.0  0.2 589296  9504 ?        Sl   09:28   0:00 /usr/lib/x86_64-linux-gnu/deja-dup/deja-dup-monitor',\n",
       " 'www-data  2734  0.0  0.0  73660  3316 ?        S    09:30   0:00 /usr/sbin/apache2 -k start',\n",
       " 'www-data  2735  0.0  0.1 362820  6120 ?        Sl   09:30   0:08 /usr/sbin/apache2 -k start',\n",
       " 'www-data  2739  0.0  0.1 362820  6120 ?        Sl   09:30   0:08 /usr/sbin/apache2 -k start',\n",
       " 'root      2818  0.0  0.1  90212  6796 ?        Ss   09:30   0:00 /usr/sbin/cupsd -l',\n",
       " 'lp        2821  0.0  0.1  74192  5400 ?        S    09:30   0:00 /usr/lib/cups/notifier/dbus dbus:// ',\n",
       " 'lp        2823  0.0  0.1  74192  5300 ?        S    09:30   0:00 /usr/lib/cups/notifier/dbus dbus:// ',\n",
       " 'tcloudo+  3037  9.5 14.4 1455808 585884 ?      Rl   09:32  23:21 /usr/lib/firefox/firefox',\n",
       " 'tcloudo+  3705  0.0  0.7 741616 29728 ?        Sl   09:41   0:01 /usr/lib/x86_64-linux-gnu/unity-scope-home/unity-scope-home',\n",
       " 'uuidd     3714  0.0  0.0  27592  1204 ?        Ss   09:41   0:00 /usr/sbin/uuidd --socket-activation',\n",
       " 'tcloudo+  3720  0.0  0.6 583328 25604 ?        Sl   09:41   0:02 /usr/bin/unity-scope-loader applications/applications.scope applications/scopes.scope commands.scope',\n",
       " 'tcloudo+  3722  0.0  0.3 710248 15312 ?        Sl   09:41   0:03 /usr/lib/x86_64-linux-gnu/unity-lens-files/unity-files-daemon',\n",
       " 'tcloudo+  3726  0.0  0.3 339340 13616 ?        Sl   09:41   0:01 /usr/lib/x86_64-linux-gnu/unity-lens-music/unity-music-daemon',\n",
       " 'tcloudo+  3777  0.0  0.5 714324 22412 ?        Sl   09:41   0:00 /usr/lib/gvfs/gvfsd-http --spawner :1.6 /org/gtk/gvfs/exec_spaw/2',\n",
       " 'tcloudo+ 10442  0.0  0.7 486348 30816 ?        Sl   11:19   0:02 /usr/lib/x86_64-linux-gnu/notify-osd',\n",
       " 'tcloudo+ 10760  0.0  0.9 647932 39092 ?        Sl   11:21   0:06 /usr/lib/gnome-terminal/gnome-terminal-server',\n",
       " 'tcloudo+ 10772  0.0  0.0  14852  1948 ?        S    11:21   0:00 gnome-pty-helper',\n",
       " 'tcloudo+ 10773  0.0  0.1  27544  6304 pts/0    Ss   11:21   0:00 bash',\n",
       " 'tcloudo+ 10939  0.5  1.6 1376396 65096 ?       Ssl  11:23   0:47 /opt/sublime_text/sublime_text',\n",
       " 'tcloudo+ 10953  0.0  1.0 240084 42732 ?        Sl   11:23   0:06 /opt/sublime_text/plugin_host 10939',\n",
       " 'tcloudo+ 11171  0.0  0.1  27552  6356 pts/16   Ss+  11:25   0:00 bash',\n",
       " 'root     11376  0.0  0.2  23456 10208 ?        S    11:28   0:00 /sbin/dhclient -d -q -sf /usr/lib/NetworkManager/nm-dhcp-helper -pf /run/sendsigs.omit.d/network-manager.dhclient-enp0s3.pid -lf /var/lib/NetworkManager/dhclient-78397316-9f90-4857-932d-09ec5f9f7b42-enp0s3.lease -cf /var/lib/NetworkManager/dhclient-enp0s3.conf enp0s3',\n",
       " 'root     15237  0.0  0.0      0     0 ?        S    12:20   0:00 [kworker/u2:1]',\n",
       " 'root     15917  0.0  0.0      0     0 ?        S    12:31   0:00 [kworker/u2:2]',\n",
       " 'tcloudo+ 16212  0.2  1.1 343368 47072 pts/0    Sl+  12:35   0:11 /home/tcloudost/anaconda2/bin/python /home/tcloudost/anaconda2/bin/ipython notebook',\n",
       " 'tcloudo+ 16257  0.1  0.9 635544 38236 ?        Ssl  12:35   0:04 /home/tcloudost/anaconda2/bin/python -m ipykernel -f /run/user/1000/jupyter/kernel-e5b57e29-d0a7-4953-bc26-88463456cbb2.json',\n",
       " 'tcloudo+ 16320  0.2  1.2 692204 49308 ?        Sl   12:36   0:07 gedit /home/tcloudost/pythonexamples/batch21/python21/Untitled Document',\n",
       " 'root     16381  0.0  0.0      0     0 ?        S    12:36   0:00 [kworker/0:0]',\n",
       " 'root     18673  0.0  0.0      0     0 ?        S    13:14   0:00 [kworker/0:1]',\n",
       " 'root     20025  0.0  0.0      0     0 ?        S    13:36   0:00 [kworker/u2:0]',\n",
       " 'tcloudo+ 20159  0.0  0.0  22676  2680 ?        R    13:38   0:00 ps -aux']"
      ]
     },
     "execution_count": 79,
     "metadata": {},
     "output_type": "execute_result"
    }
   ],
   "source": [
    "ps.splitlines()"
   ]
  },
  {
   "cell_type": "code",
   "execution_count": 80,
   "metadata": {
    "collapsed": false
   },
   "outputs": [
    {
     "data": {
      "text/plain": [
       "['USER       PID %CPU %MEM    VSZ   RSS TTY      STAT START   TIME COMMAND\\nroot         1  0.0  0.1 119444  5668 ?        Ss   09:24   0:03 /sbin/init splash\\nroot         2  0.0  0.0      0     0 ?        S    09:24   0:00 [kthreadd]\\nroot         3  0.0  0.0      0     0 ?        S    09:24   0:00 [ksoftirqd/0]\\nroot         5  0.0  0.0      0     0 ?        S<   09:24   0:00 [kworker/0:0H]\\nroot         7  0.0  0.0      0     0 ?        S    09:24   0:02 [rcu_sched]\\nroot         8  0.0  0.0      0     0 ?        S    09:24   0:00 [rcu_bh]\\nroot         9  0.0  0.0      0     0 ?        S    09:24   0:02 [rcuos/0]\\nroot        10  0.0  0.0      0     0 ?        S    09:24   0:00 [rcuob/0]\\nroot        11  0.0  0.0      0     0 ?        S    09:24   0:00 [migration/0]\\nroot        12  0.0  0.0      0     0 ?        S    09:24   0:00 [watchdog/0]\\nroot        13  0.0  0.0      0     0 ?        S<   09:24   0:00 [khelper]\\nroot        14  0.0  0.0      0     0 ?        S    09:24   0:00 [kdevtmpfs]\\nroot        15  0.0  0.0      0     0 ?        S<   09:24   0:00 [netns]\\nroot        16  0.0  0.0      0     0 ?        S<   09:24   0:00 [perf]\\nroot        17  0.0  0.0      0     0 ?        S    09:24   0:00 [khungtaskd]\\nroot        18  0.0  0.0      0     0 ?        S<   09:24   0:00 [writeback]\\nroot        19  0.0  0.0      0     0 ?        SN   09:24   0:00 [ksmd]\\nroot        20  0.0  0.0      0     0 ?        SN   09:24   0:08 [khugepaged]\\nroot        21  0.0  0.0      0     0 ?        S<   09:24   0:00 [crypto]\\nroot        22  0.0  0.0      0     0 ?        S<   09:24   0:00 [kintegrityd]\\nroot        23  0.0  0.0      0     0 ?        S<   09:24   0:00 [bioset]\\nroot        24  0.0  0.0      0     0 ?        S<   09:24   0:00 [kblockd]\\nroot        25  0.0  0.0      0     0 ?        S<   09:24   0:00 [ata_sff]\\nroot        26  0.0  0.0      0     0 ?        S<   09:24   0:00 [md]\\nroot        27  0.0  0.0      0     0 ?        S<   09:24   0:00 [devfreq_wq]\\nroot        30  0.0  0.0      0     0 ?        S    09:24   0:00 [kswapd0]\\nroot        31  0.0  0.0      0     0 ?        S<   09:24   0:00 [vmstat]\\nroot        32  0.0  0.0      0     0 ?        S    09:24   0:00 [fsnotify_mark]\\nroot        33  0.0  0.0      0     0 ?        S    09:24   0:00 [ecryptfs-kthrea]\\nroot        44  0.0  0.0      0     0 ?        S<   09:24   0:00 [kthrotld]\\nroot        45  0.0  0.0      0     0 ?        S<   09:24   0:00 [acpi_thermal_pm]\\nroot        46  0.0  0.0      0     0 ?        S    09:24   0:00 [scsi_eh_0]\\nroot        47  0.0  0.0      0     0 ?        S<   09:24   0:00 [scsi_tmf_0]\\nroot        48  0.0  0.0      0     0 ?        S    09:24   0:00 [scsi_eh_1]\\nroot        49  0.0  0.0      0     0 ?        S<   09:24   0:00 [scsi_tmf_1]\\nroot        54  0.0  0.0      0     0 ?        S<   09:24   0:00 [ipv6_addrconf]\\nroot        74  0.0  0.0      0     0 ?        S<   09:24   0:00 [deferwq]\\nroot        75  0.0  0.0      0     0 ?        S<   09:24   0:00 [charger_manager]\\nroot       114  0.0  0.0      0     0 ?        S<   09:24   0:00 [kpsmoused]\\nroot       115  0.0  0.0      0     0 ?        S    09:24   0:00 [scsi_eh_2]\\nroot       117  0.0  0.0      0     0 ?        S<   09:24   0:00 [scsi_tmf_2]\\nroot       118  0.0  0.0      0     0 ?        S<   09:24   0:00 [kworker/0:1H]\\nroot       144  0.0  0.0      0     0 ?        S    09:24   0:01 [jbd2/sda1-8]\\nroot       145  0.0  0.0      0     0 ?        S<   09:24   0:00 [ext4-rsv-conver]\\nroot       182  0.0  0.0      0     0 ?        S    09:24   0:00 [kauditd]\\nroot       203  0.0  0.1  32344  4212 ?        Ss   09:24   0:01 /lib/systemd/systemd-journald\\nroot       215  0.0  0.1  45568  4960 ?        Ss   09:24   0:00 /lib/systemd/systemd-udevd\\nsystemd+   309  0.0  0.0 102356  2800 ?        Ssl  09:24   0:00 /lib/systemd/systemd-timesyncd\\nroot       358  0.0  0.0      0     0 ?        S<   09:24   0:00 [iprt-VBoxWQueue]\\navahi      510  0.0  0.0  40192  3444 ?        Ss   09:24   0:00 avahi-daemon: running [tcloudost-VirtualBox.local]\\nroot       515  0.0  0.0  25180  2612 ?        Ss   09:24   0:00 /sbin/cgmanager -m name=systemd\\nmessage+   518  0.0  0.1  44236  5312 ?        Ss   09:24   0:03 /usr/bin/dbus-daemon --system --address=systemd: --nofork --nopidfile --systemd-activation\\navahi      524  0.0  0.0  40068   320 ?        S    09:24   0:00 avahi-daemon: chroot helper\\nroot       526  0.0  0.2 272356  8912 ?        Ssl  09:24   0:00 /usr/sbin/cups-browsed\\nwhoopsie   527  0.0  0.3 521236 14440 ?        Ssl  09:24   0:00 /usr/bin/whoopsie -f\\nroot       532  0.0  0.0  33124  3080 ?        Ss   09:24   0:00 /usr/sbin/cron -f\\nroot       533  0.0  0.3 381620 14640 ?        Ssl  09:24   0:00 /usr/sbin/NetworkManager --no-daemon\\nsyslog     537  0.0  0.0 256372  3688 ?        Ssl  09:25   0:00 /usr/sbin/rsyslogd -n\\nroot       542  0.0  0.0  28600  3200 ?        Ss   09:25   0:00 /lib/systemd/systemd-logind\\nroot       543  0.0  0.2 337240  8920 ?        Ssl  09:25   0:00 /usr/sbin/ModemManager\\nroot       556  0.0  0.2 287292  9068 ?        Ssl  09:25   0:01 /usr/lib/accountsservice/accounts-daemon\\nroot       616  0.0  0.2 285720  8432 ?        Ssl  09:25   0:00 /usr/lib/policykit-1/polkitd --no-debug\\nroot       620  0.0  0.0 247744  2116 ?        Sl   09:25   0:06 /usr/sbin/VBoxService\\nroot       639  0.0  0.1  69932  5960 ?        Ss   09:25   0:00 /usr/sbin/sshd -D\\nmysql      641  0.0  0.0   4476  1760 ?        Ss   09:25   0:00 /bin/sh /usr/bin/mysqld_safe\\nroot       763  0.0  0.1  39192  5168 ?        Ss   09:25   0:00 /sbin/wpa_supplicant -u -s -O /run/wpa_supplicant\\nmysql     1009  0.0  3.0 729280 125020 ?       Sl   09:25   0:13 /usr/sbin/mysqld --basedir=/usr --datadir=/var/lib/mysql --plugin-dir=/usr/lib/mysql/plugin --log-error=/var/log/mysql/error.log --pid-file=/var/run/mysqld/mysqld.pid --socket=/var/run/mysqld/mysqld.sock --port=3306\\npostgres  1013  0.0  0.5 293636 23972 ?        S    09:25   0:00 /usr/lib/postgresql/9.4/bin/postgres -D /var/lib/postgresql/9.4/main -c config_file=/etc/postgresql/9.4/main/postgresql.conf\\nnobody    1018  0.0  0.1  52288  4060 ?        S    09:25   0:00 /usr/sbin/dnsmasq --no-resolv --keep-in-foreground --no-hosts --bind-interfaces --pid-file=/run/sendsigs.omit.d/network-manager.dnsmasq.pid --listen-address=127.0.1.1 --conf-file=/var/run/NetworkManager/dnsmasq.conf --cache-size=0 --proxy-dnssec --enable-dbus=org.freedesktop.NetworkManager.dnsmasq --conf-dir=/etc/NetworkManager/dnsmasq.d\\nkernoops  1211  0.0  0.0  45276  2632 ?        Ss   09:25   0:00 /usr/sbin/kerneloops\\nroot      1360  0.0  0.1  73660  4980 ?        Ss   09:25   0:02 /usr/sbin/apache2 -k start\\nroot      1449  0.0  0.1 352416  6228 ?        SLsl 09:25   0:00 /usr/sbin/lightdm\\nroot      1460  7.0  2.5 333312 103596 tty7    Ss+  09:25  17:56 /usr/bin/X -core :0 -seat seat0 -auth /var/run/lightdm/root/:0 -nolisten tcp vt7 -novtswitch\\npostgres  1469  0.0  0.0 293636  3692 ?        Ss   09:25   0:00 postgres: checkpointer process                                                                                              \\npostgres  1470  0.0  0.1 293636  5300 ?        Ss   09:25   0:00 postgres: writer process                                                                                                    \\npostgres  1471  0.0  0.0 293636  3692 ?        Ss   09:25   0:00 postgres: wal writer process                                                                                                \\npostgres  1472  0.0  0.1 294032  6296 ?        Ss   09:25   0:00 postgres: autovacuum launcher process                                                                                       \\npostgres  1473  0.0  0.0 148780  3884 ?        Ss   09:25   0:00 postgres: stats collector process                                                                                           \\nroot      1480  0.0  0.0  20052  2148 tty1     Ss+  09:25   0:00 /sbin/agetty --noclear tty1 linux\\nroot      1540  0.0  0.1 230224  6232 ?        Sl   09:25   0:00 lightdm --session-child 12 19\\nrtkit     1590  0.0  0.0 178820  2936 ?        SNsl 09:25   0:00 /usr/lib/rtkit/rtkit-daemon\\nroot      1621  0.0  0.2 280088 10168 ?        Ssl  09:25   0:00 /usr/lib/upower/upowerd\\ncolord    1632  0.0  0.2 305144 10888 ?        Ssl  09:25   0:00 /usr/lib/colord/colord\\ntcloudo+  1655  0.0  0.1  45164  5200 ?        Ss   09:26   0:00 /lib/systemd/systemd --user\\ntcloudo+  1656  0.0  0.0  60968  1756 ?        S    09:26   0:00 (sd-pam)         \\ntcloudo+  1664  0.0  0.2 292392  9612 ?        Sl   09:26   0:00 /usr/bin/gnome-keyring-daemon --daemonize --login\\ntcloudo+  1666  0.0  0.1  45780  4532 ?        Ss   09:26   0:01 /sbin/upstart --user\\ntcloudo+  1743  0.0  0.0  49464  1360 ?        S    09:26   0:05 /usr/bin/VBoxClient --clipboard\\ntcloudo+  1749  0.0  0.0  49464  1388 ?        S    09:26   0:05 /usr/bin/VBoxClient --checkhostversion\\ntcloudo+  1756  0.0  0.0  49464  1348 ?        S    09:26   0:05 /usr/bin/VBoxClient --display\\ntcloudo+  1768  0.0  0.0  39016  1788 ?        S    09:26   0:00 dbus-launch --autolaunch=e51c7092bfbd4fb4ac8b04918ff33401 --binary-syntax --close-stderr\\ntcloudo+  1770  0.0  0.0  42860  3184 ?        Ss   09:26   0:00 /usr/bin/dbus-daemon --fork --print-pid 5 --print-address 7 --session\\ntcloudo+  1779  0.0  0.6 439336 27600 ?        Sl   09:26   0:03 /usr/lib/x86_64-linux-gnu/notify-osd\\ntcloudo+  1783  0.0  0.0  49464  1388 ?        S    09:26   0:04 /usr/bin/VBoxClient --seamless\\ntcloudo+  1790  0.0  0.0  49464  1392 ?        S    09:26   0:04 /usr/bin/VBoxClient --draganddrop\\ntcloudo+  1804  0.0  0.1 337956  5896 ?        Sl   09:26   0:00 /usr/lib/at-spi2-core/at-spi-bus-launcher\\ntcloudo+  1812  0.0  0.0  32296   256 ?        S    09:26   0:00 upstart-udev-bridge --daemon --user\\ntcloudo+  1820  0.0  0.0  42860  4012 ?        S    09:26   0:00 /usr/bin/dbus-daemon --config-file=/etc/at-spi2/accessibility.conf --nofork --print-address 3\\ntcloudo+  1825  0.0  0.1 206936  5416 ?        Sl   09:26   0:02 /usr/lib/at-spi2-core/at-spi2-registryd --use-gnome-session\\ntcloudo+  1835  0.0  0.1 271164  5448 ?        Sl   09:26   0:00 /usr/lib/gvfs/gvfsd\\ntcloudo+  1841  0.0  0.1 409032  7444 ?        Sl   09:26   0:00 /usr/lib/gvfs/gvfsd-fuse /run/user/1000/gvfs -f -o big_writes\\ntcloudo+  1842  0.0  0.1  43860  4448 ?        Ss   09:26   0:04 dbus-daemon --fork --session --address=unix:abstract=/tmp/dbus-ECXOvLHN4l\\ntcloudo+  1862  0.0  0.2  88176  9944 ?        Ss   09:26   0:00 /usr/lib/x86_64-linux-gnu/hud/window-stack-bridge\\ntcloudo+  1875  0.0  0.5 426996 21576 ?        Sl   09:26   0:02 /usr/bin/gnome-screensaver --no-daemon\\ntcloudo+  1893  0.0  0.6 512424 24776 ?        Sl   09:26   0:07 /usr/lib/x86_64-linux-gnu/bamf/bamfdaemon\\ntcloudo+  1915  0.0  0.1 623664  5968 ?        Sl   09:26   0:00 /usr/lib/gvfs/gvfsd\\ntcloudo+  1926  0.2  0.3 355360 13516 ?        Ssl  09:26   0:40 /usr/bin/ibus-daemon --daemonize --xim\\ntcloudo+  1935  0.0  0.0  32232  1708 ?        S    09:26   0:00 upstart-dbus-bridge --daemon --system --user --bus-name system\\ntcloudo+  1936  0.0  0.0  32360  1672 ?        S    09:26   0:01 upstart-dbus-bridge --daemon --session --user --bus-name session\\ntcloudo+  1937  0.0  0.0  40840  1876 ?        S    09:26   0:00 upstart-file-bridge --daemon --user\\ntcloudo+  1943  0.0  0.1 270504  6208 ?        Sl   09:26   0:00 /usr/lib/ibus/ibus-dconf\\ntcloudo+  1946  0.1  0.7 476368 31596 ?        Sl   09:26   0:15 /usr/lib/ibus/ibus-ui-gtk3\\ntcloudo+  1952  0.0  0.3 376796 15592 ?        Sl   09:26   0:00 /usr/lib/ibus/ibus-x11 --kill-daemon\\ntcloudo+  1962  0.0  1.1 715176 47056 ?        Ssl  09:26   0:14 /usr/lib/x86_64-linux-gnu/hud/hud-service\\ntcloudo+  1967  0.0  0.9 797488 37532 ?        Ssl  09:26   0:07 /usr/lib/unity-settings-daemon/unity-settings-daemon\\ntcloudo+  1976 10.8  6.1 1243100 247252 ?      Ssl  09:26  27:20 compiz\\ntcloudo+  1979  0.0  0.3 554600 14132 ?        Ssl  09:26   0:00 gnome-session --session=ubuntu\\ntcloudo+  1987  0.0  1.2 651112 49456 ?        Ssl  09:26   0:10 /usr/lib/unity/unity-panel-service\\ntcloudo+  1992  0.0  0.1 194768  6028 ?        Sl   09:26   0:10 /usr/lib/ibus/ibus-engine-simple\\ntcloudo+  1999  0.0  0.1 178628  4812 ?        Sl   09:26   0:00 /usr/lib/dconf/dconf-service\\ntcloudo+  2019  0.0  0.2 363548  9812 ?        Ssl  09:26   0:00 /usr/lib/x86_64-linux-gnu/indicator-messages/indicator-messages-service\\ntcloudo+  2020  0.0  0.1 337608  5480 ?        Ssl  09:26   0:00 /usr/lib/x86_64-linux-gnu/indicator-bluetooth/indicator-bluetooth-service\\ntcloudo+  2025  0.0  0.1 492492  8056 ?        Ssl  09:26   0:00 /usr/lib/x86_64-linux-gnu/indicator-power/indicator-power-service\\ntcloudo+  2028  0.0  0.4 775932 17888 ?        Ssl  09:26   0:00 /usr/lib/x86_64-linux-gnu/indicator-datetime/indicator-datetime-service\\ntcloudo+  2037  0.0  0.6 576476 27852 ?        Ssl  09:26   0:02 /usr/lib/x86_64-linux-gnu/indicator-keyboard/indicator-keyboard-service --use-gtk\\ntcloudo+  2041  0.0  0.3 475176 12784 ?        Ssl  09:26   0:00 /usr/lib/x86_64-linux-gnu/indicator-sound/indicator-sound-service\\ntcloudo+  2043  0.0  0.6 541692 24544 ?        Ssl  09:26   0:02 /usr/lib/x86_64-linux-gnu/indicator-printers/indicator-printers-service\\ntcloudo+  2051  0.0  0.2 631880  9280 ?        Ssl  09:26   0:00 /usr/lib/x86_64-linux-gnu/indicator-session/indicator-session-service\\ntcloudo+  2053  0.0  0.6 780804 24848 ?        Sl   09:26   0:00 /usr/lib/evolution/evolution-source-registry\\ntcloudo+  2059  0.0  0.2 395588 11812 ?        Ssl  09:26   0:00 /usr/lib/x86_64-linux-gnu/indicator-application/indicator-application-service\\ntcloudo+  2097  0.0  0.2 434344 11080 ?        S<l  09:26   0:00 /usr/bin/pulseaudio --start --log-target=syslog\\ntcloudo+  2118  0.2  1.3 1049500 56620 ?       Sl   09:26   0:41 nautilus -n\\ntcloudo+  2119  0.0  0.4 426128 19756 ?        Sl   09:26   0:01 /usr/lib/policykit-1-gnome/polkit-gnome-authentication-agent-1\\ntcloudo+  2124  0.0  0.5 573648 22948 ?        Sl   09:26   0:02 /usr/lib/unity-settings-daemon/unity-fallback-mount-helper\\ntcloudo+  2128  0.0  0.8 661980 35668 ?        Sl   09:26   0:02 nm-applet\\ntcloudo+  2138  0.0  0.1 289520  7732 ?        Sl   09:26   0:00 /usr/lib/gvfs/gvfs-udisks2-volume-monitor\\ntcloudo+  2141  0.0  1.5 859160 61008 ?        Sl   09:26   0:00 /usr/lib/evolution/evolution-calendar-factory\\nroot      2147  0.0  0.2 367508  8492 ?        Ssl  09:26   0:00 /usr/lib/udisks2/udisksd --no-debug\\ntcloudo+  2149  0.0  0.1  66292  6412 ?        S    09:26   0:00 /usr/lib/x86_64-linux-gnu/gconf/gconfd-2\\ntcloudo+  2160  0.0  0.2 403172  8724 ?        Sl   09:26   0:00 /usr/lib/gvfs/gvfs-afc-volume-monitor\\ntcloudo+  2166  0.0  0.1 275816  5764 ?        Sl   09:26   0:00 /usr/lib/gvfs/gvfs-gphoto2-volume-monitor\\ntcloudo+  2171  0.0  0.1 263620  5204 ?        Sl   09:26   0:00 /usr/lib/gvfs/gvfs-mtp-volume-monitor\\ntcloudo+  2184  0.0  0.1 349772  6476 ?        Sl   09:26   0:00 /usr/lib/gvfs/gvfsd-trash --spawner :1.6 /org/gtk/gvfs/exec_spaw/0\\ntcloudo+  2195  0.0  0.5 783656 21676 ?        Sl   09:26   0:00 /usr/lib/evolution/evolution-calendar-factory-subprocess --factory contacts --bus-name org.gnome.evolution.dataserver.Subprocess.Backend.Calendarx2141x2 --own-path /org/gnome/evolution/dataserver/Subprocess/Backend/Calendar/2141/2\\ntcloudo+  2205  0.0  0.3 768032 15016 ?        Sl   09:26   0:00 /usr/lib/evolution/evolution-calendar-factory-subprocess --factory local --bus-name org.gnome.evolution.dataserver.Subprocess.Backend.Calendarx2141x3 --own-path /org/gnome/evolution/dataserver/Subprocess/Backend/Calendar/2141/3\\ntcloudo+  2207  0.0  0.4 692320 18288 ?        Sl   09:26   0:00 /usr/lib/evolution/evolution-addressbook-factory\\ntcloudo+  2226  0.0  0.4 776080 17812 ?        Sl   09:26   0:00 /usr/lib/evolution/evolution-addressbook-factory-subprocess --factory local --bus-name org.gnome.evolution.dataserver.Subprocess.Backend.AddressBookx2207x2 --own-path /org/gnome/evolution/dataserver/Subprocess/Backend/AddressBook/2207/2\\ntcloudo+  2233  0.0  0.1 344896  5960 ?        Sl   09:26   0:00 /usr/lib/gvfs/gvfsd-burn --spawner :1.6 /org/gtk/gvfs/exec_spaw/1\\ntcloudo+  2268  0.0  0.1 190516  5888 ?        Sl   09:26   0:00 /usr/lib/gvfs/gvfsd-metadata\\ntcloudo+  2277  0.0  0.5 549196 22960 ?        Sl   09:26   0:02 telepathy-indicator\\ntcloudo+  2285  0.0  0.3 424892 12860 ?        Sl   09:26   0:00 /usr/lib/telepathy/mission-control-5\\ntcloudo+  2309  0.0  0.3 412844 15956 ?        Sl   09:27   0:05 zeitgeist-datahub\\ntcloudo+  2317  0.0  0.2 412480  9704 ?        Sl   09:27   0:00 /usr/bin/zeitgeist-daemon\\ntcloudo+  2325  0.0  0.5 327380 23544 ?        Sl   09:27   0:01 /usr/lib/x86_64-linux-gnu/zeitgeist-fts\\ntcloudo+  2408  0.0  0.6 594568 27496 ?        Sl   09:27   0:02 update-notifier\\ntcloudo+  2517  0.0  0.2 589296  9504 ?        Sl   09:28   0:00 /usr/lib/x86_64-linux-gnu/deja-dup/deja-dup-monitor\\nwww-data  2734  0.0  0.0  73660  3316 ?        S    09:30   0:00 /usr/sbin/apache2 -k start\\nwww-data  2735  0.0  0.1 362820  6120 ?        Sl   09:30   0:08 /usr/sbin/apache2 -k start\\nwww-data  2739  0.0  0.1 362820  6120 ?        Sl   09:30   0:08 /usr/sbin/apache2 -k start\\nroot      2818  0.0  0.1  90212  6796 ?        Ss   09:30   0:00 /usr/sbin/cupsd -l\\nlp        2821  0.0  0.1  74192  5400 ?        S    09:30   0:00 /usr/lib/cups/notifier/dbus dbus:// \\nlp        2823  0.0  0.1  74192  5300 ?        S    09:30   0:00 /usr/lib/cups/notifier/dbus dbus:// \\ntcloudo+  3037  9.5 14.4 1455808 585884 ?      Rl   09:32  23:21 /usr/lib/firefox/firefox\\ntcloudo+  3705  0.0  0.7 741616 29728 ?        Sl   09:41   0:01 /usr/lib/x86_64-linux-gnu/unity-scope-home/unity-scope-home\\nuuidd     3714  0.0  0.0  27592  1204 ?        Ss   09:41   0:00 /usr/sbin/uuidd --socket-activation\\ntcloudo+  3720  0.0  0.6 583328 25604 ?        Sl   09:41   0:02 /usr/bin/unity-scope-loader applications/applications.scope applications/scopes.scope commands.scope\\ntcloudo+  3722  0.0  0.3 710248 15312 ?        Sl   09:41   0:03 /usr/lib/x86_64-linux-gnu/unity-lens-files/unity-files-daemon\\ntcloudo+  3726  0.0  0.3 339340 13616 ?        Sl   09:41   0:01 /usr/lib/x86_64-linux-gnu/unity-lens-music/unity-music-daemon\\ntcloudo+  3777  0.0  0.5 714324 22412 ?        Sl   09:41   0:00 /usr/lib/gvfs/gvfsd-http --spawner :1.6 /org/gtk/gvfs/exec_spaw/2\\ntcloudo+ 10442  0.0  0.7 486348 30816 ?        Sl   11:19   0:02 /usr/lib/x86_64-linux-gnu/notify-osd\\ntcloudo+ 10760  0.0  0.9 647932 39092 ?        Sl   11:21   0:06 /usr/lib/gnome-terminal/gnome-terminal-server\\ntcloudo+ 10772  0.0  0.0  14852  1948 ?        S    11:21   0:00 gnome-pty-helper\\ntcloudo+ 10773  0.0  0.1  27544  6304 pts/0    Ss   11:21   0:00 bash\\ntcloudo+ 10939  0.5  1.6 1376396 65096 ?       Ssl  11:23   0:47 /opt/sublime_text/sublime_text\\ntcloudo+ 10953  0.0  1.0 240084 42732 ?        Sl   11:23   0:06 /opt/sublime_text/plugin_host 10939\\ntcloudo+ 11171  0.0  0.1  27552  6356 pts/16   Ss+  11:25   0:00 bash\\nroot     11376  0.0  0.2  23456 10208 ?        S    11:28   0:00 /sbin/dhclient -d -q -sf /usr/lib/NetworkManager/nm-dhcp-helper -pf /run/sendsigs.omit.d/network-manager.dhclient-enp0s3.pid -lf /var/lib/NetworkManager/dhclient-78397316-9f90-4857-932d-09ec5f9f7b42-enp0s3.lease -cf /var/lib/NetworkManager/dhclient-enp0s3.conf enp0s3\\nroot     15237  0.0  0.0      0     0 ?        S    12:20   0:00 [kworker/u2:1]\\nroot     15917  0.0  0.0      0     0 ?        S    12:31   0:00 [kworker/u2:2]\\ntcloudo+ 16212  0.2  1.1 343368 47072 pts/0    Sl+  12:35   0:11 /home/tcloudost/anaconda2/bin/python /home/tcloudost/anaconda2/bin/ipython notebook\\ntcloudo+ 16257  0.1  0.9 635544 38236 ?        Ssl  12:35   0:04 /home/tcloudost/anaconda2/bin/python -m ipykernel -f /run/user/1000/jupyter/kernel-e5b57e29-d0a7-4953-bc26-88463456cbb2.json\\ntcloudo+ 16320  0.2  1.2 692204 49308 ?        Sl   12:36   0:07 gedit /home/tcloudost/pythonexamples/batch21/python21/Untitled Document\\nroot     16381  0.0  0.0      0     0 ?        S    12:36   0:00 [kworker/0:0]\\nroot     18673  0.0  0.0      0     0 ?        S    13:14   0:00 [kworker/0:1]\\nroot     20025  0.0  0.0      0     0 ?        S    13:36   0:00 [kworker/u2:0]\\ntcloudo+ 20159  0.0  0.0  22676  2680 ?        R    13:38   0:00 ps -aux\\n']"
      ]
     },
     "execution_count": 80,
     "metadata": {},
     "output_type": "execute_result"
    }
   ],
   "source": [
    "ps.split('\\t')"
   ]
  },
  {
   "cell_type": "code",
   "execution_count": 81,
   "metadata": {
    "collapsed": false
   },
   "outputs": [
    {
     "data": {
      "text/plain": [
       "['USER',\n",
       " '',\n",
       " '',\n",
       " '',\n",
       " '',\n",
       " '',\n",
       " '',\n",
       " 'PID',\n",
       " '%CPU',\n",
       " '%MEM',\n",
       " '',\n",
       " '',\n",
       " '',\n",
       " 'VSZ',\n",
       " '',\n",
       " '',\n",
       " 'RSS',\n",
       " 'TTY',\n",
       " '',\n",
       " '',\n",
       " '',\n",
       " '',\n",
       " '',\n",
       " 'STAT',\n",
       " 'START',\n",
       " '',\n",
       " '',\n",
       " 'TIME',\n",
       " 'COMMAND\\nroot',\n",
       " '',\n",
       " '',\n",
       " '',\n",
       " '',\n",
       " '',\n",
       " '',\n",
       " '',\n",
       " '',\n",
       " '1',\n",
       " '',\n",
       " '0.0',\n",
       " '',\n",
       " '0.1',\n",
       " '119444',\n",
       " '',\n",
       " '5668',\n",
       " '?',\n",
       " '',\n",
       " '',\n",
       " '',\n",
       " '',\n",
       " '',\n",
       " '',\n",
       " '',\n",
       " 'Ss',\n",
       " '',\n",
       " '',\n",
       " '09:24',\n",
       " '',\n",
       " '',\n",
       " '0:03',\n",
       " '/sbin/init',\n",
       " 'splash\\nroot',\n",
       " '',\n",
       " '',\n",
       " '',\n",
       " '',\n",
       " '',\n",
       " '',\n",
       " '',\n",
       " '',\n",
       " '2',\n",
       " '',\n",
       " '0.0',\n",
       " '',\n",
       " '0.0',\n",
       " '',\n",
       " '',\n",
       " '',\n",
       " '',\n",
       " '',\n",
       " '0',\n",
       " '',\n",
       " '',\n",
       " '',\n",
       " '',\n",
       " '0',\n",
       " '?',\n",
       " '',\n",
       " '',\n",
       " '',\n",
       " '',\n",
       " '',\n",
       " '',\n",
       " '',\n",
       " 'S',\n",
       " '',\n",
       " '',\n",
       " '',\n",
       " '09:24',\n",
       " '',\n",
       " '',\n",
       " '0:00',\n",
       " '[kthreadd]\\nroot',\n",
       " '',\n",
       " '',\n",
       " '',\n",
       " '',\n",
       " '',\n",
       " '',\n",
       " '',\n",
       " '',\n",
       " '3',\n",
       " '',\n",
       " '0.0',\n",
       " '',\n",
       " '0.0',\n",
       " '',\n",
       " '',\n",
       " '',\n",
       " '',\n",
       " '',\n",
       " '0',\n",
       " '',\n",
       " '',\n",
       " '',\n",
       " '',\n",
       " '0',\n",
       " '?',\n",
       " '',\n",
       " '',\n",
       " '',\n",
       " '',\n",
       " '',\n",
       " '',\n",
       " '',\n",
       " 'S',\n",
       " '',\n",
       " '',\n",
       " '',\n",
       " '09:24',\n",
       " '',\n",
       " '',\n",
       " '0:00',\n",
       " '[ksoftirqd/0]\\nroot',\n",
       " '',\n",
       " '',\n",
       " '',\n",
       " '',\n",
       " '',\n",
       " '',\n",
       " '',\n",
       " '',\n",
       " '5',\n",
       " '',\n",
       " '0.0',\n",
       " '',\n",
       " '0.0',\n",
       " '',\n",
       " '',\n",
       " '',\n",
       " '',\n",
       " '',\n",
       " '0',\n",
       " '',\n",
       " '',\n",
       " '',\n",
       " '',\n",
       " '0',\n",
       " '?',\n",
       " '',\n",
       " '',\n",
       " '',\n",
       " '',\n",
       " '',\n",
       " '',\n",
       " '',\n",
       " 'S<',\n",
       " '',\n",
       " '',\n",
       " '09:24',\n",
       " '',\n",
       " '',\n",
       " '0:00',\n",
       " '[kworker/0:0H]\\nroot',\n",
       " '',\n",
       " '',\n",
       " '',\n",
       " '',\n",
       " '',\n",
       " '',\n",
       " '',\n",
       " '',\n",
       " '7',\n",
       " '',\n",
       " '0.0',\n",
       " '',\n",
       " '0.0',\n",
       " '',\n",
       " '',\n",
       " '',\n",
       " '',\n",
       " '',\n",
       " '0',\n",
       " '',\n",
       " '',\n",
       " '',\n",
       " '',\n",
       " '0',\n",
       " '?',\n",
       " '',\n",
       " '',\n",
       " '',\n",
       " '',\n",
       " '',\n",
       " '',\n",
       " '',\n",
       " 'S',\n",
       " '',\n",
       " '',\n",
       " '',\n",
       " '09:24',\n",
       " '',\n",
       " '',\n",
       " '0:02',\n",
       " '[rcu_sched]\\nroot',\n",
       " '',\n",
       " '',\n",
       " '',\n",
       " '',\n",
       " '',\n",
       " '',\n",
       " '',\n",
       " '',\n",
       " '8',\n",
       " '',\n",
       " '0.0',\n",
       " '',\n",
       " '0.0',\n",
       " '',\n",
       " '',\n",
       " '',\n",
       " '',\n",
       " '',\n",
       " '0',\n",
       " '',\n",
       " '',\n",
       " '',\n",
       " '',\n",
       " '0',\n",
       " '?',\n",
       " '',\n",
       " '',\n",
       " '',\n",
       " '',\n",
       " '',\n",
       " '',\n",
       " '',\n",
       " 'S',\n",
       " '',\n",
       " '',\n",
       " '',\n",
       " '09:24',\n",
       " '',\n",
       " '',\n",
       " '0:00',\n",
       " '[rcu_bh]\\nroot',\n",
       " '',\n",
       " '',\n",
       " '',\n",
       " '',\n",
       " '',\n",
       " '',\n",
       " '',\n",
       " '',\n",
       " '9',\n",
       " '',\n",
       " '0.0',\n",
       " '',\n",
       " '0.0',\n",
       " '',\n",
       " '',\n",
       " '',\n",
       " '',\n",
       " '',\n",
       " '0',\n",
       " '',\n",
       " '',\n",
       " '',\n",
       " '',\n",
       " '0',\n",
       " '?',\n",
       " '',\n",
       " '',\n",
       " '',\n",
       " '',\n",
       " '',\n",
       " '',\n",
       " '',\n",
       " 'S',\n",
       " '',\n",
       " '',\n",
       " '',\n",
       " '09:24',\n",
       " '',\n",
       " '',\n",
       " '0:02',\n",
       " '[rcuos/0]\\nroot',\n",
       " '',\n",
       " '',\n",
       " '',\n",
       " '',\n",
       " '',\n",
       " '',\n",
       " '',\n",
       " '10',\n",
       " '',\n",
       " '0.0',\n",
       " '',\n",
       " '0.0',\n",
       " '',\n",
       " '',\n",
       " '',\n",
       " '',\n",
       " '',\n",
       " '0',\n",
       " '',\n",
       " '',\n",
       " '',\n",
       " '',\n",
       " '0',\n",
       " '?',\n",
       " '',\n",
       " '',\n",
       " '',\n",
       " '',\n",
       " '',\n",
       " '',\n",
       " '',\n",
       " 'S',\n",
       " '',\n",
       " '',\n",
       " '',\n",
       " '09:24',\n",
       " '',\n",
       " '',\n",
       " '0:00',\n",
       " '[rcuob/0]\\nroot',\n",
       " '',\n",
       " '',\n",
       " '',\n",
       " '',\n",
       " '',\n",
       " '',\n",
       " '',\n",
       " '11',\n",
       " '',\n",
       " '0.0',\n",
       " '',\n",
       " '0.0',\n",
       " '',\n",
       " '',\n",
       " '',\n",
       " '',\n",
       " '',\n",
       " '0',\n",
       " '',\n",
       " '',\n",
       " '',\n",
       " '',\n",
       " '0',\n",
       " '?',\n",
       " '',\n",
       " '',\n",
       " '',\n",
       " '',\n",
       " '',\n",
       " '',\n",
       " '',\n",
       " 'S',\n",
       " '',\n",
       " '',\n",
       " '',\n",
       " '09:24',\n",
       " '',\n",
       " '',\n",
       " '0:00',\n",
       " '[migration/0]\\nroot',\n",
       " '',\n",
       " '',\n",
       " '',\n",
       " '',\n",
       " '',\n",
       " '',\n",
       " '',\n",
       " '12',\n",
       " '',\n",
       " '0.0',\n",
       " '',\n",
       " '0.0',\n",
       " '',\n",
       " '',\n",
       " '',\n",
       " '',\n",
       " '',\n",
       " '0',\n",
       " '',\n",
       " '',\n",
       " '',\n",
       " '',\n",
       " '0',\n",
       " '?',\n",
       " '',\n",
       " '',\n",
       " '',\n",
       " '',\n",
       " '',\n",
       " '',\n",
       " '',\n",
       " 'S',\n",
       " '',\n",
       " '',\n",
       " '',\n",
       " '09:24',\n",
       " '',\n",
       " '',\n",
       " '0:00',\n",
       " '[watchdog/0]\\nroot',\n",
       " '',\n",
       " '',\n",
       " '',\n",
       " '',\n",
       " '',\n",
       " '',\n",
       " '',\n",
       " '13',\n",
       " '',\n",
       " '0.0',\n",
       " '',\n",
       " '0.0',\n",
       " '',\n",
       " '',\n",
       " '',\n",
       " '',\n",
       " '',\n",
       " '0',\n",
       " '',\n",
       " '',\n",
       " '',\n",
       " '',\n",
       " '0',\n",
       " '?',\n",
       " '',\n",
       " '',\n",
       " '',\n",
       " '',\n",
       " '',\n",
       " '',\n",
       " '',\n",
       " 'S<',\n",
       " '',\n",
       " '',\n",
       " '09:24',\n",
       " '',\n",
       " '',\n",
       " '0:00',\n",
       " '[khelper]\\nroot',\n",
       " '',\n",
       " '',\n",
       " '',\n",
       " '',\n",
       " '',\n",
       " '',\n",
       " '',\n",
       " '14',\n",
       " '',\n",
       " '0.0',\n",
       " '',\n",
       " '0.0',\n",
       " '',\n",
       " '',\n",
       " '',\n",
       " '',\n",
       " '',\n",
       " '0',\n",
       " '',\n",
       " '',\n",
       " '',\n",
       " '',\n",
       " '0',\n",
       " '?',\n",
       " '',\n",
       " '',\n",
       " '',\n",
       " '',\n",
       " '',\n",
       " '',\n",
       " '',\n",
       " 'S',\n",
       " '',\n",
       " '',\n",
       " '',\n",
       " '09:24',\n",
       " '',\n",
       " '',\n",
       " '0:00',\n",
       " '[kdevtmpfs]\\nroot',\n",
       " '',\n",
       " '',\n",
       " '',\n",
       " '',\n",
       " '',\n",
       " '',\n",
       " '',\n",
       " '15',\n",
       " '',\n",
       " '0.0',\n",
       " '',\n",
       " '0.0',\n",
       " '',\n",
       " '',\n",
       " '',\n",
       " '',\n",
       " '',\n",
       " '0',\n",
       " '',\n",
       " '',\n",
       " '',\n",
       " '',\n",
       " '0',\n",
       " '?',\n",
       " '',\n",
       " '',\n",
       " '',\n",
       " '',\n",
       " '',\n",
       " '',\n",
       " '',\n",
       " 'S<',\n",
       " '',\n",
       " '',\n",
       " '09:24',\n",
       " '',\n",
       " '',\n",
       " '0:00',\n",
       " '[netns]\\nroot',\n",
       " '',\n",
       " '',\n",
       " '',\n",
       " '',\n",
       " '',\n",
       " '',\n",
       " '',\n",
       " '16',\n",
       " '',\n",
       " '0.0',\n",
       " '',\n",
       " '0.0',\n",
       " '',\n",
       " '',\n",
       " '',\n",
       " '',\n",
       " '',\n",
       " '0',\n",
       " '',\n",
       " '',\n",
       " '',\n",
       " '',\n",
       " '0',\n",
       " '?',\n",
       " '',\n",
       " '',\n",
       " '',\n",
       " '',\n",
       " '',\n",
       " '',\n",
       " '',\n",
       " 'S<',\n",
       " '',\n",
       " '',\n",
       " '09:24',\n",
       " '',\n",
       " '',\n",
       " '0:00',\n",
       " '[perf]\\nroot',\n",
       " '',\n",
       " '',\n",
       " '',\n",
       " '',\n",
       " '',\n",
       " '',\n",
       " '',\n",
       " '17',\n",
       " '',\n",
       " '0.0',\n",
       " '',\n",
       " '0.0',\n",
       " '',\n",
       " '',\n",
       " '',\n",
       " '',\n",
       " '',\n",
       " '0',\n",
       " '',\n",
       " '',\n",
       " '',\n",
       " '',\n",
       " '0',\n",
       " '?',\n",
       " '',\n",
       " '',\n",
       " '',\n",
       " '',\n",
       " '',\n",
       " '',\n",
       " '',\n",
       " 'S',\n",
       " '',\n",
       " '',\n",
       " '',\n",
       " '09:24',\n",
       " '',\n",
       " '',\n",
       " '0:00',\n",
       " '[khungtaskd]\\nroot',\n",
       " '',\n",
       " '',\n",
       " '',\n",
       " '',\n",
       " '',\n",
       " '',\n",
       " '',\n",
       " '18',\n",
       " '',\n",
       " '0.0',\n",
       " '',\n",
       " '0.0',\n",
       " '',\n",
       " '',\n",
       " '',\n",
       " '',\n",
       " '',\n",
       " '0',\n",
       " '',\n",
       " '',\n",
       " '',\n",
       " '',\n",
       " '0',\n",
       " '?',\n",
       " '',\n",
       " '',\n",
       " '',\n",
       " '',\n",
       " '',\n",
       " '',\n",
       " '',\n",
       " 'S<',\n",
       " '',\n",
       " '',\n",
       " '09:24',\n",
       " '',\n",
       " '',\n",
       " '0:00',\n",
       " '[writeback]\\nroot',\n",
       " '',\n",
       " '',\n",
       " '',\n",
       " '',\n",
       " '',\n",
       " '',\n",
       " '',\n",
       " '19',\n",
       " '',\n",
       " '0.0',\n",
       " '',\n",
       " '0.0',\n",
       " '',\n",
       " '',\n",
       " '',\n",
       " '',\n",
       " '',\n",
       " '0',\n",
       " '',\n",
       " '',\n",
       " '',\n",
       " '',\n",
       " '0',\n",
       " '?',\n",
       " '',\n",
       " '',\n",
       " '',\n",
       " '',\n",
       " '',\n",
       " '',\n",
       " '',\n",
       " 'SN',\n",
       " '',\n",
       " '',\n",
       " '09:24',\n",
       " '',\n",
       " '',\n",
       " '0:00',\n",
       " '[ksmd]\\nroot',\n",
       " '',\n",
       " '',\n",
       " '',\n",
       " '',\n",
       " '',\n",
       " '',\n",
       " '',\n",
       " '20',\n",
       " '',\n",
       " '0.0',\n",
       " '',\n",
       " '0.0',\n",
       " '',\n",
       " '',\n",
       " '',\n",
       " '',\n",
       " '',\n",
       " '0',\n",
       " '',\n",
       " '',\n",
       " '',\n",
       " '',\n",
       " '0',\n",
       " '?',\n",
       " '',\n",
       " '',\n",
       " '',\n",
       " '',\n",
       " '',\n",
       " '',\n",
       " '',\n",
       " 'SN',\n",
       " '',\n",
       " '',\n",
       " '09:24',\n",
       " '',\n",
       " '',\n",
       " '0:08',\n",
       " '[khugepaged]\\nroot',\n",
       " '',\n",
       " '',\n",
       " '',\n",
       " '',\n",
       " '',\n",
       " '',\n",
       " '',\n",
       " '21',\n",
       " '',\n",
       " '0.0',\n",
       " '',\n",
       " '0.0',\n",
       " '',\n",
       " '',\n",
       " '',\n",
       " '',\n",
       " '',\n",
       " '0',\n",
       " '',\n",
       " '',\n",
       " '',\n",
       " '',\n",
       " '0',\n",
       " '?',\n",
       " '',\n",
       " '',\n",
       " '',\n",
       " '',\n",
       " '',\n",
       " '',\n",
       " '',\n",
       " 'S<',\n",
       " '',\n",
       " '',\n",
       " '09:24',\n",
       " '',\n",
       " '',\n",
       " '0:00',\n",
       " '[crypto]\\nroot',\n",
       " '',\n",
       " '',\n",
       " '',\n",
       " '',\n",
       " '',\n",
       " '',\n",
       " '',\n",
       " '22',\n",
       " '',\n",
       " '0.0',\n",
       " '',\n",
       " '0.0',\n",
       " '',\n",
       " '',\n",
       " '',\n",
       " '',\n",
       " '',\n",
       " '0',\n",
       " '',\n",
       " '',\n",
       " '',\n",
       " '',\n",
       " '0',\n",
       " '?',\n",
       " '',\n",
       " '',\n",
       " '',\n",
       " '',\n",
       " '',\n",
       " '',\n",
       " '',\n",
       " 'S<',\n",
       " '',\n",
       " '',\n",
       " '09:24',\n",
       " '',\n",
       " '',\n",
       " '0:00',\n",
       " '[kintegrityd]\\nroot',\n",
       " '',\n",
       " '',\n",
       " '',\n",
       " '',\n",
       " '',\n",
       " '',\n",
       " '',\n",
       " '23',\n",
       " '',\n",
       " '0.0',\n",
       " '',\n",
       " '0.0',\n",
       " '',\n",
       " '',\n",
       " '',\n",
       " '',\n",
       " '',\n",
       " '0',\n",
       " '',\n",
       " '',\n",
       " '',\n",
       " '',\n",
       " '0',\n",
       " '?',\n",
       " '',\n",
       " '',\n",
       " '',\n",
       " '',\n",
       " '',\n",
       " '',\n",
       " '',\n",
       " 'S<',\n",
       " '',\n",
       " '',\n",
       " '09:24',\n",
       " '',\n",
       " '',\n",
       " '0:00',\n",
       " '[bioset]\\nroot',\n",
       " '',\n",
       " '',\n",
       " '',\n",
       " '',\n",
       " '',\n",
       " '',\n",
       " '',\n",
       " '24',\n",
       " '',\n",
       " '0.0',\n",
       " '',\n",
       " '0.0',\n",
       " '',\n",
       " '',\n",
       " '',\n",
       " '',\n",
       " '',\n",
       " '0',\n",
       " '',\n",
       " '',\n",
       " '',\n",
       " '',\n",
       " '0',\n",
       " '?',\n",
       " '',\n",
       " '',\n",
       " '',\n",
       " '',\n",
       " '',\n",
       " '',\n",
       " '',\n",
       " 'S<',\n",
       " '',\n",
       " '',\n",
       " '09:24',\n",
       " '',\n",
       " '',\n",
       " '0:00',\n",
       " '[kblockd]\\nroot',\n",
       " '',\n",
       " '',\n",
       " '',\n",
       " '',\n",
       " '',\n",
       " '',\n",
       " '',\n",
       " '25',\n",
       " '',\n",
       " '0.0',\n",
       " '',\n",
       " '0.0',\n",
       " '',\n",
       " '',\n",
       " '',\n",
       " '',\n",
       " '',\n",
       " '0',\n",
       " '',\n",
       " '',\n",
       " '',\n",
       " '',\n",
       " '0',\n",
       " '?',\n",
       " '',\n",
       " '',\n",
       " '',\n",
       " '',\n",
       " '',\n",
       " '',\n",
       " '',\n",
       " 'S<',\n",
       " '',\n",
       " '',\n",
       " '09:24',\n",
       " '',\n",
       " '',\n",
       " '0:00',\n",
       " '[ata_sff]\\nroot',\n",
       " '',\n",
       " '',\n",
       " '',\n",
       " '',\n",
       " '',\n",
       " '',\n",
       " '',\n",
       " '26',\n",
       " '',\n",
       " '0.0',\n",
       " '',\n",
       " '0.0',\n",
       " '',\n",
       " '',\n",
       " '',\n",
       " '',\n",
       " '',\n",
       " '0',\n",
       " '',\n",
       " '',\n",
       " '',\n",
       " '',\n",
       " '0',\n",
       " '?',\n",
       " '',\n",
       " '',\n",
       " '',\n",
       " '',\n",
       " '',\n",
       " '',\n",
       " '',\n",
       " 'S<',\n",
       " '',\n",
       " '',\n",
       " '09:24',\n",
       " '',\n",
       " '',\n",
       " '0:00',\n",
       " '[md]\\nroot',\n",
       " '',\n",
       " '',\n",
       " '',\n",
       " '',\n",
       " '',\n",
       " '',\n",
       " '',\n",
       " '27',\n",
       " '',\n",
       " '0.0',\n",
       " '',\n",
       " '0.0',\n",
       " '',\n",
       " '',\n",
       " '',\n",
       " '',\n",
       " '',\n",
       " '0',\n",
       " '',\n",
       " '',\n",
       " '',\n",
       " '',\n",
       " '0',\n",
       " '?',\n",
       " '',\n",
       " ...]"
      ]
     },
     "execution_count": 81,
     "metadata": {},
     "output_type": "execute_result"
    }
   ],
   "source": [
    "ps.split(' ')"
   ]
  },
  {
   "cell_type": "code",
   "execution_count": 82,
   "metadata": {
    "collapsed": false
   },
   "outputs": [
    {
     "data": {
      "text/plain": [
       "'USER       PID %CPU %MEM    VSZ   RSS TTY      STAT START   TIME COMMAND\\nroot         1  0.0  0.1 119444  5668 ?        Ss   09:24   0:03 /sbin/init splash\\nroot         2  0.0  0.0      0     0 ?        S    09:24   0:00 [kthreadd]\\nroot         3  0.0  0.0      0     0 ?        S    09:24   0:00 [ksoftirqd/0]\\nroot         5  0.0  0.0      0     0 ?        S<   09:24   0:00 [kworker/0:0H]\\nroot         7  0.0  0.0      0     0 ?        S    09:24   0:02 [rcu_sched]\\nroot         8  0.0  0.0      0     0 ?        S    09:24   0:00 [rcu_bh]\\nroot         9  0.0  0.0      0     0 ?        S    09:24   0:02 [rcuos/0]\\nroot        10  0.0  0.0      0     0 ?        S    09:24   0:00 [rcuob/0]\\nroot        11  0.0  0.0      0     0 ?        S    09:24   0:00 [migration/0]\\nroot        12  0.0  0.0      0     0 ?        S    09:24   0:00 [watchdog/0]\\nroot        13  0.0  0.0      0     0 ?        S<   09:24   0:00 [khelper]\\nroot        14  0.0  0.0      0     0 ?        S    09:24   0:00 [kdevtmpfs]\\nroot        15  0.0  0.0      0     0 ?        S<   09:24   0:00 [netns]\\nroot        16  0.0  0.0      0     0 ?        S<   09:24   0:00 [perf]\\nroot        17  0.0  0.0      0     0 ?        S    09:24   0:00 [khungtaskd]\\nroot        18  0.0  0.0      0     0 ?        S<   09:24   0:00 [writeback]\\nroot        19  0.0  0.0      0     0 ?        SN   09:24   0:00 [ksmd]\\nroot        20  0.0  0.0      0     0 ?        SN   09:24   0:08 [khugepaged]\\nroot        21  0.0  0.0      0     0 ?        S<   09:24   0:00 [crypto]\\nroot        22  0.0  0.0      0     0 ?        S<   09:24   0:00 [kintegrityd]\\nroot        23  0.0  0.0      0     0 ?        S<   09:24   0:00 [bioset]\\nroot        24  0.0  0.0      0     0 ?        S<   09:24   0:00 [kblockd]\\nroot        25  0.0  0.0      0     0 ?        S<   09:24   0:00 [ata_sff]\\nroot        26  0.0  0.0      0     0 ?        S<   09:24   0:00 [md]\\nroot        27  0.0  0.0      0     0 ?        S<   09:24   0:00 [devfreq_wq]\\nroot        30  0.0  0.0      0     0 ?        S    09:24   0:00 [kswapd0]\\nroot        31  0.0  0.0      0     0 ?        S<   09:24   0:00 [vmstat]\\nroot        32  0.0  0.0      0     0 ?        S    09:24   0:00 [fsnotify_mark]\\nroot        33  0.0  0.0      0     0 ?        S    09:24   0:00 [ecryptfs-kthrea]\\nroot        44  0.0  0.0      0     0 ?        S<   09:24   0:00 [kthrotld]\\nroot        45  0.0  0.0      0     0 ?        S<   09:24   0:00 [acpi_thermal_pm]\\nroot        46  0.0  0.0      0     0 ?        S    09:24   0:00 [scsi_eh_0]\\nroot        47  0.0  0.0      0     0 ?        S<   09:24   0:00 [scsi_tmf_0]\\nroot        48  0.0  0.0      0     0 ?        S    09:24   0:00 [scsi_eh_1]\\nroot        49  0.0  0.0      0     0 ?        S<   09:24   0:00 [scsi_tmf_1]\\nroot        54  0.0  0.0      0     0 ?        S<   09:24   0:00 [ipv6_addrconf]\\nroot        74  0.0  0.0      0     0 ?        S<   09:24   0:00 [deferwq]\\nroot        75  0.0  0.0      0     0 ?        S<   09:24   0:00 [charger_manager]\\nroot       114  0.0  0.0      0     0 ?        S<   09:24   0:00 [kpsmoused]\\nroot       115  0.0  0.0      0     0 ?        S    09:24   0:00 [scsi_eh_2]\\nroot       117  0.0  0.0      0     0 ?        S<   09:24   0:00 [scsi_tmf_2]\\nroot       118  0.0  0.0      0     0 ?        S<   09:24   0:00 [kworker/0:1H]\\nroot       144  0.0  0.0      0     0 ?        S    09:24   0:01 [jbd2/sda1-8]\\nroot       145  0.0  0.0      0     0 ?        S<   09:24   0:00 [ext4-rsv-conver]\\nroot       182  0.0  0.0      0     0 ?        S    09:24   0:00 [kauditd]\\nroot       203  0.0  0.1  32344  4212 ?        Ss   09:24   0:01 /lib/systemd/systemd-journald\\nroot       215  0.0  0.1  45568  4960 ?        Ss   09:24   0:00 /lib/systemd/systemd-udevd\\nsystemd+   309  0.0  0.0 102356  2800 ?        Ssl  09:24   0:00 /lib/systemd/systemd-timesyncd\\nroot       358  0.0  0.0      0     0 ?        S<   09:24   0:00 [iprt-VBoxWQueue]\\navahi      510  0.0  0.0  40192  3444 ?        Ss   09:24   0:00 avahi-daemon: running [tcloudost-VirtualBox.local]\\nroot       515  0.0  0.0  25180  2612 ?        Ss   09:24   0:00 /sbin/cgmanager -m name=systemd\\nmessage+   518  0.0  0.1  44236  5312 ?        Ss   09:24   0:03 /usr/bin/dbus-daemon --system --address=systemd: --nofork --nopidfile --systemd-activation\\navahi      524  0.0  0.0  40068   320 ?        S    09:24   0:00 avahi-daemon: chroot helper\\nroot       526  0.0  0.2 272356  8912 ?        Ssl  09:24   0:00 /usr/sbin/cups-browsed\\nwhoopsie   527  0.0  0.3 521236 14440 ?        Ssl  09:24   0:00 /usr/bin/whoopsie -f\\nroot       532  0.0  0.0  33124  3080 ?        Ss   09:24   0:00 /usr/sbin/cron -f\\nroot       533  0.0  0.3 381620 14640 ?        Ssl  09:24   0:00 /usr/sbin/NetworkManager --no-daemon\\nsyslog     537  0.0  0.0 256372  3688 ?        Ssl  09:25   0:00 /usr/sbin/rsyslogd -n\\nroot       542  0.0  0.0  28600  3200 ?        Ss   09:25   0:00 /lib/systemd/systemd-logind\\nroot       543  0.0  0.2 337240  8920 ?        Ssl  09:25   0:00 /usr/sbin/ModemManager\\nroot       556  0.0  0.2 287292  9068 ?        Ssl  09:25   0:01 /usr/lib/accountsservice/accounts-daemon\\nroot       616  0.0  0.2 285720  8432 ?        Ssl  09:25   0:00 /usr/lib/policykit-1/polkitd --no-debug\\nroot       620  0.0  0.0 247744  2116 ?        Sl   09:25   0:06 /usr/sbin/VBoxService\\nroot       639  0.0  0.1  69932  5960 ?        Ss   09:25   0:00 /usr/sbin/sshd -D\\nmysql      641  0.0  0.0   4476  1760 ?        Ss   09:25   0:00 /bin/sh /usr/bin/mysqld_safe\\nroot       763  0.0  0.1  39192  5168 ?        Ss   09:25   0:00 /sbin/wpa_supplicant -u -s -O /run/wpa_supplicant\\nmysql     1009  0.0  3.0 729280 125020 ?       Sl   09:25   0:13 /usr/sbin/mysqld --basedir=/usr --datadir=/var/lib/mysql --plugin-dir=/usr/lib/mysql/plugin --log-error=/var/log/mysql/error.log --pid-file=/var/run/mysqld/mysqld.pid --socket=/var/run/mysqld/mysqld.sock --port=3306\\npostgres  1013  0.0  0.5 293636 23972 ?        S    09:25   0:00 /usr/lib/postgresql/9.4/bin/postgres -D /var/lib/postgresql/9.4/main -c config_file=/etc/postgresql/9.4/main/postgresql.conf\\nnobody    1018  0.0  0.1  52288  4060 ?        S    09:25   0:00 /usr/sbin/dnsmasq --no-resolv --keep-in-foreground --no-hosts --bind-interfaces --pid-file=/run/sendsigs.omit.d/network-manager.dnsmasq.pid --listen-address=127.0.1.1 --conf-file=/var/run/NetworkManager/dnsmasq.conf --cache-size=0 --proxy-dnssec --enable-dbus=org.freedesktop.NetworkManager.dnsmasq --conf-dir=/etc/NetworkManager/dnsmasq.d\\nkernoops  1211  0.0  0.0  45276  2632 ?        Ss   09:25   0:00 /usr/sbin/kerneloops\\nroot      1360  0.0  0.1  73660  4980 ?        Ss   09:25   0:02 /usr/sbin/apache2 -k start\\nroot      1449  0.0  0.1 352416  6228 ?        SLsl 09:25   0:00 /usr/sbin/lightdm\\nroot      1460  7.0  2.5 333312 103596 tty7    Ss+  09:25  17:56 /usr/bin/X -core :0 -seat seat0 -auth /var/run/lightdm/root/:0 -nolisten tcp vt7 -novtswitch\\npostgres  1469  0.0  0.0 293636  3692 ?        Ss   09:25   0:00 postgres: checkpointer process                                                                                              \\npostgres  1470  0.0  0.1 293636  5300 ?        Ss   09:25   0:00 postgres: writer process                                                                                                    \\npostgres  1471  0.0  0.0 293636  3692 ?        Ss   09:25   0:00 postgres: wal writer process                                                                                                \\npostgres  1472  0.0  0.1 294032  6296 ?        Ss   09:25   0:00 postgres: autovacuum launcher process                                                                                       \\npostgres  1473  0.0  0.0 148780  3884 ?        Ss   09:25   0:00 postgres: stats collector process                                                                                           \\nroot      1480  0.0  0.0  20052  2148 tty1     Ss+  09:25   0:00 /sbin/agetty --noclear tty1 linux\\nroot      1540  0.0  0.1 230224  6232 ?        Sl   09:25   0:00 lightdm --session-child 12 19\\nrtkit     1590  0.0  0.0 178820  2936 ?        SNsl 09:25   0:00 /usr/lib/rtkit/rtkit-daemon\\nroot      1621  0.0  0.2 280088 10168 ?        Ssl  09:25   0:00 /usr/lib/upower/upowerd\\ncolord    1632  0.0  0.2 305144 10888 ?        Ssl  09:25   0:00 /usr/lib/colord/colord\\ntcloudo+  1655  0.0  0.1  45164  5200 ?        Ss   09:26   0:00 /lib/systemd/systemd --user\\ntcloudo+  1656  0.0  0.0  60968  1756 ?        S    09:26   0:00 (sd-pam)         \\ntcloudo+  1664  0.0  0.2 292392  9612 ?        Sl   09:26   0:00 /usr/bin/gnome-keyring-daemon --daemonize --login\\ntcloudo+  1666  0.0  0.1  45780  4532 ?        Ss   09:26   0:01 /sbin/upstart --user\\ntcloudo+  1743  0.0  0.0  49464  1360 ?        S    09:26   0:05 /usr/bin/VBoxClient --clipboard\\ntcloudo+  1749  0.0  0.0  49464  1388 ?        S    09:26   0:05 /usr/bin/VBoxClient --checkhostversion\\ntcloudo+  1756  0.0  0.0  49464  1348 ?        S    09:26   0:05 /usr/bin/VBoxClient --display\\ntcloudo+  1768  0.0  0.0  39016  1788 ?        S    09:26   0:00 dbus-launch --autolaunch=e51c7092bfbd4fb4ac8b04918ff33401 --binary-syntax --close-stderr\\ntcloudo+  1770  0.0  0.0  42860  3184 ?        Ss   09:26   0:00 /usr/bin/dbus-daemon --fork --print-pid 5 --print-address 7 --session\\ntcloudo+  1779  0.0  0.6 439336 27600 ?        Sl   09:26   0:03 /usr/lib/x86_64-linux-gnu/notify-osd\\ntcloudo+  1783  0.0  0.0  49464  1388 ?        S    09:26   0:04 /usr/bin/VBoxClient --seamless\\ntcloudo+  1790  0.0  0.0  49464  1392 ?        S    09:26   0:04 /usr/bin/VBoxClient --draganddrop\\ntcloudo+  1804  0.0  0.1 337956  5896 ?        Sl   09:26   0:00 /usr/lib/at-spi2-core/at-spi-bus-launcher\\ntcloudo+  1812  0.0  0.0  32296   256 ?        S    09:26   0:00 upstart-udev-bridge --daemon --user\\ntcloudo+  1820  0.0  0.0  42860  4012 ?        S    09:26   0:00 /usr/bin/dbus-daemon --config-file=/etc/at-spi2/accessibility.conf --nofork --print-address 3\\ntcloudo+  1825  0.0  0.1 206936  5416 ?        Sl   09:26   0:02 /usr/lib/at-spi2-core/at-spi2-registryd --use-gnome-session\\ntcloudo+  1835  0.0  0.1 271164  5448 ?        Sl   09:26   0:00 /usr/lib/gvfs/gvfsd\\ntcloudo+  1841  0.0  0.1 409032  7444 ?        Sl   09:26   0:00 /usr/lib/gvfs/gvfsd-fuse /run/user/1000/gvfs -f -o big_writes\\ntcloudo+  1842  0.0  0.1  43860  4448 ?        Ss   09:26   0:04 dbus-daemon --fork --session --address=unix:abstract=/tmp/dbus-ECXOvLHN4l\\ntcloudo+  1862  0.0  0.2  88176  9944 ?        Ss   09:26   0:00 /usr/lib/x86_64-linux-gnu/hud/window-stack-bridge\\ntcloudo+  1875  0.0  0.5 426996 21576 ?        Sl   09:26   0:02 /usr/bin/gnome-screensaver --no-daemon\\ntcloudo+  1893  0.0  0.6 512424 24776 ?        Sl   09:26   0:07 /usr/lib/x86_64-linux-gnu/bamf/bamfdaemon\\ntcloudo+  1915  0.0  0.1 623664  5968 ?        Sl   09:26   0:00 /usr/lib/gvfs/gvfsd\\ntcloudo+  1926  0.2  0.3 355360 13516 ?        Ssl  09:26   0:40 /usr/bin/ibus-daemon --daemonize --xim\\ntcloudo+  1935  0.0  0.0  32232  1708 ?        S    09:26   0:00 upstart-dbus-bridge --daemon --system --user --bus-name system\\ntcloudo+  1936  0.0  0.0  32360  1672 ?        S    09:26   0:01 upstart-dbus-bridge --daemon --session --user --bus-name session\\ntcloudo+  1937  0.0  0.0  40840  1876 ?        S    09:26   0:00 upstart-file-bridge --daemon --user\\ntcloudo+  1943  0.0  0.1 270504  6208 ?        Sl   09:26   0:00 /usr/lib/ibus/ibus-dconf\\ntcloudo+  1946  0.1  0.7 476368 31596 ?        Sl   09:26   0:15 /usr/lib/ibus/ibus-ui-gtk3\\ntcloudo+  1952  0.0  0.3 376796 15592 ?        Sl   09:26   0:00 /usr/lib/ibus/ibus-x11 --kill-daemon\\ntcloudo+  1962  0.0  1.1 715176 47056 ?        Ssl  09:26   0:14 /usr/lib/x86_64-linux-gnu/hud/hud-service\\ntcloudo+  1967  0.0  0.9 797488 37532 ?        Ssl  09:26   0:07 /usr/lib/unity-settings-daemon/unity-settings-daemon\\ntcloudo+  1976 10.8  6.1 1243100 247252 ?      Ssl  09:26  27:20 compiz\\ntcloudo+  1979  0.0  0.3 554600 14132 ?        Ssl  09:26   0:00 gnome-session --session=ubuntu\\ntcloudo+  1987  0.0  1.2 651112 49456 ?        Ssl  09:26   0:10 /usr/lib/unity/unity-panel-service\\ntcloudo+  1992  0.0  0.1 194768  6028 ?        Sl   09:26   0:10 /usr/lib/ibus/ibus-engine-simple\\ntcloudo+  1999  0.0  0.1 178628  4812 ?        Sl   09:26   0:00 /usr/lib/dconf/dconf-service\\ntcloudo+  2019  0.0  0.2 363548  9812 ?        Ssl  09:26   0:00 /usr/lib/x86_64-linux-gnu/indicator-messages/indicator-messages-service\\ntcloudo+  2020  0.0  0.1 337608  5480 ?        Ssl  09:26   0:00 /usr/lib/x86_64-linux-gnu/indicator-bluetooth/indicator-bluetooth-service\\ntcloudo+  2025  0.0  0.1 492492  8056 ?        Ssl  09:26   0:00 /usr/lib/x86_64-linux-gnu/indicator-power/indicator-power-service\\ntcloudo+  2028  0.0  0.4 775932 17888 ?        Ssl  09:26   0:00 /usr/lib/x86_64-linux-gnu/indicator-datetime/indicator-datetime-service\\ntcloudo+  2037  0.0  0.6 576476 27852 ?        Ssl  09:26   0:02 /usr/lib/x86_64-linux-gnu/indicator-keyboard/indicator-keyboard-service --use-gtk\\ntcloudo+  2041  0.0  0.3 475176 12784 ?        Ssl  09:26   0:00 /usr/lib/x86_64-linux-gnu/indicator-sound/indicator-sound-service\\ntcloudo+  2043  0.0  0.6 541692 24544 ?        Ssl  09:26   0:02 /usr/lib/x86_64-linux-gnu/indicator-printers/indicator-printers-service\\ntcloudo+  2051  0.0  0.2 631880  9280 ?        Ssl  09:26   0:00 /usr/lib/x86_64-linux-gnu/indicator-session/indicator-session-service\\ntcloudo+  2053  0.0  0.6 780804 24848 ?        Sl   09:26   0:00 /usr/lib/evolution/evolution-source-registry\\ntcloudo+  2059  0.0  0.2 395588 11812 ?        Ssl  09:26   0:00 /usr/lib/x86_64-linux-gnu/indicator-application/indicator-application-service\\ntcloudo+  2097  0.0  0.2 434344 11080 ?        S<l  09:26   0:00 /usr/bin/pulseaudio --start --log-target=syslog\\ntcloudo+  2118  0.2  1.3 1049500 56620 ?       Sl   09:26   0:41 nautilus -n\\ntcloudo+  2119  0.0  0.4 426128 19756 ?        Sl   09:26   0:01 /usr/lib/policykit-1-gnome/polkit-gnome-authentication-agent-1\\ntcloudo+  2124  0.0  0.5 573648 22948 ?        Sl   09:26   0:02 /usr/lib/unity-settings-daemon/unity-fallback-mount-helper\\ntcloudo+  2128  0.0  0.8 661980 35668 ?        Sl   09:26   0:02 nm-applet\\ntcloudo+  2138  0.0  0.1 289520  7732 ?        Sl   09:26   0:00 /usr/lib/gvfs/gvfs-udisks2-volume-monitor\\ntcloudo+  2141  0.0  1.5 859160 61008 ?        Sl   09:26   0:00 /usr/lib/evolution/evolution-calendar-factory\\nroot      2147  0.0  0.2 367508  8492 ?        Ssl  09:26   0:00 /usr/lib/udisks2/udisksd --no-debug\\ntcloudo+  2149  0.0  0.1  66292  6412 ?        S    09:26   0:00 /usr/lib/x86_64-linux-gnu/gconf/gconfd-2\\ntcloudo+  2160  0.0  0.2 403172  8724 ?        Sl   09:26   0:00 /usr/lib/gvfs/gvfs-afc-volume-monitor\\ntcloudo+  2166  0.0  0.1 275816  5764 ?        Sl   09:26   0:00 /usr/lib/gvfs/gvfs-gphoto2-volume-monitor\\ntcloudo+  2171  0.0  0.1 263620  5204 ?        Sl   09:26   0:00 /usr/lib/gvfs/gvfs-mtp-volume-monitor\\ntcloudo+  2184  0.0  0.1 349772  6476 ?        Sl   09:26   0:00 /usr/lib/gvfs/gvfsd-trash --spawner :1.6 /org/gtk/gvfs/exec_spaw/0\\ntcloudo+  2195  0.0  0.5 783656 21676 ?        Sl   09:26   0:00 /usr/lib/evolution/evolution-calendar-factory-subprocess --factory contacts --bus-name org.gnome.evolution.dataserver.Subprocess.Backend.Calendarx2141x2 --own-path /org/gnome/evolution/dataserver/Subprocess/Backend/Calendar/2141/2\\ntcloudo+  2205  0.0  0.3 768032 15016 ?        Sl   09:26   0:00 /usr/lib/evolution/evolution-calendar-factory-subprocess --factory local --bus-name org.gnome.evolution.dataserver.Subprocess.Backend.Calendarx2141x3 --own-path /org/gnome/evolution/dataserver/Subprocess/Backend/Calendar/2141/3\\ntcloudo+  2207  0.0  0.4 692320 18288 ?        Sl   09:26   0:00 /usr/lib/evolution/evolution-addressbook-factory\\ntcloudo+  2226  0.0  0.4 776080 17812 ?        Sl   09:26   0:00 /usr/lib/evolution/evolution-addressbook-factory-subprocess --factory local --bus-name org.gnome.evolution.dataserver.Subprocess.Backend.AddressBookx2207x2 --own-path /org/gnome/evolution/dataserver/Subprocess/Backend/AddressBook/2207/2\\ntcloudo+  2233  0.0  0.1 344896  5960 ?        Sl   09:26   0:00 /usr/lib/gvfs/gvfsd-burn --spawner :1.6 /org/gtk/gvfs/exec_spaw/1\\ntcloudo+  2268  0.0  0.1 190516  5888 ?        Sl   09:26   0:00 /usr/lib/gvfs/gvfsd-metadata\\ntcloudo+  2277  0.0  0.5 549196 22960 ?        Sl   09:26   0:02 telepathy-indicator\\ntcloudo+  2285  0.0  0.3 424892 12860 ?        Sl   09:26   0:00 /usr/lib/telepathy/mission-control-5\\ntcloudo+  2309  0.0  0.3 412844 15956 ?        Sl   09:27   0:05 zeitgeist-datahub\\ntcloudo+  2317  0.0  0.2 412480  9704 ?        Sl   09:27   0:00 /usr/bin/zeitgeist-daemon\\ntcloudo+  2325  0.0  0.5 327380 23544 ?        Sl   09:27   0:01 /usr/lib/x86_64-linux-gnu/zeitgeist-fts\\ntcloudo+  2408  0.0  0.6 594568 27496 ?        Sl   09:27   0:02 update-notifier\\ntcloudo+  2517  0.0  0.2 589296  9504 ?        Sl   09:28   0:00 /usr/lib/x86_64-linux-gnu/deja-dup/deja-dup-monitor\\nwww-data  2734  0.0  0.0  73660  3316 ?        S    09:30   0:00 /usr/sbin/apache2 -k start\\nwww-data  2735  0.0  0.1 362820  6120 ?        Sl   09:30   0:08 /usr/sbin/apache2 -k start\\nwww-data  2739  0.0  0.1 362820  6120 ?        Sl   09:30   0:08 /usr/sbin/apache2 -k start\\nroot      2818  0.0  0.1  90212  6796 ?        Ss   09:30   0:00 /usr/sbin/cupsd -l\\nlp        2821  0.0  0.1  74192  5400 ?        S    09:30   0:00 /usr/lib/cups/notifier/dbus dbus:// \\nlp        2823  0.0  0.1  74192  5300 ?        S    09:30   0:00 /usr/lib/cups/notifier/dbus dbus:// \\ntcloudo+  3037  9.5 14.4 1455808 585884 ?      Rl   09:32  23:21 /usr/lib/firefox/firefox\\ntcloudo+  3705  0.0  0.7 741616 29728 ?        Sl   09:41   0:01 /usr/lib/x86_64-linux-gnu/unity-scope-home/unity-scope-home\\nuuidd     3714  0.0  0.0  27592  1204 ?        Ss   09:41   0:00 /usr/sbin/uuidd --socket-activation\\ntcloudo+  3720  0.0  0.6 583328 25604 ?        Sl   09:41   0:02 /usr/bin/unity-scope-loader applications/applications.scope applications/scopes.scope commands.scope\\ntcloudo+  3722  0.0  0.3 710248 15312 ?        Sl   09:41   0:03 /usr/lib/x86_64-linux-gnu/unity-lens-files/unity-files-daemon\\ntcloudo+  3726  0.0  0.3 339340 13616 ?        Sl   09:41   0:01 /usr/lib/x86_64-linux-gnu/unity-lens-music/unity-music-daemon\\ntcloudo+  3777  0.0  0.5 714324 22412 ?        Sl   09:41   0:00 /usr/lib/gvfs/gvfsd-http --spawner :1.6 /org/gtk/gvfs/exec_spaw/2\\ntcloudo+ 10442  0.0  0.7 486348 30816 ?        Sl   11:19   0:02 /usr/lib/x86_64-linux-gnu/notify-osd\\ntcloudo+ 10760  0.0  0.9 647932 39092 ?        Sl   11:21   0:06 /usr/lib/gnome-terminal/gnome-terminal-server\\ntcloudo+ 10772  0.0  0.0  14852  1948 ?        S    11:21   0:00 gnome-pty-helper\\ntcloudo+ 10773  0.0  0.1  27544  6304 pts/0    Ss   11:21   0:00 bash\\ntcloudo+ 10939  0.5  1.6 1376396 65096 ?       Ssl  11:23   0:47 /opt/sublime_text/sublime_text\\ntcloudo+ 10953  0.0  1.0 240084 42732 ?        Sl   11:23   0:06 /opt/sublime_text/plugin_host 10939\\ntcloudo+ 11171  0.0  0.1  27552  6356 pts/16   Ss+  11:25   0:00 bash\\nroot     11376  0.0  0.2  23456 10208 ?        S    11:28   0:00 /sbin/dhclient -d -q -sf /usr/lib/NetworkManager/nm-dhcp-helper -pf /run/sendsigs.omit.d/network-manager.dhclient-enp0s3.pid -lf /var/lib/NetworkManager/dhclient-78397316-9f90-4857-932d-09ec5f9f7b42-enp0s3.lease -cf /var/lib/NetworkManager/dhclient-enp0s3.conf enp0s3\\nroot     15237  0.0  0.0      0     0 ?        S    12:20   0:00 [kworker/u2:1]\\nroot     15917  0.0  0.0      0     0 ?        S    12:31   0:00 [kworker/u2:2]\\ntcloudo+ 16212  0.2  1.1 343368 47072 pts/0    Sl+  12:35   0:11 /home/tcloudost/anaconda2/bin/python /home/tcloudost/anaconda2/bin/ipython notebook\\ntcloudo+ 16257  0.1  0.9 635544 38236 ?        Ssl  12:35   0:04 /home/tcloudost/anaconda2/bin/python -m ipykernel -f /run/user/1000/jupyter/kernel-e5b57e29-d0a7-4953-bc26-88463456cbb2.json\\ntcloudo+ 16320  0.2  1.2 692204 49308 ?        Sl   12:36   0:07 gedit /home/tcloudost/pythonexamples/batch21/python21/Untitled Document\\nroot     16381  0.0  0.0      0     0 ?        S    12:36   0:00 [kworker/0:0]\\nroot     18673  0.0  0.0      0     0 ?        S    13:14   0:00 [kworker/0:1]\\nroot     20025  0.0  0.0      0     0 ?        S    13:36   0:00 [kworker/u2:0]\\ntcloudo+ 20159  0.0  0.0  22676  2680 ?        R    13:38   0:00 ps -aux\\n'"
      ]
     },
     "execution_count": 82,
     "metadata": {},
     "output_type": "execute_result"
    }
   ],
   "source": [
    "ps"
   ]
  },
  {
   "cell_type": "code",
   "execution_count": 83,
   "metadata": {
    "collapsed": false
   },
   "outputs": [
    {
     "data": {
      "text/plain": [
       "['USER       PID %CPU %MEM    VSZ   RSS TTY      STAT START   TIME COMMAND',\n",
       " 'root         1  0.0  0.1 119444  5668 ?        Ss   09:24   0:03 /sbin/init splash',\n",
       " 'root         2  0.0  0.0      0     0 ?        S    09:24   0:00 [kthreadd]',\n",
       " 'root         3  0.0  0.0      0     0 ?        S    09:24   0:00 [ksoftirqd/0]',\n",
       " 'root         5  0.0  0.0      0     0 ?        S<   09:24   0:00 [kworker/0:0H]',\n",
       " 'root         7  0.0  0.0      0     0 ?        S    09:24   0:02 [rcu_sched]',\n",
       " 'root         8  0.0  0.0      0     0 ?        S    09:24   0:00 [rcu_bh]',\n",
       " 'root         9  0.0  0.0      0     0 ?        S    09:24   0:02 [rcuos/0]',\n",
       " 'root        10  0.0  0.0      0     0 ?        S    09:24   0:00 [rcuob/0]',\n",
       " 'root        11  0.0  0.0      0     0 ?        S    09:24   0:00 [migration/0]',\n",
       " 'root        12  0.0  0.0      0     0 ?        S    09:24   0:00 [watchdog/0]',\n",
       " 'root        13  0.0  0.0      0     0 ?        S<   09:24   0:00 [khelper]',\n",
       " 'root        14  0.0  0.0      0     0 ?        S    09:24   0:00 [kdevtmpfs]',\n",
       " 'root        15  0.0  0.0      0     0 ?        S<   09:24   0:00 [netns]',\n",
       " 'root        16  0.0  0.0      0     0 ?        S<   09:24   0:00 [perf]',\n",
       " 'root        17  0.0  0.0      0     0 ?        S    09:24   0:00 [khungtaskd]',\n",
       " 'root        18  0.0  0.0      0     0 ?        S<   09:24   0:00 [writeback]',\n",
       " 'root        19  0.0  0.0      0     0 ?        SN   09:24   0:00 [ksmd]',\n",
       " 'root        20  0.0  0.0      0     0 ?        SN   09:24   0:08 [khugepaged]',\n",
       " 'root        21  0.0  0.0      0     0 ?        S<   09:24   0:00 [crypto]',\n",
       " 'root        22  0.0  0.0      0     0 ?        S<   09:24   0:00 [kintegrityd]',\n",
       " 'root        23  0.0  0.0      0     0 ?        S<   09:24   0:00 [bioset]',\n",
       " 'root        24  0.0  0.0      0     0 ?        S<   09:24   0:00 [kblockd]',\n",
       " 'root        25  0.0  0.0      0     0 ?        S<   09:24   0:00 [ata_sff]',\n",
       " 'root        26  0.0  0.0      0     0 ?        S<   09:24   0:00 [md]',\n",
       " 'root        27  0.0  0.0      0     0 ?        S<   09:24   0:00 [devfreq_wq]',\n",
       " 'root        30  0.0  0.0      0     0 ?        S    09:24   0:00 [kswapd0]',\n",
       " 'root        31  0.0  0.0      0     0 ?        S<   09:24   0:00 [vmstat]',\n",
       " 'root        32  0.0  0.0      0     0 ?        S    09:24   0:00 [fsnotify_mark]',\n",
       " 'root        33  0.0  0.0      0     0 ?        S    09:24   0:00 [ecryptfs-kthrea]',\n",
       " 'root        44  0.0  0.0      0     0 ?        S<   09:24   0:00 [kthrotld]',\n",
       " 'root        45  0.0  0.0      0     0 ?        S<   09:24   0:00 [acpi_thermal_pm]',\n",
       " 'root        46  0.0  0.0      0     0 ?        S    09:24   0:00 [scsi_eh_0]',\n",
       " 'root        47  0.0  0.0      0     0 ?        S<   09:24   0:00 [scsi_tmf_0]',\n",
       " 'root        48  0.0  0.0      0     0 ?        S    09:24   0:00 [scsi_eh_1]',\n",
       " 'root        49  0.0  0.0      0     0 ?        S<   09:24   0:00 [scsi_tmf_1]',\n",
       " 'root        54  0.0  0.0      0     0 ?        S<   09:24   0:00 [ipv6_addrconf]',\n",
       " 'root        74  0.0  0.0      0     0 ?        S<   09:24   0:00 [deferwq]',\n",
       " 'root        75  0.0  0.0      0     0 ?        S<   09:24   0:00 [charger_manager]',\n",
       " 'root       114  0.0  0.0      0     0 ?        S<   09:24   0:00 [kpsmoused]',\n",
       " 'root       115  0.0  0.0      0     0 ?        S    09:24   0:00 [scsi_eh_2]',\n",
       " 'root       117  0.0  0.0      0     0 ?        S<   09:24   0:00 [scsi_tmf_2]',\n",
       " 'root       118  0.0  0.0      0     0 ?        S<   09:24   0:00 [kworker/0:1H]',\n",
       " 'root       144  0.0  0.0      0     0 ?        S    09:24   0:01 [jbd2/sda1-8]',\n",
       " 'root       145  0.0  0.0      0     0 ?        S<   09:24   0:00 [ext4-rsv-conver]',\n",
       " 'root       182  0.0  0.0      0     0 ?        S    09:24   0:00 [kauditd]',\n",
       " 'root       203  0.0  0.1  32344  4212 ?        Ss   09:24   0:01 /lib/systemd/systemd-journald',\n",
       " 'root       215  0.0  0.1  45568  4960 ?        Ss   09:24   0:00 /lib/systemd/systemd-udevd',\n",
       " 'systemd+   309  0.0  0.0 102356  2800 ?        Ssl  09:24   0:00 /lib/systemd/systemd-timesyncd',\n",
       " 'root       358  0.0  0.0      0     0 ?        S<   09:24   0:00 [iprt-VBoxWQueue]',\n",
       " 'avahi      510  0.0  0.0  40192  3444 ?        Ss   09:24   0:00 avahi-daemon: running [tcloudost-VirtualBox.local]',\n",
       " 'root       515  0.0  0.0  25180  2612 ?        Ss   09:24   0:00 /sbin/cgmanager -m name=systemd',\n",
       " 'message+   518  0.0  0.1  44236  5312 ?        Ss   09:24   0:03 /usr/bin/dbus-daemon --system --address=systemd: --nofork --nopidfile --systemd-activation',\n",
       " 'avahi      524  0.0  0.0  40068   320 ?        S    09:24   0:00 avahi-daemon: chroot helper',\n",
       " 'root       526  0.0  0.2 272356  8912 ?        Ssl  09:24   0:00 /usr/sbin/cups-browsed',\n",
       " 'whoopsie   527  0.0  0.3 521236 14440 ?        Ssl  09:24   0:00 /usr/bin/whoopsie -f',\n",
       " 'root       532  0.0  0.0  33124  3080 ?        Ss   09:24   0:00 /usr/sbin/cron -f',\n",
       " 'root       533  0.0  0.3 381620 14640 ?        Ssl  09:24   0:00 /usr/sbin/NetworkManager --no-daemon',\n",
       " 'syslog     537  0.0  0.0 256372  3688 ?        Ssl  09:25   0:00 /usr/sbin/rsyslogd -n',\n",
       " 'root       542  0.0  0.0  28600  3200 ?        Ss   09:25   0:00 /lib/systemd/systemd-logind',\n",
       " 'root       543  0.0  0.2 337240  8920 ?        Ssl  09:25   0:00 /usr/sbin/ModemManager',\n",
       " 'root       556  0.0  0.2 287292  9068 ?        Ssl  09:25   0:01 /usr/lib/accountsservice/accounts-daemon',\n",
       " 'root       616  0.0  0.2 285720  8432 ?        Ssl  09:25   0:00 /usr/lib/policykit-1/polkitd --no-debug',\n",
       " 'root       620  0.0  0.0 247744  2116 ?        Sl   09:25   0:06 /usr/sbin/VBoxService',\n",
       " 'root       639  0.0  0.1  69932  5960 ?        Ss   09:25   0:00 /usr/sbin/sshd -D',\n",
       " 'mysql      641  0.0  0.0   4476  1760 ?        Ss   09:25   0:00 /bin/sh /usr/bin/mysqld_safe',\n",
       " 'root       763  0.0  0.1  39192  5168 ?        Ss   09:25   0:00 /sbin/wpa_supplicant -u -s -O /run/wpa_supplicant',\n",
       " 'mysql     1009  0.0  3.0 729280 125020 ?       Sl   09:25   0:13 /usr/sbin/mysqld --basedir=/usr --datadir=/var/lib/mysql --plugin-dir=/usr/lib/mysql/plugin --log-error=/var/log/mysql/error.log --pid-file=/var/run/mysqld/mysqld.pid --socket=/var/run/mysqld/mysqld.sock --port=3306',\n",
       " 'postgres  1013  0.0  0.5 293636 23972 ?        S    09:25   0:00 /usr/lib/postgresql/9.4/bin/postgres -D /var/lib/postgresql/9.4/main -c config_file=/etc/postgresql/9.4/main/postgresql.conf',\n",
       " 'nobody    1018  0.0  0.1  52288  4060 ?        S    09:25   0:00 /usr/sbin/dnsmasq --no-resolv --keep-in-foreground --no-hosts --bind-interfaces --pid-file=/run/sendsigs.omit.d/network-manager.dnsmasq.pid --listen-address=127.0.1.1 --conf-file=/var/run/NetworkManager/dnsmasq.conf --cache-size=0 --proxy-dnssec --enable-dbus=org.freedesktop.NetworkManager.dnsmasq --conf-dir=/etc/NetworkManager/dnsmasq.d',\n",
       " 'kernoops  1211  0.0  0.0  45276  2632 ?        Ss   09:25   0:00 /usr/sbin/kerneloops',\n",
       " 'root      1360  0.0  0.1  73660  4980 ?        Ss   09:25   0:02 /usr/sbin/apache2 -k start',\n",
       " 'root      1449  0.0  0.1 352416  6228 ?        SLsl 09:25   0:00 /usr/sbin/lightdm',\n",
       " 'root      1460  7.0  2.5 333312 103596 tty7    Ss+  09:25  17:56 /usr/bin/X -core :0 -seat seat0 -auth /var/run/lightdm/root/:0 -nolisten tcp vt7 -novtswitch',\n",
       " 'postgres  1469  0.0  0.0 293636  3692 ?        Ss   09:25   0:00 postgres: checkpointer process                                                                                              ',\n",
       " 'postgres  1470  0.0  0.1 293636  5300 ?        Ss   09:25   0:00 postgres: writer process                                                                                                    ',\n",
       " 'postgres  1471  0.0  0.0 293636  3692 ?        Ss   09:25   0:00 postgres: wal writer process                                                                                                ',\n",
       " 'postgres  1472  0.0  0.1 294032  6296 ?        Ss   09:25   0:00 postgres: autovacuum launcher process                                                                                       ',\n",
       " 'postgres  1473  0.0  0.0 148780  3884 ?        Ss   09:25   0:00 postgres: stats collector process                                                                                           ',\n",
       " 'root      1480  0.0  0.0  20052  2148 tty1     Ss+  09:25   0:00 /sbin/agetty --noclear tty1 linux',\n",
       " 'root      1540  0.0  0.1 230224  6232 ?        Sl   09:25   0:00 lightdm --session-child 12 19',\n",
       " 'rtkit     1590  0.0  0.0 178820  2936 ?        SNsl 09:25   0:00 /usr/lib/rtkit/rtkit-daemon',\n",
       " 'root      1621  0.0  0.2 280088 10168 ?        Ssl  09:25   0:00 /usr/lib/upower/upowerd',\n",
       " 'colord    1632  0.0  0.2 305144 10888 ?        Ssl  09:25   0:00 /usr/lib/colord/colord',\n",
       " 'tcloudo+  1655  0.0  0.1  45164  5200 ?        Ss   09:26   0:00 /lib/systemd/systemd --user',\n",
       " 'tcloudo+  1656  0.0  0.0  60968  1756 ?        S    09:26   0:00 (sd-pam)         ',\n",
       " 'tcloudo+  1664  0.0  0.2 292392  9612 ?        Sl   09:26   0:00 /usr/bin/gnome-keyring-daemon --daemonize --login',\n",
       " 'tcloudo+  1666  0.0  0.1  45780  4532 ?        Ss   09:26   0:01 /sbin/upstart --user',\n",
       " 'tcloudo+  1743  0.0  0.0  49464  1360 ?        S    09:26   0:05 /usr/bin/VBoxClient --clipboard',\n",
       " 'tcloudo+  1749  0.0  0.0  49464  1388 ?        S    09:26   0:05 /usr/bin/VBoxClient --checkhostversion',\n",
       " 'tcloudo+  1756  0.0  0.0  49464  1348 ?        S    09:26   0:05 /usr/bin/VBoxClient --display',\n",
       " 'tcloudo+  1768  0.0  0.0  39016  1788 ?        S    09:26   0:00 dbus-launch --autolaunch=e51c7092bfbd4fb4ac8b04918ff33401 --binary-syntax --close-stderr',\n",
       " 'tcloudo+  1770  0.0  0.0  42860  3184 ?        Ss   09:26   0:00 /usr/bin/dbus-daemon --fork --print-pid 5 --print-address 7 --session',\n",
       " 'tcloudo+  1779  0.0  0.6 439336 27600 ?        Sl   09:26   0:03 /usr/lib/x86_64-linux-gnu/notify-osd',\n",
       " 'tcloudo+  1783  0.0  0.0  49464  1388 ?        S    09:26   0:04 /usr/bin/VBoxClient --seamless',\n",
       " 'tcloudo+  1790  0.0  0.0  49464  1392 ?        S    09:26   0:04 /usr/bin/VBoxClient --draganddrop',\n",
       " 'tcloudo+  1804  0.0  0.1 337956  5896 ?        Sl   09:26   0:00 /usr/lib/at-spi2-core/at-spi-bus-launcher',\n",
       " 'tcloudo+  1812  0.0  0.0  32296   256 ?        S    09:26   0:00 upstart-udev-bridge --daemon --user',\n",
       " 'tcloudo+  1820  0.0  0.0  42860  4012 ?        S    09:26   0:00 /usr/bin/dbus-daemon --config-file=/etc/at-spi2/accessibility.conf --nofork --print-address 3',\n",
       " 'tcloudo+  1825  0.0  0.1 206936  5416 ?        Sl   09:26   0:02 /usr/lib/at-spi2-core/at-spi2-registryd --use-gnome-session',\n",
       " 'tcloudo+  1835  0.0  0.1 271164  5448 ?        Sl   09:26   0:00 /usr/lib/gvfs/gvfsd',\n",
       " 'tcloudo+  1841  0.0  0.1 409032  7444 ?        Sl   09:26   0:00 /usr/lib/gvfs/gvfsd-fuse /run/user/1000/gvfs -f -o big_writes',\n",
       " 'tcloudo+  1842  0.0  0.1  43860  4448 ?        Ss   09:26   0:04 dbus-daemon --fork --session --address=unix:abstract=/tmp/dbus-ECXOvLHN4l',\n",
       " 'tcloudo+  1862  0.0  0.2  88176  9944 ?        Ss   09:26   0:00 /usr/lib/x86_64-linux-gnu/hud/window-stack-bridge',\n",
       " 'tcloudo+  1875  0.0  0.5 426996 21576 ?        Sl   09:26   0:02 /usr/bin/gnome-screensaver --no-daemon',\n",
       " 'tcloudo+  1893  0.0  0.6 512424 24776 ?        Sl   09:26   0:07 /usr/lib/x86_64-linux-gnu/bamf/bamfdaemon',\n",
       " 'tcloudo+  1915  0.0  0.1 623664  5968 ?        Sl   09:26   0:00 /usr/lib/gvfs/gvfsd',\n",
       " 'tcloudo+  1926  0.2  0.3 355360 13516 ?        Ssl  09:26   0:40 /usr/bin/ibus-daemon --daemonize --xim',\n",
       " 'tcloudo+  1935  0.0  0.0  32232  1708 ?        S    09:26   0:00 upstart-dbus-bridge --daemon --system --user --bus-name system',\n",
       " 'tcloudo+  1936  0.0  0.0  32360  1672 ?        S    09:26   0:01 upstart-dbus-bridge --daemon --session --user --bus-name session',\n",
       " 'tcloudo+  1937  0.0  0.0  40840  1876 ?        S    09:26   0:00 upstart-file-bridge --daemon --user',\n",
       " 'tcloudo+  1943  0.0  0.1 270504  6208 ?        Sl   09:26   0:00 /usr/lib/ibus/ibus-dconf',\n",
       " 'tcloudo+  1946  0.1  0.7 476368 31596 ?        Sl   09:26   0:15 /usr/lib/ibus/ibus-ui-gtk3',\n",
       " 'tcloudo+  1952  0.0  0.3 376796 15592 ?        Sl   09:26   0:00 /usr/lib/ibus/ibus-x11 --kill-daemon',\n",
       " 'tcloudo+  1962  0.0  1.1 715176 47056 ?        Ssl  09:26   0:14 /usr/lib/x86_64-linux-gnu/hud/hud-service',\n",
       " 'tcloudo+  1967  0.0  0.9 797488 37532 ?        Ssl  09:26   0:07 /usr/lib/unity-settings-daemon/unity-settings-daemon',\n",
       " 'tcloudo+  1976 10.8  6.1 1243100 247252 ?      Ssl  09:26  27:20 compiz',\n",
       " 'tcloudo+  1979  0.0  0.3 554600 14132 ?        Ssl  09:26   0:00 gnome-session --session=ubuntu',\n",
       " 'tcloudo+  1987  0.0  1.2 651112 49456 ?        Ssl  09:26   0:10 /usr/lib/unity/unity-panel-service',\n",
       " 'tcloudo+  1992  0.0  0.1 194768  6028 ?        Sl   09:26   0:10 /usr/lib/ibus/ibus-engine-simple',\n",
       " 'tcloudo+  1999  0.0  0.1 178628  4812 ?        Sl   09:26   0:00 /usr/lib/dconf/dconf-service',\n",
       " 'tcloudo+  2019  0.0  0.2 363548  9812 ?        Ssl  09:26   0:00 /usr/lib/x86_64-linux-gnu/indicator-messages/indicator-messages-service',\n",
       " 'tcloudo+  2020  0.0  0.1 337608  5480 ?        Ssl  09:26   0:00 /usr/lib/x86_64-linux-gnu/indicator-bluetooth/indicator-bluetooth-service',\n",
       " 'tcloudo+  2025  0.0  0.1 492492  8056 ?        Ssl  09:26   0:00 /usr/lib/x86_64-linux-gnu/indicator-power/indicator-power-service',\n",
       " 'tcloudo+  2028  0.0  0.4 775932 17888 ?        Ssl  09:26   0:00 /usr/lib/x86_64-linux-gnu/indicator-datetime/indicator-datetime-service',\n",
       " 'tcloudo+  2037  0.0  0.6 576476 27852 ?        Ssl  09:26   0:02 /usr/lib/x86_64-linux-gnu/indicator-keyboard/indicator-keyboard-service --use-gtk',\n",
       " 'tcloudo+  2041  0.0  0.3 475176 12784 ?        Ssl  09:26   0:00 /usr/lib/x86_64-linux-gnu/indicator-sound/indicator-sound-service',\n",
       " 'tcloudo+  2043  0.0  0.6 541692 24544 ?        Ssl  09:26   0:02 /usr/lib/x86_64-linux-gnu/indicator-printers/indicator-printers-service',\n",
       " 'tcloudo+  2051  0.0  0.2 631880  9280 ?        Ssl  09:26   0:00 /usr/lib/x86_64-linux-gnu/indicator-session/indicator-session-service',\n",
       " 'tcloudo+  2053  0.0  0.6 780804 24848 ?        Sl   09:26   0:00 /usr/lib/evolution/evolution-source-registry',\n",
       " 'tcloudo+  2059  0.0  0.2 395588 11812 ?        Ssl  09:26   0:00 /usr/lib/x86_64-linux-gnu/indicator-application/indicator-application-service',\n",
       " 'tcloudo+  2097  0.0  0.2 434344 11080 ?        S<l  09:26   0:00 /usr/bin/pulseaudio --start --log-target=syslog',\n",
       " 'tcloudo+  2118  0.2  1.3 1049500 56620 ?       Sl   09:26   0:41 nautilus -n',\n",
       " 'tcloudo+  2119  0.0  0.4 426128 19756 ?        Sl   09:26   0:01 /usr/lib/policykit-1-gnome/polkit-gnome-authentication-agent-1',\n",
       " 'tcloudo+  2124  0.0  0.5 573648 22948 ?        Sl   09:26   0:02 /usr/lib/unity-settings-daemon/unity-fallback-mount-helper',\n",
       " 'tcloudo+  2128  0.0  0.8 661980 35668 ?        Sl   09:26   0:02 nm-applet',\n",
       " 'tcloudo+  2138  0.0  0.1 289520  7732 ?        Sl   09:26   0:00 /usr/lib/gvfs/gvfs-udisks2-volume-monitor',\n",
       " 'tcloudo+  2141  0.0  1.5 859160 61008 ?        Sl   09:26   0:00 /usr/lib/evolution/evolution-calendar-factory',\n",
       " 'root      2147  0.0  0.2 367508  8492 ?        Ssl  09:26   0:00 /usr/lib/udisks2/udisksd --no-debug',\n",
       " 'tcloudo+  2149  0.0  0.1  66292  6412 ?        S    09:26   0:00 /usr/lib/x86_64-linux-gnu/gconf/gconfd-2',\n",
       " 'tcloudo+  2160  0.0  0.2 403172  8724 ?        Sl   09:26   0:00 /usr/lib/gvfs/gvfs-afc-volume-monitor',\n",
       " 'tcloudo+  2166  0.0  0.1 275816  5764 ?        Sl   09:26   0:00 /usr/lib/gvfs/gvfs-gphoto2-volume-monitor',\n",
       " 'tcloudo+  2171  0.0  0.1 263620  5204 ?        Sl   09:26   0:00 /usr/lib/gvfs/gvfs-mtp-volume-monitor',\n",
       " 'tcloudo+  2184  0.0  0.1 349772  6476 ?        Sl   09:26   0:00 /usr/lib/gvfs/gvfsd-trash --spawner :1.6 /org/gtk/gvfs/exec_spaw/0',\n",
       " 'tcloudo+  2195  0.0  0.5 783656 21676 ?        Sl   09:26   0:00 /usr/lib/evolution/evolution-calendar-factory-subprocess --factory contacts --bus-name org.gnome.evolution.dataserver.Subprocess.Backend.Calendarx2141x2 --own-path /org/gnome/evolution/dataserver/Subprocess/Backend/Calendar/2141/2',\n",
       " 'tcloudo+  2205  0.0  0.3 768032 15016 ?        Sl   09:26   0:00 /usr/lib/evolution/evolution-calendar-factory-subprocess --factory local --bus-name org.gnome.evolution.dataserver.Subprocess.Backend.Calendarx2141x3 --own-path /org/gnome/evolution/dataserver/Subprocess/Backend/Calendar/2141/3',\n",
       " 'tcloudo+  2207  0.0  0.4 692320 18288 ?        Sl   09:26   0:00 /usr/lib/evolution/evolution-addressbook-factory',\n",
       " 'tcloudo+  2226  0.0  0.4 776080 17812 ?        Sl   09:26   0:00 /usr/lib/evolution/evolution-addressbook-factory-subprocess --factory local --bus-name org.gnome.evolution.dataserver.Subprocess.Backend.AddressBookx2207x2 --own-path /org/gnome/evolution/dataserver/Subprocess/Backend/AddressBook/2207/2',\n",
       " 'tcloudo+  2233  0.0  0.1 344896  5960 ?        Sl   09:26   0:00 /usr/lib/gvfs/gvfsd-burn --spawner :1.6 /org/gtk/gvfs/exec_spaw/1',\n",
       " 'tcloudo+  2268  0.0  0.1 190516  5888 ?        Sl   09:26   0:00 /usr/lib/gvfs/gvfsd-metadata',\n",
       " 'tcloudo+  2277  0.0  0.5 549196 22960 ?        Sl   09:26   0:02 telepathy-indicator',\n",
       " 'tcloudo+  2285  0.0  0.3 424892 12860 ?        Sl   09:26   0:00 /usr/lib/telepathy/mission-control-5',\n",
       " 'tcloudo+  2309  0.0  0.3 412844 15956 ?        Sl   09:27   0:05 zeitgeist-datahub',\n",
       " 'tcloudo+  2317  0.0  0.2 412480  9704 ?        Sl   09:27   0:00 /usr/bin/zeitgeist-daemon',\n",
       " 'tcloudo+  2325  0.0  0.5 327380 23544 ?        Sl   09:27   0:01 /usr/lib/x86_64-linux-gnu/zeitgeist-fts',\n",
       " 'tcloudo+  2408  0.0  0.6 594568 27496 ?        Sl   09:27   0:02 update-notifier',\n",
       " 'tcloudo+  2517  0.0  0.2 589296  9504 ?        Sl   09:28   0:00 /usr/lib/x86_64-linux-gnu/deja-dup/deja-dup-monitor',\n",
       " 'www-data  2734  0.0  0.0  73660  3316 ?        S    09:30   0:00 /usr/sbin/apache2 -k start',\n",
       " 'www-data  2735  0.0  0.1 362820  6120 ?        Sl   09:30   0:08 /usr/sbin/apache2 -k start',\n",
       " 'www-data  2739  0.0  0.1 362820  6120 ?        Sl   09:30   0:08 /usr/sbin/apache2 -k start',\n",
       " 'root      2818  0.0  0.1  90212  6796 ?        Ss   09:30   0:00 /usr/sbin/cupsd -l',\n",
       " 'lp        2821  0.0  0.1  74192  5400 ?        S    09:30   0:00 /usr/lib/cups/notifier/dbus dbus:// ',\n",
       " 'lp        2823  0.0  0.1  74192  5300 ?        S    09:30   0:00 /usr/lib/cups/notifier/dbus dbus:// ',\n",
       " 'tcloudo+  3037  9.5 14.4 1455808 585884 ?      Rl   09:32  23:21 /usr/lib/firefox/firefox',\n",
       " 'tcloudo+  3705  0.0  0.7 741616 29728 ?        Sl   09:41   0:01 /usr/lib/x86_64-linux-gnu/unity-scope-home/unity-scope-home',\n",
       " 'uuidd     3714  0.0  0.0  27592  1204 ?        Ss   09:41   0:00 /usr/sbin/uuidd --socket-activation',\n",
       " 'tcloudo+  3720  0.0  0.6 583328 25604 ?        Sl   09:41   0:02 /usr/bin/unity-scope-loader applications/applications.scope applications/scopes.scope commands.scope',\n",
       " 'tcloudo+  3722  0.0  0.3 710248 15312 ?        Sl   09:41   0:03 /usr/lib/x86_64-linux-gnu/unity-lens-files/unity-files-daemon',\n",
       " 'tcloudo+  3726  0.0  0.3 339340 13616 ?        Sl   09:41   0:01 /usr/lib/x86_64-linux-gnu/unity-lens-music/unity-music-daemon',\n",
       " 'tcloudo+  3777  0.0  0.5 714324 22412 ?        Sl   09:41   0:00 /usr/lib/gvfs/gvfsd-http --spawner :1.6 /org/gtk/gvfs/exec_spaw/2',\n",
       " 'tcloudo+ 10442  0.0  0.7 486348 30816 ?        Sl   11:19   0:02 /usr/lib/x86_64-linux-gnu/notify-osd',\n",
       " 'tcloudo+ 10760  0.0  0.9 647932 39092 ?        Sl   11:21   0:06 /usr/lib/gnome-terminal/gnome-terminal-server',\n",
       " 'tcloudo+ 10772  0.0  0.0  14852  1948 ?        S    11:21   0:00 gnome-pty-helper',\n",
       " 'tcloudo+ 10773  0.0  0.1  27544  6304 pts/0    Ss   11:21   0:00 bash',\n",
       " 'tcloudo+ 10939  0.5  1.6 1376396 65096 ?       Ssl  11:23   0:47 /opt/sublime_text/sublime_text',\n",
       " 'tcloudo+ 10953  0.0  1.0 240084 42732 ?        Sl   11:23   0:06 /opt/sublime_text/plugin_host 10939',\n",
       " 'tcloudo+ 11171  0.0  0.1  27552  6356 pts/16   Ss+  11:25   0:00 bash',\n",
       " 'root     11376  0.0  0.2  23456 10208 ?        S    11:28   0:00 /sbin/dhclient -d -q -sf /usr/lib/NetworkManager/nm-dhcp-helper -pf /run/sendsigs.omit.d/network-manager.dhclient-enp0s3.pid -lf /var/lib/NetworkManager/dhclient-78397316-9f90-4857-932d-09ec5f9f7b42-enp0s3.lease -cf /var/lib/NetworkManager/dhclient-enp0s3.conf enp0s3',\n",
       " 'root     15237  0.0  0.0      0     0 ?        S    12:20   0:00 [kworker/u2:1]',\n",
       " 'root     15917  0.0  0.0      0     0 ?        S    12:31   0:00 [kworker/u2:2]',\n",
       " 'tcloudo+ 16212  0.2  1.1 343368 47072 pts/0    Sl+  12:35   0:11 /home/tcloudost/anaconda2/bin/python /home/tcloudost/anaconda2/bin/ipython notebook',\n",
       " 'tcloudo+ 16257  0.1  0.9 635544 38236 ?        Ssl  12:35   0:04 /home/tcloudost/anaconda2/bin/python -m ipykernel -f /run/user/1000/jupyter/kernel-e5b57e29-d0a7-4953-bc26-88463456cbb2.json',\n",
       " 'tcloudo+ 16320  0.2  1.2 692204 49308 ?        Sl   12:36   0:07 gedit /home/tcloudost/pythonexamples/batch21/python21/Untitled Document',\n",
       " 'root     16381  0.0  0.0      0     0 ?        S    12:36   0:00 [kworker/0:0]',\n",
       " 'root     18673  0.0  0.0      0     0 ?        S    13:14   0:00 [kworker/0:1]',\n",
       " 'root     20025  0.0  0.0      0     0 ?        S    13:36   0:00 [kworker/u2:0]',\n",
       " 'tcloudo+ 20159  0.0  0.0  22676  2680 ?        R    13:38   0:00 ps -aux',\n",
       " '']"
      ]
     },
     "execution_count": 83,
     "metadata": {},
     "output_type": "execute_result"
    }
   ],
   "source": [
    "ps.split('\\n')"
   ]
  },
  {
   "cell_type": "code",
   "execution_count": 84,
   "metadata": {
    "collapsed": true
   },
   "outputs": [],
   "source": [
    "lines = ps.split('\\n')"
   ]
  },
  {
   "cell_type": "code",
   "execution_count": 85,
   "metadata": {
    "collapsed": false
   },
   "outputs": [
    {
     "data": {
      "text/plain": [
       "188"
      ]
     },
     "execution_count": 85,
     "metadata": {},
     "output_type": "execute_result"
    }
   ],
   "source": [
    "len(lines)"
   ]
  },
  {
   "cell_type": "code",
   "execution_count": 86,
   "metadata": {
    "collapsed": false
   },
   "outputs": [
    {
     "data": {
      "text/plain": [
       "'USER       PID %CPU %MEM    VSZ   RSS TTY      STAT START   TIME COMMAND'"
      ]
     },
     "execution_count": 86,
     "metadata": {},
     "output_type": "execute_result"
    }
   ],
   "source": [
    "lines[0]"
   ]
  },
  {
   "cell_type": "code",
   "execution_count": 87,
   "metadata": {
    "collapsed": false
   },
   "outputs": [
    {
     "data": {
      "text/plain": [
       "'root         1  0.0  0.1 119444  5668 ?        Ss   09:24   0:03 /sbin/init splash'"
      ]
     },
     "execution_count": 87,
     "metadata": {},
     "output_type": "execute_result"
    }
   ],
   "source": [
    "lines[1]"
   ]
  },
  {
   "cell_type": "code",
   "execution_count": 88,
   "metadata": {
    "collapsed": false
   },
   "outputs": [
    {
     "name": "stdout",
     "output_type": "stream",
     "text": [
      "tcloudo+  3037  9.5 14.4 1455808 585884 ?      Rl   09:32  23:21 /usr/lib/firefox/firefox\n"
     ]
    }
   ],
   "source": [
    "for ps in lines:\n",
    "    if \"firefox\" in ps:\n",
    "        print ps"
   ]
  },
  {
   "cell_type": "code",
   "execution_count": 89,
   "metadata": {
    "collapsed": false
   },
   "outputs": [
    {
     "name": "stdout",
     "output_type": "stream",
     "text": [
      "['tcloudo+', '3037', '9.5', '14.4', '1455808', '585884', '?', 'Rl', '09:32', '23:21', '/usr/lib/firefox/firefox']\n"
     ]
    }
   ],
   "source": [
    "for ps in lines:\n",
    "    if \"firefox\" in ps:\n",
    "        print ps.split()"
   ]
  },
  {
   "cell_type": "code",
   "execution_count": 90,
   "metadata": {
    "collapsed": false
   },
   "outputs": [
    {
     "name": "stdout",
     "output_type": "stream",
     "text": [
      "3037\n"
     ]
    }
   ],
   "source": [
    "pid = None\n",
    "for ps in lines:\n",
    "    if \"firefox\" in ps:\n",
    "        pid = ps.split()[1]\n",
    "print pid"
   ]
  },
  {
   "cell_type": "code",
   "execution_count": 91,
   "metadata": {
    "collapsed": false
   },
   "outputs": [
    {
     "data": {
      "text/plain": [
       "(<paramiko.ChannelFile from <paramiko.Channel 0 (open) window=2097152 -> <paramiko.Transport at 0x85fe3490L (cipher aes128-ctr, 128 bits) (active; 1 open channel(s))>>>,\n",
       " <paramiko.ChannelFile from <paramiko.Channel 0 (open) window=2097152 -> <paramiko.Transport at 0x85fe3490L (cipher aes128-ctr, 128 bits) (active; 1 open channel(s))>>>,\n",
       " <paramiko.ChannelFile from <paramiko.Channel 0 (open) window=2097152 -> <paramiko.Transport at 0x85fe3490L (cipher aes128-ctr, 128 bits) (active; 1 open channel(s))>>>)"
      ]
     },
     "execution_count": 91,
     "metadata": {},
     "output_type": "execute_result"
    }
   ],
   "source": [
    "import paramiko as pmk\n",
    "ssh = pmk.SSHClient()\n",
    "ssh.set_missing_host_key_policy(pmk.AutoAddPolicy())\n",
    "ssh.connect(\"localhost\",username=\"tcloudost\",password=\"pythonrocks\")\n",
    "ssh.exec_command('mkdir ~/paramiko123')"
   ]
  },
  {
   "cell_type": "code",
   "execution_count": 92,
   "metadata": {
    "collapsed": true
   },
   "outputs": [],
   "source": [
    "import os"
   ]
  },
  {
   "cell_type": "code",
   "execution_count": 93,
   "metadata": {
    "collapsed": true
   },
   "outputs": [],
   "source": [
    "import sys"
   ]
  },
  {
   "cell_type": "code",
   "execution_count": null,
   "metadata": {
    "collapsed": true
   },
   "outputs": [],
   "source": [
    "sys."
   ]
  }
 ],
 "metadata": {
  "kernelspec": {
   "display_name": "Python 2",
   "language": "python",
   "name": "python2"
  },
  "language_info": {
   "codemirror_mode": {
    "name": "ipython",
    "version": 2
   },
   "file_extension": ".py",
   "mimetype": "text/x-python",
   "name": "python",
   "nbconvert_exporter": "python",
   "pygments_lexer": "ipython2",
   "version": "2.7.11"
  }
 },
 "nbformat": 4,
 "nbformat_minor": 0
}
